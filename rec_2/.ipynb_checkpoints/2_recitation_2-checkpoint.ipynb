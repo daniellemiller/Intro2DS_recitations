{
 "cells": [
  {
   "cell_type": "markdown",
   "metadata": {},
   "source": [
    "# <div dir=rtl> תרגול 2- numpy & pandas </div>\n",
    "<div dir=rtl>\n",
    "    נסקור שתי חבילות מרכזיות שיהוו את הבסיס לעבודה עם דאטה בקורס <br />\n",
    "    - numpy : חבילה לביצוע פעולות מתמטיות: מערכים, מטריצות וכו <br />\n",
    "    - pandas : חבילה לעבודה עם דאטה טבלאי\n",
    "    \n",
    "</div>"
   ]
  },
  {
   "cell_type": "markdown",
   "metadata": {},
   "source": [
    "# <div dir=rtl> חבילות - numpy </div>\n",
    "\n"
   ]
  },
  {
   "cell_type": "markdown",
   "metadata": {},
   "source": [
    "## <div dir=rtl> פעולות אלגבריות </div>\n",
    "<div dir=rtl>\n",
    "    כל הפעולות האלגבריות מאלגברה לינארית תקפות כאן, בתנאי שהן מוגדרות.\n",
    "</div>"
   ]
  },
  {
   "cell_type": "code",
   "execution_count": 1,
   "metadata": {},
   "outputs": [],
   "source": [
    "import numpy as np"
   ]
  },
  {
   "cell_type": "code",
   "execution_count": 2,
   "metadata": {},
   "outputs": [
    {
     "name": "stdout",
     "output_type": "stream",
     "text": [
      "Matrix number 1:\n",
      "[[1 2 3]\n",
      " [4 5 6]\n",
      " [7 8 9]]\n",
      "Matrix number 2:\n",
      "[[1. 1. 1.]\n",
      " [1. 1. 1.]\n",
      " [1. 1. 1.]\n",
      " [1. 1. 1.]]\n"
     ]
    },
    {
     "ename": "ValueError",
     "evalue": "shapes (3,3) and (4,3) not aligned: 3 (dim 1) != 4 (dim 0)",
     "output_type": "error",
     "traceback": [
      "\u001b[0;31m---------------------------------------------------------------------------\u001b[0m",
      "\u001b[0;31mValueError\u001b[0m                                Traceback (most recent call last)",
      "\u001b[0;32m<ipython-input-2-3613c93f3d68>\u001b[0m in \u001b[0;36m<module>\u001b[0;34m\u001b[0m\n\u001b[1;32m      9\u001b[0m \u001b[0;34m\u001b[0m\u001b[0m\n\u001b[1;32m     10\u001b[0m \u001b[0;31m# x * x2\u001b[0m\u001b[0;34m\u001b[0m\u001b[0;34m\u001b[0m\u001b[0;34m\u001b[0m\u001b[0m\n\u001b[0;32m---> 11\u001b[0;31m \u001b[0mnp\u001b[0m\u001b[0;34m.\u001b[0m\u001b[0mdot\u001b[0m\u001b[0;34m(\u001b[0m\u001b[0mx\u001b[0m\u001b[0;34m,\u001b[0m\u001b[0mx2\u001b[0m\u001b[0;34m)\u001b[0m\u001b[0;34m\u001b[0m\u001b[0;34m\u001b[0m\u001b[0m\n\u001b[0m",
      "\u001b[0;32m<__array_function__ internals>\u001b[0m in \u001b[0;36mdot\u001b[0;34m(*args, **kwargs)\u001b[0m\n",
      "\u001b[0;31mValueError\u001b[0m: shapes (3,3) and (4,3) not aligned: 3 (dim 1) != 4 (dim 0)"
     ]
    }
   ],
   "source": [
    "x = np.array([1,2,3,4,5,6,7,8,9]).reshape((3,3))\n",
    "x2= np.ones((4,3))\n",
    "\n",
    "print(\"Matrix number 1:\")\n",
    "print(x)\n",
    "\n",
    "print(\"Matrix number 2:\")\n",
    "print(x2)\n",
    "\n",
    "# x * x2\n",
    "np.dot(x,x2)"
   ]
  },
  {
   "cell_type": "markdown",
   "metadata": {},
   "source": [
    "<div dir=rtl>\n",
    "    כמובן לפי חוקי אלגברה לינארית זה לא מוגדר....\n",
    "</div>"
   ]
  },
  {
   "cell_type": "code",
   "execution_count": 3,
   "metadata": {},
   "outputs": [
    {
     "data": {
      "text/plain": [
       "array([[ 6.,  6.,  6.,  6.],\n",
       "       [15., 15., 15., 15.],\n",
       "       [24., 24., 24., 24.]])"
      ]
     },
     "execution_count": 3,
     "metadata": {},
     "output_type": "execute_result"
    }
   ],
   "source": [
    "np.dot(x,x2.T)"
   ]
  },
  {
   "cell_type": "markdown",
   "metadata": {},
   "source": [
    "## <div dir=rtl>  ווקטוריזציה ופונקציות אוניברסליות</div>\n",
    "<div dir=rtl>\n",
    "    שיטת תכנות בה מחליפים לולאות בפעולות על מטריצה נקראת ווקטוריזציה. <br />\n",
    "    פונקציות אוניברסליות (או ufunc) הן פונקציות אשר פועלות על כל אלמנט בנפרד. <br />\n",
    "    פעולות מטריציוניות ופונקציות אוניברסליות בנאמפיי ממומשות באופן מאוד יעיל ויכולות לחסוך זמן חישוב באופן משמעותי, עד כדי כך שחישובים מסויימים יכולים להיות בלתי אפשריים בלעדיהם.<br />\n",
    "    פונקציות אוניברסליות שימושיות:\n",
    "</div>\n",
    "\n",
    " - add/subtract ( + / - )\n",
    " - multiply ( * )\n",
    " - devide ( / )\n",
    " - maximum\n",
    " - minimum\n",
    " - exp\n",
    " - power\n",
    " - ...\n",
    " \n",
    "https://docs.scipy.org/doc/numpy/reference/ufuncs.html#available-ufuncs\n",
    "\n",
    "<br />\n",
    "\n",
    "<div dir=rtl>\n",
    "עוד על וקטוריזציות (ואת דוגמת הקוד הבאה) ניתן למצוא בקישור הבא: <br />\n",
    "    <a>https://www.kaggle.com/kanncaa1/vectorization-vs-non-vectorization</a>\n",
    "</div>"
   ]
  },
  {
   "cell_type": "code",
   "execution_count": 4,
   "metadata": {},
   "outputs": [
    {
     "name": "stdout",
     "output_type": "stream",
     "text": [
      "np.array + operator result: [11 13 15]\n",
      "list + operator result: [1, 2, 3, 10, 11, 12]\n"
     ]
    }
   ],
   "source": [
    "arr1 = np.arange(1,4)\n",
    "arr2 = np.arange(10,13)\n",
    "\n",
    "lst1 = [1,2,3]\n",
    "lst2 = [10,11,12]\n",
    "\n",
    "print(\"np.array + operator result:\", arr1+arr2)\n",
    "print(\"list + operator result:\", lst1+lst2)"
   ]
  },
  {
   "cell_type": "code",
   "execution_count": 5,
   "metadata": {},
   "outputs": [
    {
     "name": "stdout",
     "output_type": "stream",
     "text": [
      "Non-vectorized version calculation result:  2499952.0787931434\n",
      "Non-vectorized version process time: 4112.77174949646 ms\n",
      "\n",
      "Vectorized version calculation result:  2499952.0787929036\n",
      "Vectorized version process time: 10.734081268310547 ms\n"
     ]
    }
   ],
   "source": [
    "import time\n",
    "\n",
    "# Two arrays with 10 million dimensions\n",
    "a = np.random.rand(10000000)\n",
    "b = np.random.rand(10000000)\n",
    "\n",
    "# Non-vectorized\n",
    "c = 0\n",
    "tic = time.time()\n",
    "for i in range(len(a)):\n",
    "    c += a[i]*b[i]\n",
    "toc = time.time()\n",
    "print('Non-vectorized version calculation result: ',c)\n",
    "print('Non-vectorized version process time: '+ str((toc-tic)*1000)+ ' ms')\n",
    "print()\n",
    "\n",
    "# Vectorized\n",
    "tic = time.time()\n",
    "c = np.dot(a,b)\n",
    "toc = time.time()\n",
    "print('Vectorized version calculation result: ',c)\n",
    "print('Vectorized version process time: '+ str((toc-tic)*1000)+ ' ms')\n"
   ]
  },
  {
   "cell_type": "markdown",
   "metadata": {},
   "source": [
    "<div dir=rtl>\n",
    "     אחרי שהשתכנענו שnumpy זו חבילה מאוד חשובה נכיר חבילה נוספת אשר מיועדת לשרטוט ולהצגה של גראפים <code>matplotlib</code> . <br />\n",
    "\n",
    "</div>"
   ]
  },
  {
   "cell_type": "code",
   "execution_count": 6,
   "metadata": {},
   "outputs": [],
   "source": [
    "import matplotlib.pyplot as plt"
   ]
  },
  {
   "cell_type": "code",
   "execution_count": 7,
   "metadata": {},
   "outputs": [],
   "source": [
    "plt.plot?"
   ]
  },
  {
   "cell_type": "code",
   "execution_count": 8,
   "metadata": {},
   "outputs": [
    {
     "data": {
      "image/png": "[encoded data removed]",
      "text/plain": [
       "<Figure size 432x288 with 1 Axes>"
      ]
     },
     "metadata": {
      "needs_background": "light"
     },
     "output_type": "display_data"
    }
   ],
   "source": [
    "x = np.arange(14)\n",
    "\n",
    "plt.plot(x, np.exp(x))\n",
    "plt.xlabel('x')\n",
    "plt.ylabel('exp(x)')\n",
    "plt.title('A nice example of a ufunc to start with')\n",
    "plt.show()"
   ]
  },
  {
   "cell_type": "markdown",
   "metadata": {},
   "source": [
    "### <div dir=rtl> שאלה 1</div>\n",
    "<div dir=rtl>\n",
    "     ינאי הבוטנאי יצא אל השדה כדי לבחון מינים של אירוסים. הוא בחן 150 פרחי אירוס משלושה מינים שונים ועבורם מדד את אורך ורוחב עלי הגביע (sepal) ואת אורך ורוחב עלי הכותרת (petal). <br />\n",
    "    א. שרטטו דיאגרמת פיזור של כל פרט המתארת את אורך עלי הכותרת כתלות באורך עלי הגביע\n",
    "</div>"
   ]
  },
  {
   "cell_type": "code",
   "execution_count": 9,
   "metadata": {},
   "outputs": [
    {
     "name": "stdout",
     "output_type": "stream",
     "text": [
      ".. _iris_dataset:\n",
      "\n",
      "Iris plants dataset\n",
      "--------------------\n",
      "\n",
      "**Data Set Characteristics:**\n",
      "\n",
      "    :Number of Instances: 150 (50 in each of three classes)\n",
      "    :Number of Attributes: 4 numeric, predictive attributes and the class\n",
      "    :Attribute Information:\n",
      "        - sepal length in cm\n",
      "        - sepal width in cm\n",
      "        - petal length in cm\n",
      "        - petal width in cm\n",
      "        - class:\n",
      "                - Iris-Setosa\n",
      "                - Iris-Versicolour\n",
      "                - Iris-Virginica\n",
      "                \n",
      "    :Summary Statistics:\n",
      "\n",
      "    ============== ==== ==== ======= ===== ====================\n",
      "                    Min  Max   Mean    SD   Class Correlation\n",
      "    ============== ==== ==== ======= ===== ====================\n",
      "    sepal length:   4.3  7.9   5.84   0.83    0.7826\n",
      "    sepal width:    2.0  4.4   3.05   0.43   -0.4194\n",
      "    petal length:   1.0  6.9   3.76   1.76    0.9490  (high!)\n",
      "    petal width:    0.1  2.5   1.20   0.76    0.9565  (high!)\n",
      "    ============== ==== ==== ======= ===== ====================\n",
      "\n",
      "    :Missing Attribute Values: None\n",
      "    :Class Distribution: 33.3% for each of 3 classes.\n",
      "    :Creator: R.A. Fisher\n",
      "    :Donor: Michael Marshall (MARSHALL%PLU@io.arc.nasa.gov)\n",
      "    :Date: July, 1988\n",
      "\n",
      "The famous Iris database, first used by Sir R.A. Fisher. The dataset is taken\n",
      "from Fisher's paper. Note that it's the same as in R, but not as in the UCI\n",
      "Machine Learning Repository, which has two wrong data points.\n",
      "\n",
      "This is perhaps the best known database to be found in the\n",
      "pattern recognition literature.  Fisher's paper is a classic in the field and\n",
      "is referenced frequently to this day.  (See Duda & Hart, for example.)  The\n",
      "data set contains 3 classes of 50 instances each, where each class refers to a\n",
      "type of iris plant.  One class is linearly separable from the other 2; the\n",
      "latter are NOT linearly separable from each other.\n",
      "\n",
      ".. topic:: References\n",
      "\n",
      "   - Fisher, R.A. \"The use of multiple measurements in taxonomic problems\"\n",
      "     Annual Eugenics, 7, Part II, 179-188 (1936); also in \"Contributions to\n",
      "     Mathematical Statistics\" (John Wiley, NY, 1950).\n",
      "   - Duda, R.O., & Hart, P.E. (1973) Pattern Classification and Scene Analysis.\n",
      "     (Q327.D83) John Wiley & Sons.  ISBN 0-471-22361-1.  See page 218.\n",
      "   - Dasarathy, B.V. (1980) \"Nosing Around the Neighborhood: A New System\n",
      "     Structure and Classification Rule for Recognition in Partially Exposed\n",
      "     Environments\".  IEEE Transactions on Pattern Analysis and Machine\n",
      "     Intelligence, Vol. PAMI-2, No. 1, 67-71.\n",
      "   - Gates, G.W. (1972) \"The Reduced Nearest Neighbor Rule\".  IEEE Transactions\n",
      "     on Information Theory, May 1972, 431-433.\n",
      "   - See also: 1988 MLC Proceedings, 54-64.  Cheeseman et al\"s AUTOCLASS II\n",
      "     conceptual clustering system finds 3 classes in the data.\n",
      "   - Many, many more ...\n",
      "dict_keys(['data', 'target', 'frame', 'target_names', 'DESCR', 'feature_names', 'filename'])\n"
     ]
    }
   ],
   "source": [
    "from sklearn import datasets\n",
    "iris = datasets.load_iris()\n",
    "print(iris['DESCR'])\n",
    "print(iris.keys())"
   ]
  },
  {
   "cell_type": "code",
   "execution_count": 10,
   "metadata": {},
   "outputs": [
    {
     "data": {
      "text/plain": [
       "['sepal length (cm)',\n",
       " 'sepal width (cm)',\n",
       " 'petal length (cm)',\n",
       " 'petal width (cm)']"
      ]
     },
     "execution_count": 10,
     "metadata": {},
     "output_type": "execute_result"
    }
   ],
   "source": [
    "iris['feature_names']"
   ]
  },
  {
   "cell_type": "code",
   "execution_count": 12,
   "metadata": {},
   "outputs": [
    {
     "data": {
      "image/png": "[encoded data removed]",
      "text/plain": [
       "<Figure size 1080x720 with 1 Axes>"
      ]
     },
     "metadata": {
      "needs_background": "light"
     },
     "output_type": "display_data"
    }
   ],
   "source": [
    "plt.figure(figsize=(15,10))\n",
    "#plt.scatter(iris.data[:,0], iris.data[:,2])\n",
    "plt.scatter(iris.data[:,0], iris.data[:,2], c=iris.target)\n",
    "plt.xlabel('sepal length (cm)', fontsize = 18)\n",
    "plt.ylabel('petal length (cm)', fontsize = 18)\n",
    "plt.show()"
   ]
  },
  {
   "cell_type": "markdown",
   "metadata": {},
   "source": [
    "<div dir=rtl>\n",
    "    את הפרמטרים שקובעים את גודל הגרף הדיפולטי, וכמו כן את גדלי הפונטים ניתן להגדיר ב<code>plt.rcParams</code> <br />\n",
    "    זה ימנע מאיתנו את הצורך להגדיר זאת מחדש בכל גרף\n",
    "</div>"
   ]
  },
  {
   "cell_type": "code",
   "execution_count": 13,
   "metadata": {},
   "outputs": [],
   "source": [
    "params = {'legend.fontsize': 'x-large',\n",
    "          'figure.figsize': (15, 10),\n",
    "         'axes.labelsize': 'x-large',\n",
    "         'axes.titlesize':'x-large',\n",
    "         'xtick.labelsize':'x-large',\n",
    "         'ytick.labelsize':'x-large'}\n",
    "plt.rcParams.update(params)"
   ]
  },
  {
   "cell_type": "markdown",
   "metadata": {},
   "source": [
    "<div dir=rtl>\n",
    "     ב. בדרכו חזרה הבייתה נתקל ינאי בשלושה פרחי אירוס בערוגה. מיד מדד אותם ורשם במחברת. כך:\n",
    "</div>\n",
    "\n",
    "| sepal length (cm) | sepal width (cm) | petal length (cm) | petal width (cm) |\n",
    "|------|------|------|------|\n",
    "| 6.0 | 5.5 | 1.2 | 0.9 |\n",
    "| 6.2 | 0.5 | 2.3 | 9.0 |\n",
    "| 7.0 | 3.0 | 7.0 | 3.1 |\n",
    "\n",
    "<br />\n",
    "<br />\n",
    "<div dir=rtl>\n",
    "     מכיוון שהתוצאות שהתקבלו היו חריגות ינאי היה מבולבל. <br />\n",
    "    שרטטו גם את שלוש המדידות על דיאגרמת הפיזור וחשבו לכל מדידה את מרחקה בדיאגרמה מכל אחת מהמדידות האחרות.\n",
    "</div>"
   ]
  },
  {
   "cell_type": "code",
   "execution_count": 14,
   "metadata": {},
   "outputs": [],
   "source": [
    "plant_measurements = np.array([\n",
    "    [ 6.0 , 5.5 , 1.2 , 0.9 ],\n",
    "    [ 6.2 , 0.5 , 2.3 , 9.0 ],\n",
    "    [ 7.0 , 3.0 , 7.0 , 3.1 ]\n",
    "]\n",
    ")"
   ]
  },
  {
   "cell_type": "code",
   "execution_count": 15,
   "metadata": {},
   "outputs": [
    {
     "data": {
      "image/png": "[encoded data removed]",
      "text/plain": [
       "<Figure size 1080x720 with 1 Axes>"
      ]
     },
     "metadata": {
      "needs_background": "light"
     },
     "output_type": "display_data"
    }
   ],
   "source": [
    "plt.figure\n",
    "plt.scatter(iris.data[:,0], iris.data[:,2], c=iris.target)\n",
    "plt.scatter(plant_measurements[:,0], plant_measurements[:,2], marker='X', c='r', s=200)\n",
    "plt.xlabel('sepal length (cm)')\n",
    "plt.ylabel('petal length (cm)')\n",
    "plt.show()"
   ]
  },
  {
   "cell_type": "markdown",
   "metadata": {},
   "source": [
    "<div dir=rtl>\n",
    "    קל לראות בגרף שהתוצאות אכן חריגות - נעבור לחשב את המרחק של כל אחת מהמהמדידות לכל אחת מהתצפיות ב<code>iris</code> <br />\n",
    "    פתרון \"נאיבי\" - שתי לולאות. <br />\n",
    "    יקר חישובית אבל קל להבנה אינטואיטיבית:\n",
    "    \n",
    "</div>"
   ]
  },
  {
   "cell_type": "code",
   "execution_count": 16,
   "metadata": {},
   "outputs": [],
   "source": [
    "def distance_two_loops(a, b):\n",
    "    '''\n",
    "    a:\n",
    "        numpy array [Na x 2]\n",
    "    b:\n",
    "        numpy array [Nb x 2]\n",
    "        \n",
    "    returns:\n",
    "        numpy array [Na x Nb]\n",
    "    '''\n",
    "    \n",
    "    out = np.zeros((a.shape[0], b.shape[0]))\n",
    "    \n",
    "    for i in range(a.shape[0]):\n",
    "        for j in range(b.shape[0]):\n",
    "            dist = np.sqrt(np.power((a[i,:] - b[j,:]), 2).sum())\n",
    "            out[i,j] = dist\n",
    "            \n",
    "    return out"
   ]
  },
  {
   "cell_type": "code",
   "execution_count": 17,
   "metadata": {},
   "outputs": [
    {
     "name": "stdout",
     "output_type": "stream",
     "text": [
      "[[0.92195445 1.42126704 5.91354378]\n",
      " [1.11803399 1.58113883 5.98080262]\n",
      " [1.30384048 1.80277564 6.14654374]\n",
      " [1.43178211 1.78885438 6.00083328]\n",
      " [1.0198039  1.5        5.9464275 ]]\n"
     ]
    }
   ],
   "source": [
    "distances = distance_two_loops(iris.data[:,[0,2]], plant_measurements[:,[0,2]])\n",
    "print(distances[:5,:])"
   ]
  },
  {
   "cell_type": "markdown",
   "metadata": {},
   "source": [
    "<div dir=rtl>\n",
    "    בעזרת הפונקציה חישבנו את המרחק האוקלידי בין כל תצפית ב<code>iris data</code> לבין כל תצפית של ינאי. <br / >\n",
    "    נבדוק כמה זמן לוקח לפונקציה לרוץ.\n",
    "    \n",
    "</div>"
   ]
  },
  {
   "cell_type": "code",
   "execution_count": 18,
   "metadata": {},
   "outputs": [
    {
     "name": "stdout",
     "output_type": "stream",
     "text": [
      "3.68 ms ± 136 µs per loop (mean ± std. dev. of 7 runs, 100 loops each)\n"
     ]
    }
   ],
   "source": [
    "%timeit distance_two_loops(iris.data[:,[0,2]], plant_measurements[:,[0,2]])"
   ]
  },
  {
   "cell_type": "markdown",
   "metadata": {},
   "source": [
    "<div dir=rtl>\n",
    "    לכאורה לא הרבה זמן אבל מה היה קורה אם היה לנו אלף רשומות בדאטאסט? מליון? <br />\n",
    "</div>"
   ]
  },
  {
   "cell_type": "markdown",
   "metadata": {},
   "source": [
    "<div dir=rtl>\n",
    "    אנחנו מחשבים את המרחק כך:\n",
    "</div>\n",
    "\\begin{align}\n",
    "dist(x,y) & =  \\sqrt{\\sum_{d}^D{(x_d - y_d)^2 }} \\\\\n",
    "\\end{align}\n",
    "\n",
    "<div dir=rtl>\n",
    "    עבור מרחב בעל D מימדים. <br />\n",
    "    זו המשוואה שנפתור ישירות עם נאמפיי. נרחיב כל מטריצה לגודל סופי כך שניתן יהיה לבצע פעולת חיסור אחת:\n",
    "</div>"
   ]
  },
  {
   "cell_type": "code",
   "execution_count": 19,
   "metadata": {},
   "outputs": [
    {
     "name": "stdout",
     "output_type": "stream",
     "text": [
      "(150, 1, 2)\n"
     ]
    }
   ],
   "source": [
    "print(iris.data[:,np.newaxis,[0,2]].shape)"
   ]
  },
  {
   "cell_type": "code",
   "execution_count": 20,
   "metadata": {},
   "outputs": [
    {
     "name": "stdout",
     "output_type": "stream",
     "text": [
      "(1, 3, 2)\n"
     ]
    }
   ],
   "source": [
    "print(plant_measurements[np.newaxis,:,[0,2]].shape)"
   ]
  },
  {
   "cell_type": "markdown",
   "metadata": {},
   "source": [
    "<div dir=rtl>\n",
    "    בתוך משוואה האופרטור np.newaxis ימתח את שני הצירים כך שיהיו שווים אחד לשני: <br />\n",
    "    150x3x2 <br />\n",
    "    וכך נוכל לחסר בניהם. <br />\n",
    "    כל שנותר הוא להעלות בריבוע את ההפרש בכל ציר, לסכום על הצירים ולהוציא שורש.\n",
    "</div>"
   ]
  },
  {
   "cell_type": "code",
   "execution_count": 21,
   "metadata": {},
   "outputs": [],
   "source": [
    "def distance_no_loops(a, b):\n",
    "    '''\n",
    "    Documentation isnt gonna write itself though...\n",
    "    \n",
    "    a:\n",
    "        numpy array [Nax2]\n",
    "    b:\n",
    "        numpy array [Nbx2]\n",
    "        \n",
    "    returns:\n",
    "        numpy array [NaxNb]\n",
    "    '''\n",
    "\n",
    "    return ((a[:,np.newaxis,:] - b[np.newaxis,:,:])**2).sum(axis=2)**0.5"
   ]
  },
  {
   "cell_type": "code",
   "execution_count": 22,
   "metadata": {},
   "outputs": [
    {
     "name": "stdout",
     "output_type": "stream",
     "text": [
      "[[0.92195445 1.42126704 5.91354378]\n",
      " [1.11803399 1.58113883 5.98080262]\n",
      " [1.30384048 1.80277564 6.14654374]\n",
      " [1.43178211 1.78885438 6.00083328]\n",
      " [1.0198039  1.5        5.9464275 ]]\n"
     ]
    }
   ],
   "source": [
    "distances = distance_no_loops(iris.data[:,[0,2]], plant_measurements[:,[0,2]])\n",
    "print(distances[:5,:])"
   ]
  },
  {
   "cell_type": "code",
   "execution_count": 23,
   "metadata": {
    "scrolled": true
   },
   "outputs": [
    {
     "name": "stdout",
     "output_type": "stream",
     "text": [
      "22.7 µs ± 380 ns per loop (mean ± std. dev. of 7 runs, 10000 loops each)\n"
     ]
    }
   ],
   "source": [
    "%timeit distance_no_loops(iris.data[:,[0,2]], plant_measurements[:,[0,2]])"
   ]
  },
  {
   "cell_type": "markdown",
   "metadata": {},
   "source": [
    "<div dir=rtl>\n",
    "    ג. מצאו את נקודת המדידה הקרובה ביותר מהשדה לכל אחד משלושת האירוסים בערוגה.\n",
    "</div>"
   ]
  },
  {
   "cell_type": "code",
   "execution_count": 24,
   "metadata": {},
   "outputs": [
    {
     "data": {
      "text/plain": [
       "array([ 14,  18, 118])"
      ]
     },
     "execution_count": 24,
     "metadata": {},
     "output_type": "execute_result"
    }
   ],
   "source": [
    "minimum_dists_points_index = distances.argmin(axis=0) # axis 0 is the iris dataset index\n",
    "minimum_dists_points_index"
   ]
  },
  {
   "cell_type": "code",
   "execution_count": 25,
   "metadata": {},
   "outputs": [
    {
     "data": {
      "text/plain": [
       "array([[5.8, 4. , 1.2, 0.2],\n",
       "       [5.7, 3.8, 1.7, 0.3],\n",
       "       [7.7, 2.6, 6.9, 2.3]])"
      ]
     },
     "execution_count": 25,
     "metadata": {},
     "output_type": "execute_result"
    }
   ],
   "source": [
    "closest_points = iris.data[minimum_dists_points_index, :]\n",
    "closest_points"
   ]
  },
  {
   "cell_type": "code",
   "execution_count": 26,
   "metadata": {},
   "outputs": [
    {
     "data": {
      "image/png": "[encoded data removed]",
      "text/plain": [
       "<Figure size 1080x720 with 1 Axes>"
      ]
     },
     "metadata": {
      "needs_background": "light"
     },
     "output_type": "display_data"
    }
   ],
   "source": [
    "plt.figure\n",
    "plt.scatter(iris.data[:,0], iris.data[:,2], c=iris.target)\n",
    "plt.scatter(plant_measurements[:,0], plant_measurements[:,2], marker='X', c='r', s=200)\n",
    "plt.scatter(closest_points[:,0], closest_points[:, 2], marker='x', c='k', s=200)\n",
    "plt.xlabel('sepal length (cm)')\n",
    "plt.ylabel('petal length (cm)')\n",
    "plt.show()"
   ]
  },
  {
   "cell_type": "markdown",
   "metadata": {},
   "source": [
    "# <div dir=rtl> Pandas </div>\n",
    "<div dir=rtl>\n",
    "    פנדס היא חבילה לdata science המיועדת לעבודה אופטימלית עם מידע טבלאי. <br />\n",
    "     פנדס יעילה במיוחד בפעולות על מסדי נתונים בגדלים בינוניים (גיגות עד עשרות גיגות). היא גם מכילה כלים למסדי נתונים גדולים יותר. <br />\n",
    "    פנדס נבנתה סביב נאמפיי לכן כל הכלים הקיימים בנאמפיי נמצאים בצורה מקבילה בפנדס וכמובן ישנם עוד הרבה כלים נוספים.\n",
    "</div>"
   ]
  },
  {
   "cell_type": "code",
   "execution_count": 27,
   "metadata": {},
   "outputs": [],
   "source": [
    "import pandas as pd"
   ]
  },
  {
   "cell_type": "markdown",
   "metadata": {},
   "source": [
    "<div dir=rtl>\n",
    "    הערה: הסיומת as pd היא לנוחות בלבד. <br />\n",
    "    לפנדס שני אובייקטים עיקריים: Series ו DataFrame. האובייקט Series מייצג ווקטור של ערכים וDataFrame מטריצה.\n",
    "</div>"
   ]
  },
  {
   "cell_type": "code",
   "execution_count": 28,
   "metadata": {},
   "outputs": [
    {
     "data": {
      "text/plain": [
       "0    a\n",
       "1    b\n",
       "2    c\n",
       "3    d\n",
       "dtype: object"
      ]
     },
     "execution_count": 28,
     "metadata": {},
     "output_type": "execute_result"
    }
   ],
   "source": [
    "v = pd.Series(['a','b','c','d'])\n",
    "v"
   ]
  },
  {
   "cell_type": "markdown",
   "metadata": {},
   "source": [
    "<div dir=rtl>\n",
    "    נשים לב לשני דברים: לצד הערכים שהכנסנו יש אינדקס רץ. לכל ערך יש אינדקס. בסוף הווקטור מצוין מה ה dtype שלו.\n",
    "</div>"
   ]
  },
  {
   "cell_type": "code",
   "execution_count": 29,
   "metadata": {},
   "outputs": [
    {
     "data": {
      "text/html": [
       "<div>\n",
       "<style scoped>\n",
       "    .dataframe tbody tr th:only-of-type {\n",
       "        vertical-align: middle;\n",
       "    }\n",
       "\n",
       "    .dataframe tbody tr th {\n",
       "        vertical-align: top;\n",
       "    }\n",
       "\n",
       "    .dataframe thead th {\n",
       "        text-align: right;\n",
       "    }\n",
       "</style>\n",
       "<table border=\"1\" class=\"dataframe\">\n",
       "  <thead>\n",
       "    <tr style=\"text-align: right;\">\n",
       "      <th></th>\n",
       "      <th>0</th>\n",
       "      <th>1</th>\n",
       "      <th>2</th>\n",
       "      <th>3</th>\n",
       "    </tr>\n",
       "  </thead>\n",
       "  <tbody>\n",
       "    <tr>\n",
       "      <th>0</th>\n",
       "      <td>a</td>\n",
       "      <td>b</td>\n",
       "      <td>c</td>\n",
       "      <td>d</td>\n",
       "    </tr>\n",
       "    <tr>\n",
       "      <th>1</th>\n",
       "      <td>A</td>\n",
       "      <td>B</td>\n",
       "      <td>C</td>\n",
       "      <td>D</td>\n",
       "    </tr>\n",
       "    <tr>\n",
       "      <th>2</th>\n",
       "      <td>alpha</td>\n",
       "      <td>beta</td>\n",
       "      <td>gamma</td>\n",
       "      <td>delta</td>\n",
       "    </tr>\n",
       "  </tbody>\n",
       "</table>\n",
       "</div>"
      ],
      "text/plain": [
       "       0     1      2      3\n",
       "0      a     b      c      d\n",
       "1      A     B      C      D\n",
       "2  alpha  beta  gamma  delta"
      ]
     },
     "execution_count": 29,
     "metadata": {},
     "output_type": "execute_result"
    }
   ],
   "source": [
    "df = pd.DataFrame([\n",
    "    ['a','b','c','d'],\n",
    "    ['A','B','C','D'],\n",
    "    ['alpha','beta','gamma','delta']\n",
    "])\n",
    "\n",
    "df"
   ]
  },
  {
   "cell_type": "markdown",
   "metadata": {},
   "source": [
    "<div dir=rtl>\n",
    "    פנדס מאפשר מתן שמות הן לעמודות והן לאינדקסים.\n",
    "</div>"
   ]
  },
  {
   "cell_type": "code",
   "execution_count": 30,
   "metadata": {},
   "outputs": [
    {
     "data": {
      "text/html": [
       "<div>\n",
       "<style scoped>\n",
       "    .dataframe tbody tr th:only-of-type {\n",
       "        vertical-align: middle;\n",
       "    }\n",
       "\n",
       "    .dataframe tbody tr th {\n",
       "        vertical-align: top;\n",
       "    }\n",
       "\n",
       "    .dataframe thead th {\n",
       "        text-align: right;\n",
       "    }\n",
       "</style>\n",
       "<table border=\"1\" class=\"dataframe\">\n",
       "  <thead>\n",
       "    <tr style=\"text-align: right;\">\n",
       "      <th></th>\n",
       "      <th>Cause of illness</th>\n",
       "      <th>Time of admission</th>\n",
       "      <th>Temp (c)</th>\n",
       "      <th>Weight (kg)</th>\n",
       "    </tr>\n",
       "  </thead>\n",
       "  <tbody>\n",
       "    <tr>\n",
       "      <th>Luke</th>\n",
       "      <td>Sharp object accident</td>\n",
       "      <td>12:15:00</td>\n",
       "      <td>36.5</td>\n",
       "      <td>75</td>\n",
       "    </tr>\n",
       "    <tr>\n",
       "      <th>Gollum</th>\n",
       "      <td>Burns</td>\n",
       "      <td>04:53:00</td>\n",
       "      <td>38.1</td>\n",
       "      <td>32</td>\n",
       "    </tr>\n",
       "    <tr>\n",
       "      <th>Irony Man</th>\n",
       "      <td>Anemia</td>\n",
       "      <td>13:54:00</td>\n",
       "      <td>37.0</td>\n",
       "      <td>80</td>\n",
       "    </tr>\n",
       "  </tbody>\n",
       "</table>\n",
       "</div>"
      ],
      "text/plain": [
       "                Cause of illness Time of admission  Temp (c)  Weight (kg)\n",
       "Luke       Sharp object accident          12:15:00      36.5           75\n",
       "Gollum                     Burns          04:53:00      38.1           32\n",
       "Irony Man                 Anemia          13:54:00      37.0           80"
      ]
     },
     "execution_count": 30,
     "metadata": {},
     "output_type": "execute_result"
    }
   ],
   "source": [
    "df = pd.DataFrame([\n",
    "    ['Sharp object accident',pd.Timestamp('12:15').time(),36.5,75],\n",
    "    ['Burns',pd.Timestamp('04:53').time(),38.1,32],\n",
    "    ['Anemia',pd.Timestamp('13:54').time(),37.0,80]\n",
    "    ],\n",
    "    columns=['Cause of illness', 'Time of admission','Temp (c)','Weight (kg)'],\n",
    "    index=['Luke','Gollum','Irony Man'])\n",
    "\n",
    "df"
   ]
  },
  {
   "cell_type": "code",
   "execution_count": 31,
   "metadata": {},
   "outputs": [
    {
     "name": "stdout",
     "output_type": "stream",
     "text": [
      "2022-02-26 16:10:00\n"
     ]
    }
   ],
   "source": [
    "# Timestamp can give us a structured date and time\n",
    "rec_start = pd.Timestamp('16:10')\n",
    "rec_start.time().hour\n",
    "print(rec_start)"
   ]
  },
  {
   "cell_type": "markdown",
   "metadata": {},
   "source": [
    "<div dir=rtl>\n",
    "    אינדקסינג בפנדס מתאפשר בעיקר בזכות הפונקציה .loc <br />\n",
    "    הפונקציה מקבלת לייבל של אינדקס ועמודה. נשים לב שאם האינדקס הוא נומרי - הפונקציה מחזירה את השורה עם האינדקס המתאים ולא את השורה במיקום המתאים.</div>"
   ]
  },
  {
   "cell_type": "code",
   "execution_count": 32,
   "metadata": {},
   "outputs": [
    {
     "data": {
      "text/plain": [
       "Luke         36.5\n",
       "Gollum       38.1\n",
       "Irony Man    37.0\n",
       "Name: Temp (c), dtype: float64"
      ]
     },
     "execution_count": 32,
     "metadata": {},
     "output_type": "execute_result"
    }
   ],
   "source": [
    "df.loc[:,'Temp (c)']"
   ]
  },
  {
   "cell_type": "code",
   "execution_count": 33,
   "metadata": {
    "scrolled": false
   },
   "outputs": [
    {
     "data": {
      "text/plain": [
       "Cause of illness     Sharp object accident\n",
       "Time of admission                 12:15:00\n",
       "Temp (c)                              36.5\n",
       "Weight (kg)                             75\n",
       "Name: Luke, dtype: object"
      ]
     },
     "execution_count": 33,
     "metadata": {},
     "output_type": "execute_result"
    }
   ],
   "source": [
    "df.loc['Luke',:]"
   ]
  },
  {
   "cell_type": "code",
   "execution_count": 34,
   "metadata": {},
   "outputs": [
    {
     "data": {
      "text/plain": [
       "36.5"
      ]
     },
     "execution_count": 34,
     "metadata": {},
     "output_type": "execute_result"
    }
   ],
   "source": [
    "df.loc['Luke','Temp (c)']"
   ]
  },
  {
   "cell_type": "code",
   "execution_count": 35,
   "metadata": {},
   "outputs": [
    {
     "data": {
      "text/html": [
       "<div>\n",
       "<style scoped>\n",
       "    .dataframe tbody tr th:only-of-type {\n",
       "        vertical-align: middle;\n",
       "    }\n",
       "\n",
       "    .dataframe tbody tr th {\n",
       "        vertical-align: top;\n",
       "    }\n",
       "\n",
       "    .dataframe thead th {\n",
       "        text-align: right;\n",
       "    }\n",
       "</style>\n",
       "<table border=\"1\" class=\"dataframe\">\n",
       "  <thead>\n",
       "    <tr style=\"text-align: right;\">\n",
       "      <th></th>\n",
       "      <th>Cause of illness</th>\n",
       "      <th>Time of admission</th>\n",
       "      <th>Temp (c)</th>\n",
       "      <th>Weight (kg)</th>\n",
       "    </tr>\n",
       "  </thead>\n",
       "  <tbody>\n",
       "    <tr>\n",
       "      <th>Gollum</th>\n",
       "      <td>Burns</td>\n",
       "      <td>04:53:00</td>\n",
       "      <td>38.1</td>\n",
       "      <td>32</td>\n",
       "    </tr>\n",
       "    <tr>\n",
       "      <th>Irony Man</th>\n",
       "      <td>Anemia</td>\n",
       "      <td>13:54:00</td>\n",
       "      <td>37.0</td>\n",
       "      <td>80</td>\n",
       "    </tr>\n",
       "  </tbody>\n",
       "</table>\n",
       "</div>"
      ],
      "text/plain": [
       "          Cause of illness Time of admission  Temp (c)  Weight (kg)\n",
       "Gollum               Burns          04:53:00      38.1           32\n",
       "Irony Man           Anemia          13:54:00      37.0           80"
      ]
     },
     "execution_count": 35,
     "metadata": {},
     "output_type": "execute_result"
    }
   ],
   "source": [
    "df.loc['Gollum':, :]"
   ]
  },
  {
   "cell_type": "markdown",
   "metadata": {},
   "source": [
    "<div dir=rtl>\n",
    "    יכולת חשובה של פנדס היא היכולת לקרוא ולכתוב אובייקטים לקבצים. <br />\n",
    "    יש המון סוגי קבצים נתמכים, בניהם:\n",
    "</div>\n",
    "\n",
    " - Excel\n",
    " - JSON\n",
    " - Pickle\n",
    " - SQL\n",
    " - CSV\n",
    " - ...\n",
    " \n",
    "https://pandas.pydata.org/pandas-docs/stable/user_guide/io.html\n",
    "\n",
    "<div dir=rtl>\n",
    "    נקח את CSV כדוגמה. הסיומת CSV, או comma separated values, מציינת קובץ טקסט המכיל מידע טבלאי. הפורמט הוא פורמט פתוח - לכן זמין לתצוגה בשלל של תוכנות (כולל כתבן ואקסל) - הוא נוח לקריאה אנושית גם בצורה הטקסטואלית שלו ונוח לכתיבה אנושית בפורמט הטקסטואלי שלו. החסרונות - אין שום דחיסה של המידע, עיצוב של התאים השונים לא נשמר בתוך הקובץ לכן יעלם אחרי טעינה מחדש, זמני הכתיבה והקריאה של קבצים מהסוג הזה יחסית ארוכים ומידע נשמר אך ורק בפורמט טקסט. <br />\n",
    "    נדגים: <br />\n",
    "    הטבלה למעלה בפורמט CSV בכתבן תהיה\n",
    "</div>\n"
   ]
  },
  {
   "cell_type": "raw",
   "metadata": {},
   "source": [
    ",Cause of illness,Time of admission,Temp (c),Weight (kg)\n",
    "Luke,Sharp object accident,12:15:00,36.5,75\n",
    "Gollum,Burns,04:53:00,38.1,32\n",
    "Irony Man,Anemia,13:54:00,37.0,80"
   ]
  },
  {
   "cell_type": "markdown",
   "metadata": {},
   "source": [
    "<div dir=rtl>\n",
    "    ובאקסל היא תיראה כך:\n",
    "</div>\n",
    "\n",
    "![](2.2.png)"
   ]
  },
  {
   "cell_type": "code",
   "execution_count": 36,
   "metadata": {},
   "outputs": [],
   "source": [
    "df.to_csv('2.df.csv')"
   ]
  },
  {
   "cell_type": "code",
   "execution_count": 37,
   "metadata": {},
   "outputs": [
    {
     "data": {
      "text/plain": [
       "['2.df.csv',\n",
       " '.directory',\n",
       " '2.2.png',\n",
       " '2.1.png',\n",
       " '3.df.csv',\n",
       " '2_recitation_2.ipynb',\n",
       " '.ipynb_checkpoints',\n",
       " '2_recitation_2.html']"
      ]
     },
     "execution_count": 37,
     "metadata": {},
     "output_type": "execute_result"
    }
   ],
   "source": [
    "import os\n",
    "os.listdir('.')"
   ]
  },
  {
   "cell_type": "code",
   "execution_count": 38,
   "metadata": {},
   "outputs": [
    {
     "data": {
      "text/html": [
       "<div>\n",
       "<style scoped>\n",
       "    .dataframe tbody tr th:only-of-type {\n",
       "        vertical-align: middle;\n",
       "    }\n",
       "\n",
       "    .dataframe tbody tr th {\n",
       "        vertical-align: top;\n",
       "    }\n",
       "\n",
       "    .dataframe thead th {\n",
       "        text-align: right;\n",
       "    }\n",
       "</style>\n",
       "<table border=\"1\" class=\"dataframe\">\n",
       "  <thead>\n",
       "    <tr style=\"text-align: right;\">\n",
       "      <th></th>\n",
       "      <th>Cause of illness</th>\n",
       "      <th>Time of admission</th>\n",
       "      <th>Temp (c)</th>\n",
       "      <th>Weight (kg)</th>\n",
       "    </tr>\n",
       "  </thead>\n",
       "  <tbody>\n",
       "    <tr>\n",
       "      <th>Luke</th>\n",
       "      <td>Sharp object accident</td>\n",
       "      <td>12:15:00</td>\n",
       "      <td>36.5</td>\n",
       "      <td>75</td>\n",
       "    </tr>\n",
       "    <tr>\n",
       "      <th>Gollum</th>\n",
       "      <td>Burns</td>\n",
       "      <td>04:53:00</td>\n",
       "      <td>38.1</td>\n",
       "      <td>32</td>\n",
       "    </tr>\n",
       "    <tr>\n",
       "      <th>Irony Man</th>\n",
       "      <td>Anemia</td>\n",
       "      <td>13:54:00</td>\n",
       "      <td>37.0</td>\n",
       "      <td>80</td>\n",
       "    </tr>\n",
       "  </tbody>\n",
       "</table>\n",
       "</div>"
      ],
      "text/plain": [
       "                Cause of illness Time of admission  Temp (c)  Weight (kg)\n",
       "Luke       Sharp object accident          12:15:00      36.5           75\n",
       "Gollum                     Burns          04:53:00      38.1           32\n",
       "Irony Man                 Anemia          13:54:00      37.0           80"
      ]
     },
     "execution_count": 38,
     "metadata": {},
     "output_type": "execute_result"
    }
   ],
   "source": [
    "df2 = pd.read_csv('2.df.csv', index_col=0)\n",
    "df2"
   ]
  },
  {
   "cell_type": "code",
   "execution_count": null,
   "metadata": {},
   "outputs": [],
   "source": []
  }
 ],
 "metadata": {
  "kernelspec": {
   "display_name": "Python 3",
   "language": "python",
   "name": "python3"
  },
  "language_info": {
   "codemirror_mode": {
    "name": "ipython",
    "version": 3
   },
   "file_extension": ".py",
   "mimetype": "text/x-python",
   "name": "python",
   "nbconvert_exporter": "python",
   "pygments_lexer": "ipython3",
   "version": "3.7.5"
  }
 },
 "nbformat": 4,
 "nbformat_minor": 4
}
