{
 "cells": [
  {
   "cell_type": "markdown",
   "metadata": {
    "id": "R1Bt5gEjsMdu"
   },
   "source": [
    "# <div dir=rtl> תרגול שישי - Logistic Regression </div>\n",
    "<div dir=rtl>\n",
    "    בתרגול זה נכיר שיטה מפוקחת ללמידה - שיטה לסיווג מידע באמצעות הסוג של המידע (להלן - הלייבל שלו). <br />\n",
    "    בתרגול הקודם ראינו איך נותנים פרדיקציה על ערך כלשהו בהתבסס על ערכים קודמים. כעת נשתמש בסט ערכי בדיד כלשהו - נניח למשל חולה (1) או בריא (0) - וננסה לחזות את הערך של דוגמיות חדשות. <br />\n",
    "    שיטות בהן משתמשים בלייבלים של הדוגמאות לצורך למידה נקראות שיטות למידה מפוקחת, וזאת בניגוד ללמידה לא מפוקחת כמו קיבוץ.\n",
    "</div>\n",
    "\n",
    "## <div dir=rtl>שאלה 1</div>\n",
    "\n",
    "<div dir=rtl>\n",
    "    בשנת 2008 פרסם הNIH האמריקאי מידע על אודות 4238 תושבי העיר פארמינגהם במדינת מסצ'וסטס. <br />\n",
    "    המידע כלל נתונים על בריאותם של המשתתפים במחקר והאם בתוך עשור המשתתפים זוהו כסובלים ממחלות בכלי הדם הכליליים בלב. המידע זמין בקובץ 6_heart_disease_2.csv. <br />\n",
    "</div>\n",
    "<div dir=rtl style='background-color: #fcf2f2;'> \n",
    "    הערה: הדאטאסט אמיתי וניתן להורדה בצורה חופשייה. הנתונים בו שונו לצורך הדוגמה. <br />\n",
    "</div><br />\n",
    "<div dir=rtl>\n",
    "    א. טענו את הקובץ לאובייקט מסוג DataFrame.\n",
    "</div>"
   ]
  },
  {
   "cell_type": "code",
   "execution_count": null,
   "metadata": {
    "id": "5C9FHY5MsMdy"
   },
   "outputs": [],
   "source": [
    "%ls"
   ]
  },
  {
   "cell_type": "code",
   "execution_count": null,
   "metadata": {
    "id": "PzrBJjyJsMd_"
   },
   "outputs": [],
   "source": [
    "import pandas as pd\n",
    "import numpy as np\n",
    "import matplotlib.pyplot as plt\n",
    "\n",
    "df = pd.read_csv('6_heart_disease_2.csv')\n",
    "df.sample(5)"
   ]
  },
  {
   "cell_type": "code",
   "execution_count": null,
   "metadata": {
    "id": "d_xr21fKsMeK"
   },
   "outputs": [],
   "source": [
    "df.describe().T"
   ]
  },
  {
   "cell_type": "markdown",
   "metadata": {
    "id": "0z5D8rebsMeT"
   },
   "source": [
    "<div dir=rtl>\n",
    "    ב. בטבלאת הנתונים עמודה אחת לקיומה של מחלת לב - TenYearCHD ושש עמודות של משתנים רציפים. <br />\n",
    "    עבור כל זוג משתנים רציפים צרו תרשים המתאר את התפלגות הדגימות כתלות בשני המשתנים. על צבע הדגימה לשקף את סוג הדגימה - כלומר האם היא דגימה של אדם אשר לקה במחלת לב כלילית או לא.\n",
    "</div>"
   ]
  },
  {
   "cell_type": "code",
   "execution_count": null,
   "metadata": {
    "id": "gV-afrQNsMeU"
   },
   "outputs": [],
   "source": [
    "continuous = ['totChol','sysBP','diaBP','BMI','heartRate','glucose']"
   ]
  },
  {
   "cell_type": "code",
   "execution_count": null,
   "metadata": {
    "id": "StqICLydsMek"
   },
   "outputs": [],
   "source": [
    "import seaborn as sns\n",
    "\n",
    "pairp = sns.pairplot(\n",
    "    df[continuous + ['TenYearCHD']],\n",
    "    hue='TenYearCHD',\n",
    "    plot_kws={'alpha':0.25}\n",
    ")"
   ]
  },
  {
   "cell_type": "markdown",
   "metadata": {
    "id": "26YygyBOsMer"
   },
   "source": [
    "<div dir=rtl>\n",
    "    בתרשים למעלה אנחנו רואים את עמודות הפיצ'רים (למשל דופק בעת הגעה לרופא, אינדקס מסת גוף ועוד) אחת כתלות בשנייה. פיזור הנקודות כאן יסייע לנו לבחור פיצ'רים לשלבים הבאים.\n",
    "    <br />\n",
    "    כמובן, ניתן היה ליצור תרשימים של שלושה פיצ'רים בתלת מימד - אבל שיטה זו של הצגה לא אינטואיטיבית ופחות נוחה.<br />\n",
    "</div>\n",
    "<br />\n",
    "<div dir=rtl>\n",
    "    ג. צרו מודל לינארי לניבוי האם נבדק יחלה או לא יחלה על בסיס פיצ'ר אחד.\n",
    "    <br /><br />\n",
    "    נבחר במודל מסוג רגרסיה לוגיסטית. נשים לב לא להתבלבל עם מודל מסוג רגרסיה לינארית המשמש לפרדיקציה של ערכים בתחום הרציף. <br />\n",
    "    ברגרסיה לוגיסטית נשתמש בפונקציה מסוג סיגמואיד ונתאים אותה על הדאטא. הסיגמואיד  מחזיר מספר בתחום [0,1]. נהוג להשתמש בערך הזה כהסתברות להיות במחלקה החיובית ואנחנו נסווג דוגמה כשייכת למחלקה החיובית אם ההסתברות הזו גדולה מ0.5.\n",
    "    <br /><br />\n",
    "    האיור למטה ממחיש את ההבדלים העיקריים (האיור לקוח מ- <a>https://www.javatpoint.com/linear-regression-vs-logistic-regression-in-machine-learning</a>)\n",
    "</div>"
   ]
  },
  {
   "cell_type": "markdown",
   "metadata": {
    "id": "NZ4EWrRIsMer"
   },
   "source": [
    "![](6_linear-regression-vs-logistic-regression.png)\n",
    "\n",
    "<br /><br />\n",
    "<div dir=rtl>\n",
    "    המשוואות המתארות את המודל מפורטות למטה. \n",
    "</div>"
   ]
  },
  {
   "cell_type": "markdown",
   "metadata": {
    "id": "zY2zgV7hsMes"
   },
   "source": [
    "\\begin{align}\n",
    "\\hat{y} = \\frac{1}{1+e^{-z}}\\\\\n",
    "\\end{align}\n",
    "<div dir=rtl>\n",
    "    במקרה החד מימדי בו המשתנה הבלתי תלוי הוא x:\n",
    "</div>\n",
    "\\begin{align}\n",
    "z = \\beta_0 + \\beta_1x\\\\\n",
    "\\end{align}\n",
    "<div dir=rtl>\n",
    "    במקרה הכללי בו הנקודה מיוצגת על ידי ווקטור של משתנים בלתי תלויים X ומקדמים \\beta:\n",
    "</div>\n",
    "\\begin{align}\n",
    "z = \\beta^TX\n",
    "\\end{align}"
   ]
  },
  {
   "cell_type": "code",
   "execution_count": null,
   "metadata": {},
   "outputs": [],
   "source": [
    "from scipy.special import expit\n",
    "\n",
    "fig = plt.figure(figsize=(10,6))\n",
    "x = np.linspace(-6, 6, 100)\n",
    "y1 = expit(0+4*x)\n",
    "y2 = expit(6+4*x)\n",
    "y3 = expit(6-4*x)\n",
    "plt.plot(x, y1, label=\"z = 4x\", lw=4)\n",
    "plt.plot(x, y2, label=\"z = 4x + 6\", lw=4)\n",
    "plt.plot(x, y3, label=\"z = -4x + 6\", lw=4)\n",
    "plt.grid()\n",
    "plt.xlim(-6, 6)\n",
    "plt.xlabel('x')\n",
    "plt.legend()"
   ]
  },
  {
   "cell_type": "markdown",
   "metadata": {
    "id": "EOkM9osUsMeu"
   },
   "source": [
    "<div dir=rtl>\n",
    "    נתחיל עם המאפיין sysBP - אשר מדווח על לחץ הדם הסיסטולי של המטופל בהגעה למרפאה. <br />\n",
    "    נבחר בו משום שבתרשים למעלה ניתן לראות הפרדה טובה של שתי המחלקות לפי המאפיין הזה.\n",
    "</div>"
   ]
  },
  {
   "cell_type": "code",
   "execution_count": null,
   "metadata": {
    "id": "VE64L010sMew"
   },
   "outputs": [],
   "source": [
    "params = {'legend.fontsize': 'x-large',\n",
    "          'figure.figsize': (10, 5),\n",
    "         'axes.labelsize': 'x-large',\n",
    "         'axes.titlesize':'x-large',\n",
    "         'xtick.labelsize':'x-large',\n",
    "         'ytick.labelsize':'x-large',\n",
    "         'axes.grid':True,\n",
    "         'axes.grid.which':'both'\n",
    "         }\n",
    "plt.rcParams.update(params)\n",
    "\n",
    "scatp = df[['sysBP','TenYearCHD']].plot.scatter(\n",
    "    x='sysBP',\n",
    "    y='TenYearCHD',\n",
    "    c='TenYearCHD',\n",
    "    cmap='jet',\n",
    "    sharex=False\n",
    ")"
   ]
  },
  {
   "cell_type": "markdown",
   "metadata": {
    "id": "P50vlf1TsMe1"
   },
   "source": [
    "<div dir=rtl>\n",
    "    כעת ננסה להתאים פונקצית סיגמואיד על הנקודות.\n",
    "</div>"
   ]
  },
  {
   "cell_type": "code",
   "execution_count": null,
   "metadata": {
    "id": "nPFqFomSsMe2"
   },
   "outputs": [],
   "source": [
    "import statsmodels.api as sm\n",
    "\n",
    "logistic_1d = sm.Logit(\n",
    "    df['TenYearCHD'],\n",
    "    sm.add_constant(df['sysBP'])\n",
    ")\n",
    "\n",
    "results = logistic_1d.fit()\n",
    "results.summary()"
   ]
  },
  {
   "cell_type": "markdown",
   "metadata": {
    "id": "FNF-Jw6SsMe8"
   },
   "source": [
    "<div dir=rtl>\n",
    "    גם כאן, כמו ברגרסיה לינארית, אנחנו מקבלים מקדמים המתאימים למקדם החופשי ולמשתנה לפיו ביצענו את הרגרסיה.\n",
    "    <br />\n",
    "    ננסה להבין את המשמעות של מה שקיבלנו. לצורך כך נשרטט את הפונקציה יחד עם הנקודות המקוריות ולצידם נשרטט את .הנקודות לפי התחזית שלהן\n",
    "</div>"
   ]
  },
  {
   "cell_type": "code",
   "execution_count": null,
   "metadata": {
    "id": "p_FuGlrFsMe9"
   },
   "outputs": [],
   "source": [
    "fig, ax = plt.subplots(1,2)\n",
    "\n",
    "scatp = df[['sysBP','TenYearCHD']].plot.scatter(\n",
    "    x='sysBP',\n",
    "    y='TenYearCHD',\n",
    "    c='TenYearCHD',\n",
    "    cmap='jet',\n",
    "    sharex=False,\n",
    "    ax=ax[0],\n",
    "    colorbar=False,\n",
    "    title='Data points and model'\n",
    ")\n",
    "\n",
    "logitp = ax[0].plot(\n",
    "    df['sysBP'].sort_values(),\n",
    "    results.predict(sm.add_constant(df['sysBP'].sort_values())),\n",
    ")\n",
    "\n",
    "df['logistic 1d prediction'] = (results.predict(sm.add_constant(df['sysBP'])) > 0.5).astype(int)\n",
    "\n",
    "predp = df[['sysBP','logistic 1d prediction','TenYearCHD']].plot.scatter(\n",
    "    x='sysBP',\n",
    "    y='logistic 1d prediction',\n",
    "    c='TenYearCHD',\n",
    "    cmap='jet',\n",
    "    sharex=False,\n",
    "    ax=ax[1],\n",
    "    colorbar=False,\n",
    "    title='Predicted points',\n",
    "    alpha=0.25\n",
    ")"
   ]
  },
  {
   "cell_type": "code",
   "execution_count": null,
   "metadata": {},
   "outputs": [],
   "source": [
    "results.predict(sm.add_constant(df['sysBP']))\n",
    "# 1/(1+np.exp(results.fittedvalues)**-1)"
   ]
  },
  {
   "cell_type": "markdown",
   "metadata": {
    "id": "1gvlSjnUsMfE"
   },
   "source": [
    "<div dir=rtl>\n",
    "    ג. מה טיב הסיווג?\n",
    "</div>\n",
    "<br /><br />\n",
    "\n",
    "<div dir=rtl>\n",
    "    נכיר כעת את הקונספט של confusion matrix. הטבלה מתארת כמה מתוך חברי המחלקה סווגו תחת לייבל כזה או אחר של המסווג. <br />\n",
    "    אמנם ראינו טבלאות כאלה בעבר אבל ראינו אותן בהקשר של למידה לא מפוקחת, ושם אמרנו שאין משמעות לשמות המקבצים לכן אין משמעות להשמה על העמודה המתאימה. כאן יש משמעות להשמה הזו מכיוון שזו הפרדיקציה למחלקה. מכאן נובע שהמקרה האידאלי הוא קבלת מטריצה אלכסונית.\n",
    "</div>"
   ]
  },
  {
   "cell_type": "code",
   "execution_count": null,
   "metadata": {
    "id": "FH_1jwtssMfF"
   },
   "outputs": [],
   "source": [
    "CM = pd.DataFrame(\n",
    "    df.groupby(['TenYearCHD','logistic 1d prediction']).size(),\n",
    "    columns=['# of subjects']\n",
    ")\n",
    "\n",
    "CM.unstack()"
   ]
  },
  {
   "cell_type": "markdown",
   "metadata": {
    "id": "odnjn4EOsMfL"
   },
   "source": [
    "<div dir=rtl>\n",
    "    מתוך המטריצה ניתן לגזור מדדי טיב על המודל שלנו. נכיר כעת אחד מהם - הדיוק. אופן החישוב שלו הוא סכום המספרים על האלכסון לחלק בסכום המטריצה כולה. לשמחתינו המדד הזה מיושם עבורינו.\n",
    "</div>"
   ]
  },
  {
   "cell_type": "code",
   "execution_count": null,
   "metadata": {
    "id": "vqoE2wQmsMfM"
   },
   "outputs": [],
   "source": [
    "from sklearn import metrics\n",
    "\n",
    "metrics.accuracy_score(\n",
    "    df['TenYearCHD'],\n",
    "    df['logistic 1d prediction']\n",
    ")"
   ]
  },
  {
   "cell_type": "markdown",
   "metadata": {
    "id": "1ui5MKebsMfT"
   },
   "source": [
    "<div dir=rtl>\n",
    "    ד. צרו מודל לינארי לניבוי האם נבדק יחלה או לא על בסיס שני פיצ'רים.\n",
    "</div>\n",
    "<br /><br />\n",
    "<div dir=rtl>\n",
    "    תחילה נבחר פיצ'רים - על בסיס התרשים למעלה נבחר בלחץ הדם הסיסטואלי כפונקציה של לחץ הדם הדיאסטולי. נשרטט את הנקודות על המישור כדי לבחון את ההתפלגות.\n",
    "</div>"
   ]
  },
  {
   "cell_type": "code",
   "execution_count": null,
   "metadata": {
    "id": "KRPaU-NTsMfV"
   },
   "outputs": [],
   "source": [
    "scatp = df[['sysBP','diaBP','TenYearCHD']].plot.scatter(\n",
    "    x='diaBP',\n",
    "    y='sysBP',\n",
    "    c='TenYearCHD',\n",
    "    cmap='jet',\n",
    "    sharex=False,\n",
    "    alpha=0.5\n",
    ")"
   ]
  },
  {
   "cell_type": "markdown",
   "metadata": {
    "id": "6nQbcuChsMfZ"
   },
   "source": [
    "<div dir=rtl>\n",
    "    במודל דו-מימדי יהיו לנו שני משתנים בלתי תלויים וה\"גובה\" של הפונקציה (מאפס ועד אחת) יהיה משתנה בפני עצמו:\n",
    "</div>\n",
    "\n",
    "\\begin{align}\n",
    "\\hat{y} = \\frac{1}{1+e^{-z}}\\\\\n",
    "z = \\beta_0 + \\beta_1x_1 + \\beta_2x_2\\\\\n",
    "\\end{align}"
   ]
  },
  {
   "cell_type": "code",
   "execution_count": null,
   "metadata": {
    "id": "km0j_ruvsMfa"
   },
   "outputs": [],
   "source": [
    "logistic_2d = sm.Logit(\n",
    "    df['TenYearCHD'],\n",
    "    sm.add_constant(df[['diaBP','sysBP']])\n",
    ")\n",
    "\n",
    "results = logistic_2d.fit()\n",
    "results.summary()"
   ]
  },
  {
   "cell_type": "markdown",
   "metadata": {
    "id": "YC9o_zENsMfg"
   },
   "source": [
    "<div dir=rtl>\n",
    "    גם כעת ברצוננו לראות את הישר המפריד בין הנתונים. לצורך כך נציג את הפונקציה הבאה - אין צורך להתעכב על כל שורה בה.\n",
    "</div>"
   ]
  },
  {
   "cell_type": "code",
   "execution_count": null,
   "metadata": {
    "id": "6_bLg7W8sMfh"
   },
   "outputs": [],
   "source": [
    "def decision_boundary_plot(df, x, y, results, add_c=True, p=1, level=5):\n",
    "    xx, yy = np.mgrid[\n",
    "        df[x].min():df[x].max():level,\n",
    "        df[y].min():df[y].max():level\n",
    "    ]\n",
    "    grid = np.vstack([xx.ravel(), yy.ravel()]).T\n",
    "    grid = pd.DataFrame(grid, columns = [x,y])**p    \n",
    "    if add_c:\n",
    "        hh = results.predict(sm.add_constant(grid)).values.reshape(xx.shape)\n",
    "    else:\n",
    "        hh = results.predict(grid).values.reshape(xx.shape)\n",
    "    return plt.contour(xx,yy,hh, 1)\n",
    "\n",
    "scatp = df[['sysBP','diaBP','TenYearCHD']].plot.scatter(\n",
    "    x='diaBP',\n",
    "    y='sysBP',\n",
    "    c='TenYearCHD',\n",
    "    cmap='jet',\n",
    "    sharex=False,\n",
    "    alpha=0.5\n",
    ")\n",
    "\n",
    "decp = decision_boundary_plot(df, 'diaBP', 'sysBP', results)"
   ]
  },
  {
   "cell_type": "markdown",
   "metadata": {
    "id": "7KF7GXAssMfm"
   },
   "source": [
    "<div dir=rtl>\n",
    "    ה. מה טיב הסיווג?\n",
    "</div>"
   ]
  },
  {
   "cell_type": "code",
   "execution_count": null,
   "metadata": {
    "id": "IkLrf5OusMfn"
   },
   "outputs": [],
   "source": [
    "df['logistic 2d prediction'] = (\n",
    "    results.predict(sm.add_constant(df[['diaBP','sysBP']])) > 0.5\n",
    ").astype(int)\n",
    "\n",
    "CM = pd.DataFrame(\n",
    "    df.groupby(['TenYearCHD','logistic 2d prediction']).size(),\n",
    "    columns=['# of subjects']\n",
    ")\n",
    "\n",
    "CM.unstack()"
   ]
  },
  {
   "cell_type": "code",
   "execution_count": null,
   "metadata": {
    "id": "74Z1I8iWsMfs"
   },
   "outputs": [],
   "source": [
    "metrics.accuracy_score(\n",
    "    df['TenYearCHD'],\n",
    "    df['logistic 2d prediction']\n",
    ")"
   ]
  },
  {
   "cell_type": "markdown",
   "metadata": {
    "id": "oZObFw5-sMfx"
   },
   "source": [
    "<div dir=rtl>\n",
    "    ו. השתמשו במודל רגרסיה לגיסטית על מנת לסווג לפי שני הפיצ'רים - אינדקס מסת גוף ודופק.\n",
    "</div>\n",
    "\n",
    "<br /><br />\n",
    "\n",
    "<div dir=rtl>\n",
    "    ראשית נשרטט את שני הפיצ'רים אחד כתלות בשני:\n",
    "</div>"
   ]
  },
  {
   "cell_type": "code",
   "execution_count": null,
   "metadata": {
    "id": "_Euj9hhssMfz"
   },
   "outputs": [],
   "source": [
    "scatp = df[['BMI','heartRate','TenYearCHD']].plot.scatter(\n",
    "    x='BMI',\n",
    "    y='heartRate',\n",
    "    c='TenYearCHD',\n",
    "    cmap='jet',\n",
    "    sharex=False\n",
    ")"
   ]
  },
  {
   "cell_type": "markdown",
   "metadata": {
    "id": "F2k41SOvsMf3"
   },
   "source": [
    "<div dir=rtl>\n",
    "    נשים לב להתפלגות הנתונים. קיבלנו התפלגות מעין רדיאלית סביב מרכז כלשהו. <br />\n",
    "    לא ניתן להבחין בהבדל במרחק של כל מחלקה מהמרכז, ולמרות זאת משום שביקשו ננסה לסווג לפי הרדיוס מהמרחק:\n",
    "</div>\n",
    "\n",
    "\\begin{align}\n",
    "\\hat{y} = \\frac{1}{1+e^{-z}}\\\\\n",
    "z = a_1x^2 + a_2y^2\\\\\n",
    "\\end{align}\n",
    "\n",
    "<div dir=rtl>\n",
    "    על מנת שלא להוסיף פרמטרים ללמידה כמו מיקום מרכז האליפסה במרחב, ננרמל את הנקודות שלנו תחילה:\n",
    "</div>"
   ]
  },
  {
   "cell_type": "code",
   "execution_count": null,
   "metadata": {
    "id": "E_SKKUWwsMf4"
   },
   "outputs": [],
   "source": [
    "df_normalized = df[['BMI','heartRate']]\n",
    "df_normalized = df_normalized - df_normalized.mean()\n",
    "df_normalized = df_normalized / df_normalized.std()\n",
    "df_normalized['TenYearCHD'] = df['TenYearCHD']\n",
    "\n",
    "scatp_norm = df_normalized[['BMI','heartRate','TenYearCHD']].plot.scatter(\n",
    "    x='BMI',\n",
    "    y='heartRate',\n",
    "    c='TenYearCHD',\n",
    "    cmap='jet',\n",
    "    sharex=False\n",
    ")"
   ]
  },
  {
   "cell_type": "code",
   "execution_count": null,
   "metadata": {
    "id": "WyQmkPrLsMf9"
   },
   "outputs": [],
   "source": [
    "df_normalized.describe().T"
   ]
  },
  {
   "cell_type": "markdown",
   "metadata": {
    "id": "MY-mD9NJsMgB"
   },
   "source": [
    "<div dir=rtl>\n",
    "    אכן קיבלנו ממוצע אפס (שואף אליו) וסטיית תקן אחת. <br />\n",
    "    כעת נשים לב שמספר הערכים הקיימים בכל אחד מהפיצ'רים לא זהה - חשוד לקיומם של ערכים חסרים. מודלים רבים הממומשים מראש לא מיועדים להתמודד עם המצב הזה או שמיועדים לזרוק את הערכים האלה לכן זה מה שנעשה כעת.\n",
    "</div>"
   ]
  },
  {
   "cell_type": "code",
   "execution_count": null,
   "metadata": {
    "id": "AmIbjpt_sMgD"
   },
   "outputs": [],
   "source": [
    "df_normalized.dropna(inplace=True)"
   ]
  },
  {
   "cell_type": "markdown",
   "metadata": {
    "id": "Er5iB4YlsMgH"
   },
   "source": [
    "<div dir=rtl>\n",
    "    לבסוף, נתאים מודל. נשים לב במשוואה שאין צורך להוסיף משתנה חופשי.\n",
    "</div>"
   ]
  },
  {
   "cell_type": "code",
   "execution_count": null,
   "metadata": {
    "id": "f4sMR2LMsMgI"
   },
   "outputs": [],
   "source": [
    "logistic_2d = sm.Logit(\n",
    "    df_normalized['TenYearCHD'],\n",
    "    df_normalized[['BMI','heartRate']]**2\n",
    ")\n",
    "\n",
    "results = logistic_2d.fit()\n",
    "results.summary()"
   ]
  },
  {
   "cell_type": "code",
   "execution_count": null,
   "metadata": {
    "id": "KQQ-CjVOsMgP"
   },
   "outputs": [],
   "source": [
    "df_normalized[['BMI','heartRate','TenYearCHD']].plot.scatter(\n",
    "    x='BMI',\n",
    "    y='heartRate',\n",
    "    c='TenYearCHD',\n",
    "    cmap='jet',\n",
    "    sharex=False\n",
    ")\n",
    "\n",
    "decp = decision_boundary_plot(df_normalized, 'BMI', 'heartRate', results, add_c=False, p=2, level=0.1)"
   ]
  },
  {
   "cell_type": "code",
   "execution_count": null,
   "metadata": {},
   "outputs": [],
   "source": [
    "df_normalized['logistic circle prediction'] = (\n",
    "    results.predict(df_normalized[['BMI','heartRate']]**2) > 0.5\n",
    ").astype(int)\n",
    "\n",
    "\n",
    "metrics.accuracy_score(\n",
    "    df_normalized['TenYearCHD'],\n",
    "    df_normalized['logistic circle prediction']\n",
    ")"
   ]
  },
  {
   "cell_type": "markdown",
   "metadata": {
    "id": "1wFd_8CasMgS"
   },
   "source": [
    "<div dir=rtl>\n",
    "    שאלה טובה שיש לשאול היא למה לעצור שם? לכאורה היינו יכולים להוסיף למודל ערכים מסדר ראשון ולקבל רמת סיבוכיות \n",
    "    יותר גבוהה ובאופן דומה ערכים מסדר גבוה\n",
    "</div>\n",
    "\n",
    "![](6_more_logistic_regression.png)\n",
    "\n",
    "<div dir=rtl>\n",
    "    באופן תאורטי היינו יכולים להתאים כל צורה אך מה הסכנה? אופברפיט.\n",
    "</div>"
   ]
  }
 ],
 "metadata": {
  "colab": {
   "collapsed_sections": [],
   "name": "6_recitation_6.ipynb",
   "provenance": []
  },
  "kernelspec": {
   "display_name": "Python 3",
   "language": "python",
   "name": "python3"
  },
  "language_info": {
   "codemirror_mode": {
    "name": "ipython",
    "version": 3
   },
   "file_extension": ".py",
   "mimetype": "text/x-python",
   "name": "python",
   "nbconvert_exporter": "python",
   "pygments_lexer": "ipython3",
   "version": "3.7.5"
  }
 },
 "nbformat": 4,
 "nbformat_minor": 1
}
