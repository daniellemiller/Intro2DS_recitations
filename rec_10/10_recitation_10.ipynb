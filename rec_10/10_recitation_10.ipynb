{
 "cells": [
  {
   "cell_type": "markdown",
   "metadata": {},
   "source": [
    "# <div dir=rtl> תרגול עשירי - The return of Feature Selection </div>\n",
    "\n",
    "<div dir=rtl>\n",
    "     בתרגול זה נכיר שיטות נוספות לבחירת פיצ'רים בהינתן דאטא סט ומודל. נשתמש במודל לבחירת הפיצ'רים.\n",
    "    <br />\n",
    "    בתרגול הקודם ראינו איך ניתן לבחור פיצ'רים על ידי השוואה בינם לבין עצמם או בינם ובין הלייבל (שיטות פילטר). כעת נדון על שיטות לבחירת פיצ'רים באמצעות מודל כלשהו. נאמן את המודל, נבדוק מדד טיב כלשהו לגבי המודל (אותו נרצה לאפטם) ונסיק מסקנות לגבי הפיצ'רים.\n",
    "    <br />\n",
    "</div>\n",
    "\n",
    "![](https://upload.wikimedia.org/wikipedia/commons/0/04/Feature_selection_Wrapper_Method.png)\n",
    "\n",
    "<div dir=rtl>\n",
    "     בתרגול נדון בשלוש שיטות:</div>\n",
    "\n",
    "- Forward selection\n",
    "- Backward elimination\n",
    "- Recursive Feature Elimination\n",
    "\n",
    "## <div dir=rtl> שאלה  1 </div>\n",
    "<div dir=rtl>\n",
    "     בשנת 1988 פרסמו במשותף מספר מכוני מחקר באירופה מידע על אודות 303 חולי לב. המידע כלל נתונים שהוזנו בעת הגעה של המטופל לבית החולים לבדיקה.\n",
    "    <br />\n",
    "    המידע קיים בקובץ 9.heart.csv\n",
    "</div>\n",
    "\n",
    "<div dir=rtl>\n",
    "     א. טענו את הקובץ לאובייקט המתים למידע טבלאי.\n",
    "</div>"
   ]
  },
  {
   "cell_type": "code",
   "execution_count": 32,
   "metadata": {},
   "outputs": [
    {
     "name": "stdout",
     "output_type": "stream",
     "text": [
      "\u001b[31m10_recitation_10.html\u001b[m\u001b[m*  \u001b[31m10_recitation_10.ipynb\u001b[m\u001b[m* \u001b[31m9.heart.csv\u001b[m\u001b[m*\r\n"
     ]
    }
   ],
   "source": [
    "%ls"
   ]
  },
  {
   "cell_type": "code",
   "execution_count": 33,
   "metadata": {},
   "outputs": [
    {
     "data": {
      "text/html": [
       "<div>\n",
       "<style scoped>\n",
       "    .dataframe tbody tr th:only-of-type {\n",
       "        vertical-align: middle;\n",
       "    }\n",
       "\n",
       "    .dataframe tbody tr th {\n",
       "        vertical-align: top;\n",
       "    }\n",
       "\n",
       "    .dataframe thead th {\n",
       "        text-align: right;\n",
       "    }\n",
       "</style>\n",
       "<table border=\"1\" class=\"dataframe\">\n",
       "  <thead>\n",
       "    <tr style=\"text-align: right;\">\n",
       "      <th></th>\n",
       "      <th>age</th>\n",
       "      <th>sex</th>\n",
       "      <th>cp</th>\n",
       "      <th>trestbps</th>\n",
       "      <th>chol</th>\n",
       "      <th>fbs</th>\n",
       "      <th>restecg</th>\n",
       "      <th>thalach</th>\n",
       "      <th>exang</th>\n",
       "      <th>oldpeak</th>\n",
       "      <th>slope</th>\n",
       "      <th>ca</th>\n",
       "      <th>thal</th>\n",
       "      <th>target</th>\n",
       "    </tr>\n",
       "  </thead>\n",
       "  <tbody>\n",
       "    <tr>\n",
       "      <th>164</th>\n",
       "      <td>38</td>\n",
       "      <td>1</td>\n",
       "      <td>2</td>\n",
       "      <td>138</td>\n",
       "      <td>175</td>\n",
       "      <td>0</td>\n",
       "      <td>1</td>\n",
       "      <td>173</td>\n",
       "      <td>0</td>\n",
       "      <td>0.0</td>\n",
       "      <td>2</td>\n",
       "      <td>4</td>\n",
       "      <td>2</td>\n",
       "      <td>1</td>\n",
       "    </tr>\n",
       "    <tr>\n",
       "      <th>63</th>\n",
       "      <td>41</td>\n",
       "      <td>1</td>\n",
       "      <td>1</td>\n",
       "      <td>135</td>\n",
       "      <td>203</td>\n",
       "      <td>0</td>\n",
       "      <td>1</td>\n",
       "      <td>132</td>\n",
       "      <td>0</td>\n",
       "      <td>0.0</td>\n",
       "      <td>1</td>\n",
       "      <td>0</td>\n",
       "      <td>1</td>\n",
       "      <td>1</td>\n",
       "    </tr>\n",
       "    <tr>\n",
       "      <th>203</th>\n",
       "      <td>68</td>\n",
       "      <td>1</td>\n",
       "      <td>2</td>\n",
       "      <td>180</td>\n",
       "      <td>274</td>\n",
       "      <td>1</td>\n",
       "      <td>0</td>\n",
       "      <td>150</td>\n",
       "      <td>1</td>\n",
       "      <td>1.6</td>\n",
       "      <td>1</td>\n",
       "      <td>0</td>\n",
       "      <td>3</td>\n",
       "      <td>0</td>\n",
       "    </tr>\n",
       "    <tr>\n",
       "      <th>59</th>\n",
       "      <td>57</td>\n",
       "      <td>0</td>\n",
       "      <td>0</td>\n",
       "      <td>128</td>\n",
       "      <td>303</td>\n",
       "      <td>0</td>\n",
       "      <td>0</td>\n",
       "      <td>159</td>\n",
       "      <td>0</td>\n",
       "      <td>0.0</td>\n",
       "      <td>2</td>\n",
       "      <td>1</td>\n",
       "      <td>2</td>\n",
       "      <td>1</td>\n",
       "    </tr>\n",
       "    <tr>\n",
       "      <th>86</th>\n",
       "      <td>68</td>\n",
       "      <td>1</td>\n",
       "      <td>2</td>\n",
       "      <td>118</td>\n",
       "      <td>277</td>\n",
       "      <td>0</td>\n",
       "      <td>1</td>\n",
       "      <td>151</td>\n",
       "      <td>0</td>\n",
       "      <td>1.0</td>\n",
       "      <td>2</td>\n",
       "      <td>1</td>\n",
       "      <td>3</td>\n",
       "      <td>1</td>\n",
       "    </tr>\n",
       "  </tbody>\n",
       "</table>\n",
       "</div>"
      ],
      "text/plain": [
       "     age  sex  cp  trestbps  chol  fbs  restecg  thalach  exang  oldpeak  \\\n",
       "164   38    1   2       138   175    0        1      173      0      0.0   \n",
       "63    41    1   1       135   203    0        1      132      0      0.0   \n",
       "203   68    1   2       180   274    1        0      150      1      1.6   \n",
       "59    57    0   0       128   303    0        0      159      0      0.0   \n",
       "86    68    1   2       118   277    0        1      151      0      1.0   \n",
       "\n",
       "     slope  ca  thal  target  \n",
       "164      2   4     2       1  \n",
       "63       1   0     1       1  \n",
       "203      1   0     3       0  \n",
       "59       2   1     2       1  \n",
       "86       2   1     3       1  "
      ]
     },
     "execution_count": 33,
     "metadata": {},
     "output_type": "execute_result"
    }
   ],
   "source": [
    "import pandas as pd\n",
    "\n",
    "df = pd.read_csv('9.heart.csv')\n",
    "df.sample(5)"
   ]
  },
  {
   "cell_type": "code",
   "execution_count": 34,
   "metadata": {},
   "outputs": [
    {
     "data": {
      "text/plain": [
       "age         303.0\n",
       "sex         303.0\n",
       "cp          303.0\n",
       "trestbps    303.0\n",
       "chol        303.0\n",
       "fbs         303.0\n",
       "restecg     303.0\n",
       "thalach     303.0\n",
       "exang       303.0\n",
       "oldpeak     303.0\n",
       "slope       303.0\n",
       "ca          303.0\n",
       "thal        303.0\n",
       "target      303.0\n",
       "Name: count, dtype: float64"
      ]
     },
     "execution_count": 34,
     "metadata": {},
     "output_type": "execute_result"
    }
   ],
   "source": [
    "df.describe().loc['count', :]"
   ]
  },
  {
   "cell_type": "markdown",
   "metadata": {},
   "source": [
    "<div dir=rtl>\n",
    "     ב. חלקו את הדאטא לשלוש קבוצות: אחת המכילה 80 אחוז מהנתונים ועוד שתיים בגודל שווה.\n",
    "</div>\n",
    "<br />\n",
    "<div dir=rtl>\n",
    "     נשים לב שבניגוד לתרגולים קודמים, כעת מבקשים מאיתנו שלוש קבוצת. אחת גדולה ועוד שתיים קטנות. אנחנו נפרש את ההנחיה לפי המנהג התקין באימון מודלים של למידת מכונה - על קבוצה אחת נתאמן, בעזרת הקבוצה השנייה נשנה את המטה-פרמטרים של המודל ונאמן שוב כדי לשפר את התוצאות ועל קבוצה שלישית ניבחן.\n",
    "    מנהג נכון הוא לדאוג להתפלגות זהה של המחלקות בכל אחת מהקבוצות. ראינו בעבר איך ניתן לבצע זאת לחלוקה לשתי קבוצות על ידי הפונקציה train_test_split והארגומנט stratify. כעת נחלק את הקבוצה הקטנה שוב.\n",
    "</div>"
   ]
  },
  {
   "cell_type": "code",
   "execution_count": 35,
   "metadata": {},
   "outputs": [
    {
     "name": "stdout",
     "output_type": "stream",
     "text": [
      "train df shape (242, 14) \n",
      "test+validation df shape (61, 14) \n",
      "\n",
      "\n",
      "validation df shape (30, 14) \n",
      "test df shape (31, 14)\n"
     ]
    }
   ],
   "source": [
    "from sklearn.model_selection import train_test_split\n",
    "\n",
    "df_train, df_test_val = train_test_split(\n",
    "    df,\n",
    "    stratify=df['target'],\n",
    "    train_size = 0.8,\n",
    "    random_state=0\n",
    ")\n",
    "\n",
    "print('train df shape', df_train.shape, '\\ntest+validation df shape', df_test_val.shape, '\\n\\n')\n",
    "\n",
    "df_val, df_test = train_test_split(\n",
    "    df_test_val,\n",
    "    stratify=df_test_val['target'],\n",
    "    test_size = 0.5,\n",
    "    random_state=0\n",
    ")\n",
    "\n",
    "print('validation df shape', df_val.shape, '\\ntest df shape', df_test.shape)\n"
   ]
  },
  {
   "cell_type": "markdown",
   "metadata": {},
   "source": [
    "<div dir=rtl>\n",
    "     נשים לב שהקבוצות מדויקות עד כדי עיגול למספרים שלמים.\n",
    "</div>\n",
    "<br />\n",
    "<div dir=rtl>\n",
    "     ג. מיצאו פיצ'ר אחד כלשהו המסווג את הדאטא בצורה אופטימלית עבור מודל רגרסיה לוגיסטית.\n",
    "</div>"
   ]
  },
  {
   "cell_type": "code",
   "execution_count": 36,
   "metadata": {},
   "outputs": [
    {
     "name": "stdout",
     "output_type": "stream",
     "text": [
      "feature: age, accuracy: 0.6\n",
      "feature: sex, accuracy: 0.7\n",
      "feature: cp, accuracy: 0.7666666666666667\n",
      "feature: trestbps, accuracy: 0.5666666666666667\n",
      "feature: chol, accuracy: 0.5333333333333333\n",
      "feature: fbs, accuracy: 0.5333333333333333\n",
      "feature: restecg, accuracy: 0.4666666666666667\n",
      "feature: thalach, accuracy: 0.7333333333333333\n",
      "feature: exang, accuracy: 0.7\n",
      "feature: oldpeak, accuracy: 0.7\n",
      "feature: slope, accuracy: 0.7\n",
      "feature: ca, accuracy: 0.7666666666666667\n",
      "feature: thal, accuracy: 0.7\n"
     ]
    }
   ],
   "source": [
    "from sklearn.linear_model import LogisticRegression\n",
    "from sklearn.metrics import accuracy_score\n",
    "\n",
    "\n",
    "for feature in df_train.drop('target', axis='columns'):\n",
    "    lr = LogisticRegression(max_iter = 1e3)\n",
    "    \n",
    "    lr.fit(df_train[feature].values.reshape(-1,1), df_train['target'])\n",
    "    predictions = lr.predict(df_val[feature].values.reshape(-1,1))\n",
    "    \n",
    "    print(f'feature: {feature}, accuracy: {accuracy_score(df_val[\"target\"], predictions)}')"
   ]
  },
  {
   "cell_type": "markdown",
   "metadata": {},
   "source": [
    "<div dir=rtl>\n",
    "     למעלה - עברנו על כל עמודה של הדאטא ואימנו מודל מסוג רגרסיה לוגיסטית. מהנתונים עולה מהו הפיצ'ר המבוקש:\n",
    "</div>"
   ]
  },
  {
   "cell_type": "code",
   "execution_count": 37,
   "metadata": {},
   "outputs": [],
   "source": [
    "selected_features = ['cp']"
   ]
  },
  {
   "cell_type": "markdown",
   "metadata": {},
   "source": [
    "<div dir=rtl>\n",
    "     ד. מצאו שלושה פיצ'רים נוספים עבורם הסיווג אופטימלי. ביחנו את עצמכם על קבוצת הוולידציה ועל קבוצת המבחן.\n",
    "</div>\n",
    "<br />\n",
    "<div dir=rtl>\n",
    "     מההנחיה עולה כי כעת נדרש להגיע לקבוצה בעלת ארבעה פיצ'רים כאשר אחד מהם הוא הפיצ'ר אותו בחרנו בסעיף הקודם. לשיטה זו קוראים Forward Selection (או במקומות מסוימים Sequential Forward Selection).\n",
    "    <br />\n",
    "    נבצע זאת על ידי מעבר על כל הפיצ'רים ובדיקת הפיצ'ר שיחד עם זה שבחרנו למעלה נותן סיווג אופטימלי. לאחר מכן נעבור שוב על כל הפיצ'רים שנבחרו ונבחר את הפיצ'ר האופטימלי עבור השלשה וכן הלאה.\n",
    "    <br />\n",
    "    מה החיסרון של השיטה?\n",
    "</div>"
   ]
  },
  {
   "cell_type": "code",
   "execution_count": 38,
   "metadata": {},
   "outputs": [
    {
     "name": "stdout",
     "output_type": "stream",
     "text": [
      "== iteration num 0 ===\n",
      " fetures selected ['cp', 'chol']\n",
      "== iteration num 1 ===\n",
      " fetures selected ['cp', 'chol', 'oldpeak']\n",
      "== iteration num 2 ===\n",
      " fetures selected ['cp', 'chol', 'oldpeak', 'age']\n"
     ]
    },
    {
     "data": {
      "text/plain": [
       "['cp', 'chol', 'oldpeak', 'age']"
      ]
     },
     "execution_count": 38,
     "metadata": {},
     "output_type": "execute_result"
    }
   ],
   "source": [
    "selected_features = ['cp']\n",
    "\n",
    "for iteration in range(3):\n",
    "\n",
    "    accuracies = []\n",
    "    \n",
    "    for feature in df_train.drop(selected_features + ['target'], axis='columns'):\n",
    "        \n",
    "        lr = LogisticRegression(max_iter = 1e3)\n",
    "        \n",
    "        lr.fit(df_train[selected_features + [feature]], df_train['target'])\n",
    "        predictions = lr.predict(df_val[selected_features + [feature]])\n",
    "        \n",
    "        accuracies.append((feature,accuracy_score(df_val[\"target\"], predictions)))\n",
    "        \n",
    "    accuracies_df = pd.DataFrame(accuracies, columns=['feature', 'accuracy'])  \n",
    "    selected_features.append(\n",
    "        accuracies_df.iloc[accuracies_df['accuracy'].idxmax(),0]\n",
    "    )\n",
    "    print(f\"== iteration num {iteration} ===\\n fetures selected {selected_features}\")\n",
    "\n",
    "selected_features  "
   ]
  },
  {
   "cell_type": "markdown",
   "metadata": {},
   "source": [
    "<div dir=rtl>\n",
    "     מצאנו סט של ארבעה פיצ'רים כמבוקש. ניבחן על קבוצת הוולידציה ועל קבוצת המבחן:\n",
    "</div>"
   ]
  },
  {
   "cell_type": "code",
   "execution_count": 39,
   "metadata": {},
   "outputs": [
    {
     "data": {
      "text/plain": [
       "0.8666666666666667"
      ]
     },
     "execution_count": 39,
     "metadata": {},
     "output_type": "execute_result"
    }
   ],
   "source": [
    "lr = LogisticRegression(max_iter = 1e3)\n",
    "lr.fit(df_train[selected_features], df_train['target'])\n",
    "\n",
    "predictions = lr.predict(df_val[selected_features])\n",
    "accuracy_score(df_val[\"target\"], predictions)"
   ]
  },
  {
   "cell_type": "code",
   "execution_count": 40,
   "metadata": {},
   "outputs": [
    {
     "data": {
      "text/plain": [
       "0.7741935483870968"
      ]
     },
     "execution_count": 40,
     "metadata": {},
     "output_type": "execute_result"
    }
   ],
   "source": [
    "predictions = lr.predict(df_test[selected_features])\n",
    "accuracy_score(df_test[\"target\"], predictions)"
   ]
  },
  {
   "cell_type": "markdown",
   "metadata": {},
   "source": [
    "<div dir=rtl>\n",
    "     ה. מה איכות הסיווג של מסווג לינארי עם כלל הפיצ'רים? מצאו אילו פיצ'רים כדאי להוריד כך שתישארו עם ארבעה פיצ'רים. ביחנו את עצמכם הן על קבוצת הוולידציה והן על קבוצת המבחן.\n",
    "</div>\n",
    "\n",
    "<br />\n",
    "<div dir=rtl>\n",
    "     כעת נמצא את איכות הסיווג תוך שימוש בכלל הפיצ'רים. עבור סעיף זה בחרתי להשתמש במימוש של statsmodels ומיד נבין למה.\n",
    "</div>"
   ]
  },
  {
   "cell_type": "code",
   "execution_count": 41,
   "metadata": {},
   "outputs": [
    {
     "name": "stdout",
     "output_type": "stream",
     "text": [
      "Optimization terminated successfully.\n",
      "         Current function value: 0.347078\n",
      "         Iterations 7\n"
     ]
    },
    {
     "data": {
      "text/plain": [
       "0.8666666666666667"
      ]
     },
     "execution_count": 41,
     "metadata": {},
     "output_type": "execute_result"
    }
   ],
   "source": [
    "import statsmodels.api as sm\n",
    "\n",
    "lr = sm.Logit(df_train['target'], sm.add_constant(df_train.drop('target', axis='columns')))\n",
    "\n",
    "results = lr.fit()\n",
    "\n",
    "predictions = results.predict(sm.add_constant(df_val.drop('target', axis='columns')))>=0.5\n",
    "accuracy_score(df_val[\"target\"], predictions)"
   ]
  },
  {
   "cell_type": "code",
   "execution_count": 42,
   "metadata": {},
   "outputs": [
    {
     "data": {
      "text/html": [
       "<table class=\"simpletable\">\n",
       "<caption>Logit Regression Results</caption>\n",
       "<tr>\n",
       "  <th>Dep. Variable:</th>        <td>target</td>      <th>  No. Observations:  </th>  <td>   242</td>  \n",
       "</tr>\n",
       "<tr>\n",
       "  <th>Model:</th>                 <td>Logit</td>      <th>  Df Residuals:      </th>  <td>   228</td>  \n",
       "</tr>\n",
       "<tr>\n",
       "  <th>Method:</th>                 <td>MLE</td>       <th>  Df Model:          </th>  <td>    13</td>  \n",
       "</tr>\n",
       "<tr>\n",
       "  <th>Date:</th>            <td>Sat, 07 May 2022</td> <th>  Pseudo R-squ.:     </th>  <td>0.4963</td>  \n",
       "</tr>\n",
       "<tr>\n",
       "  <th>Time:</th>                <td>23:05:28</td>     <th>  Log-Likelihood:    </th> <td> -83.993</td> \n",
       "</tr>\n",
       "<tr>\n",
       "  <th>converged:</th>             <td>True</td>       <th>  LL-Null:           </th> <td> -166.74</td> \n",
       "</tr>\n",
       "<tr>\n",
       "  <th>Covariance Type:</th>     <td>nonrobust</td>    <th>  LLR p-value:       </th> <td>1.518e-28</td>\n",
       "</tr>\n",
       "</table>\n",
       "<table class=\"simpletable\">\n",
       "<tr>\n",
       "      <td></td>        <th>coef</th>     <th>std err</th>      <th>z</th>      <th>P>|z|</th>  <th>[0.025</th>    <th>0.975]</th>  \n",
       "</tr>\n",
       "<tr>\n",
       "  <th>const</th>    <td>    4.5270</td> <td>    3.012</td> <td>    1.503</td> <td> 0.133</td> <td>   -1.377</td> <td>   10.431</td>\n",
       "</tr>\n",
       "<tr>\n",
       "  <th>age</th>      <td>   -0.0069</td> <td>    0.027</td> <td>   -0.255</td> <td> 0.799</td> <td>   -0.060</td> <td>    0.046</td>\n",
       "</tr>\n",
       "<tr>\n",
       "  <th>sex</th>      <td>   -1.4691</td> <td>    0.523</td> <td>   -2.807</td> <td> 0.005</td> <td>   -2.495</td> <td>   -0.443</td>\n",
       "</tr>\n",
       "<tr>\n",
       "  <th>cp</th>       <td>    0.9343</td> <td>    0.213</td> <td>    4.379</td> <td> 0.000</td> <td>    0.516</td> <td>    1.352</td>\n",
       "</tr>\n",
       "<tr>\n",
       "  <th>trestbps</th> <td>   -0.0217</td> <td>    0.012</td> <td>   -1.880</td> <td> 0.060</td> <td>   -0.044</td> <td>    0.001</td>\n",
       "</tr>\n",
       "<tr>\n",
       "  <th>chol</th>     <td>   -0.0032</td> <td>    0.004</td> <td>   -0.742</td> <td> 0.458</td> <td>   -0.012</td> <td>    0.005</td>\n",
       "</tr>\n",
       "<tr>\n",
       "  <th>fbs</th>      <td>    0.2254</td> <td>    0.579</td> <td>    0.389</td> <td> 0.697</td> <td>   -0.910</td> <td>    1.361</td>\n",
       "</tr>\n",
       "<tr>\n",
       "  <th>restecg</th>  <td>    0.7787</td> <td>    0.404</td> <td>    1.925</td> <td> 0.054</td> <td>   -0.014</td> <td>    1.571</td>\n",
       "</tr>\n",
       "<tr>\n",
       "  <th>thalach</th>  <td>    0.0167</td> <td>    0.012</td> <td>    1.450</td> <td> 0.147</td> <td>   -0.006</td> <td>    0.039</td>\n",
       "</tr>\n",
       "<tr>\n",
       "  <th>exang</th>    <td>   -1.4455</td> <td>    0.468</td> <td>   -3.091</td> <td> 0.002</td> <td>   -2.362</td> <td>   -0.529</td>\n",
       "</tr>\n",
       "<tr>\n",
       "  <th>oldpeak</th>  <td>   -0.6387</td> <td>    0.241</td> <td>   -2.651</td> <td> 0.008</td> <td>   -1.111</td> <td>   -0.167</td>\n",
       "</tr>\n",
       "<tr>\n",
       "  <th>slope</th>    <td>    0.4844</td> <td>    0.397</td> <td>    1.219</td> <td> 0.223</td> <td>   -0.295</td> <td>    1.263</td>\n",
       "</tr>\n",
       "<tr>\n",
       "  <th>ca</th>       <td>   -0.7140</td> <td>    0.207</td> <td>   -3.441</td> <td> 0.001</td> <td>   -1.121</td> <td>   -0.307</td>\n",
       "</tr>\n",
       "<tr>\n",
       "  <th>thal</th>     <td>   -0.9965</td> <td>    0.327</td> <td>   -3.052</td> <td> 0.002</td> <td>   -1.637</td> <td>   -0.356</td>\n",
       "</tr>\n",
       "</table>"
      ],
      "text/plain": [
       "<class 'statsmodels.iolib.summary.Summary'>\n",
       "\"\"\"\n",
       "                           Logit Regression Results                           \n",
       "==============================================================================\n",
       "Dep. Variable:                 target   No. Observations:                  242\n",
       "Model:                          Logit   Df Residuals:                      228\n",
       "Method:                           MLE   Df Model:                           13\n",
       "Date:                Sat, 07 May 2022   Pseudo R-squ.:                  0.4963\n",
       "Time:                        23:05:28   Log-Likelihood:                -83.993\n",
       "converged:                       True   LL-Null:                       -166.74\n",
       "Covariance Type:            nonrobust   LLR p-value:                 1.518e-28\n",
       "==============================================================================\n",
       "                 coef    std err          z      P>|z|      [0.025      0.975]\n",
       "------------------------------------------------------------------------------\n",
       "const          4.5270      3.012      1.503      0.133      -1.377      10.431\n",
       "age           -0.0069      0.027     -0.255      0.799      -0.060       0.046\n",
       "sex           -1.4691      0.523     -2.807      0.005      -2.495      -0.443\n",
       "cp             0.9343      0.213      4.379      0.000       0.516       1.352\n",
       "trestbps      -0.0217      0.012     -1.880      0.060      -0.044       0.001\n",
       "chol          -0.0032      0.004     -0.742      0.458      -0.012       0.005\n",
       "fbs            0.2254      0.579      0.389      0.697      -0.910       1.361\n",
       "restecg        0.7787      0.404      1.925      0.054      -0.014       1.571\n",
       "thalach        0.0167      0.012      1.450      0.147      -0.006       0.039\n",
       "exang         -1.4455      0.468     -3.091      0.002      -2.362      -0.529\n",
       "oldpeak       -0.6387      0.241     -2.651      0.008      -1.111      -0.167\n",
       "slope          0.4844      0.397      1.219      0.223      -0.295       1.263\n",
       "ca            -0.7140      0.207     -3.441      0.001      -1.121      -0.307\n",
       "thal          -0.9965      0.327     -3.052      0.002      -1.637      -0.356\n",
       "==============================================================================\n",
       "\"\"\""
      ]
     },
     "execution_count": 42,
     "metadata": {},
     "output_type": "execute_result"
    }
   ],
   "source": [
    "results.summary()"
   ]
  },
  {
   "cell_type": "markdown",
   "metadata": {},
   "source": [
    "<div dir=rtl>\n",
    "     מעל - הדיוק כפי שנמצא עבור כלל הפיצ'רים וטבלה המרכזת את הנתונים הסטטיסטיים בהתאמה של הפונקציה. נשים לב שלכל פיצ'ר הפונקציה מצאה גם את הPV שלו. אמנם ניתן להמשיך להשתמש בדיוק, אבל בסעיף זה אני בוחר להשתמש בPV על מנת למיין פיצ'רים.\n",
    "    <br />\n",
    "    בסעיף זה ביקשו מאיתנו להתחיל עם כלל הפיצ'רים ולהוריד אחד-אחד עד שנישאר עם סט של ארבעה - שיטה שנקראת Backward elimination (ובמקומות מסוימים Sequential Backward Selection). \n",
    "    <br />\n",
    "    בשיטה זו נוריד כל פעם את הפיצ'ר עם הPV הכי גבוה ונאמן. נמצא שוב את הפיצ'ר עם ה PV הכי גבוה ונוריד אותו וחוזר חלילה.\n",
    "    <br />\n",
    "    למטה הקוד הרלוונטי עטוף בפונקציה על מנת להדגים נקודה כלשהי בהמשך.\n",
    "</div>"
   ]
  },
  {
   "cell_type": "code",
   "execution_count": 43,
   "metadata": {},
   "outputs": [],
   "source": [
    "def backward_elimination(n, df_train):\n",
    "    selected_features = df_train.drop('target',axis='columns').columns.to_list()\n",
    "\n",
    "    while len(selected_features) > n:\n",
    "        lr = sm.Logit(df_train['target'], sm.add_constant(df_train[selected_features]))\n",
    "        results = lr.fit(disp=0)\n",
    "\n",
    "        worst_pvalue_feature = results.pvalues.sort_values(ascending=False).index[0]\n",
    "\n",
    "        if worst_pvalue_feature == 'const':\n",
    "            worst_pvalue_feature = results.pvalues.sort_values(ascending=False).index[1]\n",
    "\n",
    "\n",
    "        selected_features.remove(worst_pvalue_feature)\n",
    "    return selected_features"
   ]
  },
  {
   "cell_type": "code",
   "execution_count": 44,
   "metadata": {},
   "outputs": [
    {
     "data": {
      "text/plain": [
       "['cp', 'exang', 'oldpeak', 'ca']"
      ]
     },
     "execution_count": 44,
     "metadata": {},
     "output_type": "execute_result"
    }
   ],
   "source": [
    "selected_features = backward_elimination(4, df_train)\n",
    "selected_features"
   ]
  },
  {
   "cell_type": "code",
   "execution_count": 45,
   "metadata": {},
   "outputs": [
    {
     "name": "stdout",
     "output_type": "stream",
     "text": [
      "Optimization terminated successfully.\n",
      "         Current function value: 0.416771\n",
      "         Iterations 7\n"
     ]
    },
    {
     "data": {
      "text/plain": [
       "0.7666666666666667"
      ]
     },
     "execution_count": 45,
     "metadata": {},
     "output_type": "execute_result"
    }
   ],
   "source": [
    "lr = sm.Logit(df_train['target'], sm.add_constant(df_train[selected_features]))\n",
    "\n",
    "results = lr.fit()\n",
    "\n",
    "predictions = results.predict(sm.add_constant(df_val[selected_features]))>=0.5\n",
    "accuracy_score(df_val[\"target\"], predictions)"
   ]
  },
  {
   "cell_type": "code",
   "execution_count": 46,
   "metadata": {},
   "outputs": [
    {
     "data": {
      "text/plain": [
       "0.8387096774193549"
      ]
     },
     "execution_count": 46,
     "metadata": {},
     "output_type": "execute_result"
    }
   ],
   "source": [
    "predictions = results.predict(sm.add_constant(df_test[selected_features]))>=0.5\n",
    "accuracy_score(df_test[\"target\"], predictions)"
   ]
  },
  {
   "cell_type": "markdown",
   "metadata": {},
   "source": [
    "<div dir=rtl>\n",
    "     למעשה, ניתן לראות מה יתרחש עבור כל בחירה של מספר פיצ'רים כלשהו. על מנת לעשות זאת נבחר כל פעם מספר בין 1 ל13 (מספר העמודות בדאטא), נמצא את הפיצ'רים על ידי הפונקציה שכתבנו, נאמן על קבוצת האימון ונבדוק את התוצאות על קבוצת הוולידציה.\n",
    "</div>"
   ]
  },
  {
   "cell_type": "code",
   "execution_count": 47,
   "metadata": {},
   "outputs": [
    {
     "data": {
      "image/png": "[encoded data removed]",
      "text/plain": [
       "<Figure size 432x288 with 1 Axes>"
      ]
     },
     "metadata": {
      "needs_background": "light"
     },
     "output_type": "display_data"
    }
   ],
   "source": [
    "resultsDF = []\n",
    "\n",
    "for n in range(1,len(df_train.drop('target',axis='columns').columns.to_list())):\n",
    "    selected_features = backward_elimination(n, df_train)\n",
    "\n",
    "    lr = sm.Logit(df_train['target'], sm.add_constant(df_train[selected_features]))\n",
    "    results = lr.fit(disp=0)\n",
    "\n",
    "    predictions = results.predict(sm.add_constant(df_val[selected_features]))>=0.5\n",
    "    \n",
    "    resultsDF.append(pd.DataFrame(\n",
    "        {'n_features': n, 'Accuracy': accuracy_score(df_val[\"target\"], predictions)},index=[0]))\n",
    "resultsDF = pd.concat(resultsDF)\n",
    "p = resultsDF.plot.scatter(x='n_features', y='Accuracy')"
   ]
  },
  {
   "cell_type": "markdown",
   "metadata": {},
   "source": [
    "<div dir=rtl>\n",
    "    נשים לב ששתי השיטות האלה ממומשות בsklearn תחת <code>SequentialFeatureSelector</code> יחד עם קרוס ואלידציה <br />ֿ\n",
    "    הנה הצצה לאיך ניתן להשתמש בהן:\n",
    "</div>"
   ]
  },
  {
   "cell_type": "code",
   "execution_count": 48,
   "metadata": {},
   "outputs": [
    {
     "name": "stdout",
     "output_type": "stream",
     "text": [
      "forward Index(['cp', 'thalach', 'ca', 'thal'], dtype='object')\n",
      "backward Index(['cp', 'oldpeak', 'ca', 'thal'], dtype='object')\n"
     ]
    }
   ],
   "source": [
    "from sklearn.feature_selection import SequentialFeatureSelector\n",
    "\n",
    "sfs = SequentialFeatureSelector(LogisticRegression(max_iter = 1e3), n_features_to_select=4)\n",
    "sfs.fit(df_train.drop('target', axis='columns'), df_train['target'])\n",
    "\n",
    "print(\"forward\", df_train.drop('target', axis='columns').columns[sfs.get_support()])\n",
    "\n",
    "sfs = SequentialFeatureSelector(LogisticRegression(max_iter = 1e3), n_features_to_select=4, direction='backward')\n",
    "sfs.fit(df_train.drop('target', axis='columns'), df_train['target'])\n",
    "\n",
    "print(\"backward\", df_train.drop('target', axis='columns').columns[sfs.get_support()])\n"
   ]
  },
  {
   "cell_type": "markdown",
   "metadata": {},
   "source": [
    "<div dir=rtl>\n",
    "    באופן כללי שני הכיוונים לרוב לא יחזירו את אותה התוצאה. <br />\n",
    "    נשים לב שגם לא קיבלנו את אותה התשובה כמו המימוש שלנו בשני המקרים. אחת הסיבות היא שלא השתמשנו בקורס ולידציה בבחירת הפיצ׳ר הראשוני וכמו כן גם בבחירת הפיצ׳רים הבאים. סיבה נוספת היא שהשתמשנו בתהליך הbackward בPV בשביל אלימינציה בעוד שבמימוש של sklearn אנחנו משתמשים במדד הaccuracy.\n",
    "</div>"
   ]
  },
  {
   "cell_type": "markdown",
   "metadata": {},
   "source": [
    "<div dir=rtl>\n",
    "     לשתי השיטות שראינו עד כה יש מספר חסרונות. נמנה שתיים מהן. הראשונה היא שבחירה כזו של פיצ'רים לא לוקחת בחשבון את כל הצירופים האפשריים - בכל שלב בוחרים פיצ'ר אחד ומוסיפים אותו לקבוצה, אבל לא לוקחים בחשבון צירוף של אותו פיצ'ר עם קבוצות אחרות. החיסרון השני הוא שבתהליך אנחנו מאמנים הרבה מודלים לכן השיטות מותאמות למודלים פשוטים ולמעט דאטא.\n",
    "</div>\n",
    "<br />\n",
    "<div dir=rtl>\n",
    "     ו. מצאו אילו פיצ'רים כדאי להוריד כך שנישאר עם סט אופטימלי. ביחנו את עצמכם הן על קבוצת הוולידציה והן על קבוצת המבחן.\n",
    "</div>\n",
    "<br />\n",
    "<div dir=rtl>\n",
    "     ניתן להתמודד עם החיסרון הראשון והוא על ידי שימוש בפונקציה רקורסיבית. פונקציה רקורסיבית עוברת על כל הקבוצות האפשריות של פיצ'רים ובוחרת מתוכם את זו הנותנת את הביצועים האופטימליים. נשים לב שבכך שפתרנו את הבעיה הראשונה - החמרנו את השנייה.\n",
    "    <br />\n",
    "    אמנם ניתן לממש זאת בעצמינו, במקרה זה מומלץ מאוד להשתמש במימוש מוכן. זאת משום שאנחנו נשתמש בפונקציה על מעט לאמן מספר גדול של מודלים, וללא מימוש אופטימלי זמן הריצה יהיה בלתי סביר. הפונקציה RFECV של Scikir-Learn מבצעת את הפעולה עבורינו:\n",
    "    <br /> Recursive Feature Elimination with Cross Validation.\n",
    "</div>"
   ]
  },
  {
   "cell_type": "code",
   "execution_count": 49,
   "metadata": {
    "scrolled": true
   },
   "outputs": [
    {
     "name": "stderr",
     "output_type": "stream",
     "text": [
      "/Users/daniellemiller/opt/anaconda3/lib/python3.7/site-packages/sklearn/linear_model/_logistic.py:765: ConvergenceWarning: lbfgs failed to converge (status=1):\n",
      "STOP: TOTAL NO. of ITERATIONS REACHED LIMIT.\n",
      "\n",
      "Increase the number of iterations (max_iter) or scale the data as shown in:\n",
      "    https://scikit-learn.org/stable/modules/preprocessing.html\n",
      "Please also refer to the documentation for alternative solver options:\n",
      "    https://scikit-learn.org/stable/modules/linear_model.html#logistic-regression\n",
      "  extra_warning_msg=_LOGISTIC_SOLVER_CONVERGENCE_MSG)\n"
     ]
    },
    {
     "data": {
      "text/plain": [
       "Index(['age', 'sex', 'cp', 'trestbps', 'chol', 'fbs', 'restecg', 'thalach',\n",
       "       'exang', 'oldpeak', 'slope', 'ca', 'thal'],\n",
       "      dtype='object')"
      ]
     },
     "execution_count": 49,
     "metadata": {},
     "output_type": "execute_result"
    }
   ],
   "source": [
    "from sklearn.feature_selection import RFECV\n",
    "from sklearn.linear_model import LogisticRegression\n",
    "\n",
    "model = LogisticRegression(max_iter=1e3)\n",
    "rfe = RFECV(model, min_features_to_select=1)\n",
    "\n",
    "train_val = pd.concat([df_train, df_val])\n",
    "\n",
    "rfe.fit(train_val.drop('target',axis='columns'), train_val['target'])\n",
    "selected_columns = train_val.drop('target',axis='columns').columns[\n",
    "    rfe.support_\n",
    "]\n",
    "\n",
    "selected_columns"
   ]
  },
  {
   "cell_type": "code",
   "execution_count": 50,
   "metadata": {},
   "outputs": [
    {
     "data": {
      "text/plain": [
       "LogisticRegression(max_iter=1000.0)"
      ]
     },
     "execution_count": 50,
     "metadata": {},
     "output_type": "execute_result"
    }
   ],
   "source": [
    "model.fit(train_val[selected_columns], train_val['target'])"
   ]
  },
  {
   "cell_type": "code",
   "execution_count": 51,
   "metadata": {},
   "outputs": [
    {
     "data": {
      "text/plain": [
       "0.8709677419354839"
      ]
     },
     "execution_count": 51,
     "metadata": {},
     "output_type": "execute_result"
    }
   ],
   "source": [
    "predictions = model.predict(df_test[selected_columns])\n",
    "accuracy_score(df_test[\"target\"], predictions)"
   ]
  },
  {
   "cell_type": "code",
   "execution_count": 52,
   "metadata": {},
   "outputs": [
    {
     "data": {
      "text/plain": [
       "Text(0, 0.5, 'Cross validation score (accuracy)')"
      ]
     },
     "execution_count": 52,
     "metadata": {},
     "output_type": "execute_result"
    },
    {
     "data": {
      "image/png": "[encoded data removed]",
      "text/plain": [
       "<Figure size 432x288 with 1 Axes>"
      ]
     },
     "metadata": {
      "needs_background": "light"
     },
     "output_type": "display_data"
    }
   ],
   "source": [
    "import matplotlib.pyplot as plt\n",
    "plt.plot(\n",
    "    range(1, len(rfe.grid_scores_) + 1),\n",
    "    rfe.grid_scores_,\n",
    ")\n",
    "plt.xlabel(\"Number of features selected\")\n",
    "plt.ylabel(\"Cross validation score (accuracy)\")\n"
   ]
  },
  {
   "cell_type": "markdown",
   "metadata": {},
   "source": [
    "<div dir=rtl>\n",
    "     ואכן קיבלנו סט של פיצ'רים עם דיוק מסוים בקבוצת וולידציה כלשהי (חיצונית לתהליך הקרוס-וולידציה).\n",
    "    <br /><br />\n",
    "    כעת מבין כל השיטות שלהלן נשאר לבחור סט כלשהו של פיצ'רים. איך? דבר אחד שלא עושים הוא לבחור סט פיצ'רים על בסיס הביצועים בקבוצת המבחן. קבוצת המבחן משמשת מדד לביצועים בעולם האמיתי. בעולם של למידת מכונה - המכונה לומדת מקבוצת האימון והאלגוריתמאי לומד מקבוצת הוולידציה אילו מטה-פרמטרים לבחור. האלגוריתם לאחר מכן יוצא לעולם ונבחן. בחירת סט של פיצ'רים על בסיס קבוצת המבחן משמעה אוברפיט - משמעה שהמטה פרמטרים של המודל נבחרו תוך שימוש בקבוצת המבחן ונעשתה למידה (של הגורם האנושי) באותה קבוצה.\n",
    "</div>"
   ]
  }
 ],
 "metadata": {
  "kernelspec": {
   "display_name": "Python 3",
   "language": "python",
   "name": "python3"
  },
  "language_info": {
   "codemirror_mode": {
    "name": "ipython",
    "version": 3
   },
   "file_extension": ".py",
   "mimetype": "text/x-python",
   "name": "python",
   "nbconvert_exporter": "python",
   "pygments_lexer": "ipython3",
   "version": "3.7.5"
  }
 },
 "nbformat": 4,
 "nbformat_minor": 4
}
