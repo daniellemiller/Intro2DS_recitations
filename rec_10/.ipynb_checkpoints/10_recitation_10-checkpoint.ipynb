{
 "cells": [
  {
   "cell_type": "markdown",
   "metadata": {},
   "source": [
    "# <div dir=rtl> תרגול עשירי - The return of Feature Selection </div>\n",
    "\n",
    "<div dir=rtl>\n",
    "     בתרגול זה נכיר שיטות נוספות לבחירת פיצ'רים בהינתן דאטא סט ומודל. נשתמש במודל לבחירת הפיצ'רים.\n",
    "    <br />\n",
    "    בתרגול הקודם ראינו איך ניתן לבחור פיצ'רים על ידי השוואה בינם לבין עצמם או בינם ובין הלייבל (שיטות פילטר). כעת נדון על שיטות לבחירת פיצ'רים באמצעות מודל כלשהו. נאמן את המודל, נבדוק מדד טיב כלשהו לגבי המודל (אותו נרצה לאפטם) ונסיק מסקנות לגבי הפיצ'רים.\n",
    "    <br />\n",
    "</div>\n",
    "\n",
    "![](https://upload.wikimedia.org/wikipedia/commons/0/04/Feature_selection_Wrapper_Method.png)\n",
    "\n",
    "<div dir=rtl>\n",
    "     בתרגול נדון בשלוש שיטות:</div>\n",
    "\n",
    "- Forward selection\n",
    "- Backward elimination\n",
    "- Recursive Feature Elimination\n",
    "\n",
    "## <div dir=rtl> שאלה  1 </div>\n",
    "<div dir=rtl>\n",
    "     בשנת 1988 פרסמו במשותף מספר מכוני מחקר באירופה מידע על אודות 303 חולי לב. המידע כלל נתונים הנכרשו בעת הגעה של המטופל לבית החולים לבדיקה.\n",
    "    <br />\n",
    "    המידע קיים בקובץ 9.heart.csv\n",
    "</div>\n",
    "\n",
    "<div dir=rtl>\n",
    "     א. טענו את הקובץ לאובייקט המתים למידע טבלאי.\n",
    "</div>"
   ]
  },
  {
   "cell_type": "code",
   "execution_count": 1,
   "metadata": {},
   "outputs": [
    {
     "name": "stdout",
     "output_type": "stream",
     "text": [
      "\u001b[31m10_recitation_10.html\u001b[m\u001b[m*  \u001b[31m10_recitation_10.ipynb\u001b[m\u001b[m* \u001b[31m9.heart.csv\u001b[m\u001b[m*\r\n"
     ]
    }
   ],
   "source": [
    "%ls"
   ]
  },
  {
   "cell_type": "code",
   "execution_count": 2,
   "metadata": {},
   "outputs": [
    {
     "data": {
      "text/html": [
       "<div>\n",
       "<style scoped>\n",
       "    .dataframe tbody tr th:only-of-type {\n",
       "        vertical-align: middle;\n",
       "    }\n",
       "\n",
       "    .dataframe tbody tr th {\n",
       "        vertical-align: top;\n",
       "    }\n",
       "\n",
       "    .dataframe thead th {\n",
       "        text-align: right;\n",
       "    }\n",
       "</style>\n",
       "<table border=\"1\" class=\"dataframe\">\n",
       "  <thead>\n",
       "    <tr style=\"text-align: right;\">\n",
       "      <th></th>\n",
       "      <th>age</th>\n",
       "      <th>sex</th>\n",
       "      <th>cp</th>\n",
       "      <th>trestbps</th>\n",
       "      <th>chol</th>\n",
       "      <th>fbs</th>\n",
       "      <th>restecg</th>\n",
       "      <th>thalach</th>\n",
       "      <th>exang</th>\n",
       "      <th>oldpeak</th>\n",
       "      <th>slope</th>\n",
       "      <th>ca</th>\n",
       "      <th>thal</th>\n",
       "      <th>target</th>\n",
       "    </tr>\n",
       "  </thead>\n",
       "  <tbody>\n",
       "    <tr>\n",
       "      <th>77</th>\n",
       "      <td>59</td>\n",
       "      <td>1</td>\n",
       "      <td>1</td>\n",
       "      <td>140</td>\n",
       "      <td>221</td>\n",
       "      <td>0</td>\n",
       "      <td>1</td>\n",
       "      <td>164</td>\n",
       "      <td>1</td>\n",
       "      <td>0.0</td>\n",
       "      <td>2</td>\n",
       "      <td>0</td>\n",
       "      <td>2</td>\n",
       "      <td>1</td>\n",
       "    </tr>\n",
       "    <tr>\n",
       "      <th>19</th>\n",
       "      <td>69</td>\n",
       "      <td>0</td>\n",
       "      <td>3</td>\n",
       "      <td>140</td>\n",
       "      <td>239</td>\n",
       "      <td>0</td>\n",
       "      <td>1</td>\n",
       "      <td>151</td>\n",
       "      <td>0</td>\n",
       "      <td>1.8</td>\n",
       "      <td>2</td>\n",
       "      <td>2</td>\n",
       "      <td>2</td>\n",
       "      <td>1</td>\n",
       "    </tr>\n",
       "    <tr>\n",
       "      <th>43</th>\n",
       "      <td>53</td>\n",
       "      <td>0</td>\n",
       "      <td>0</td>\n",
       "      <td>130</td>\n",
       "      <td>264</td>\n",
       "      <td>0</td>\n",
       "      <td>0</td>\n",
       "      <td>143</td>\n",
       "      <td>0</td>\n",
       "      <td>0.4</td>\n",
       "      <td>1</td>\n",
       "      <td>0</td>\n",
       "      <td>2</td>\n",
       "      <td>1</td>\n",
       "    </tr>\n",
       "    <tr>\n",
       "      <th>67</th>\n",
       "      <td>45</td>\n",
       "      <td>0</td>\n",
       "      <td>1</td>\n",
       "      <td>130</td>\n",
       "      <td>234</td>\n",
       "      <td>0</td>\n",
       "      <td>0</td>\n",
       "      <td>175</td>\n",
       "      <td>0</td>\n",
       "      <td>0.6</td>\n",
       "      <td>1</td>\n",
       "      <td>0</td>\n",
       "      <td>2</td>\n",
       "      <td>1</td>\n",
       "    </tr>\n",
       "    <tr>\n",
       "      <th>244</th>\n",
       "      <td>56</td>\n",
       "      <td>1</td>\n",
       "      <td>0</td>\n",
       "      <td>132</td>\n",
       "      <td>184</td>\n",
       "      <td>0</td>\n",
       "      <td>0</td>\n",
       "      <td>105</td>\n",
       "      <td>1</td>\n",
       "      <td>2.1</td>\n",
       "      <td>1</td>\n",
       "      <td>1</td>\n",
       "      <td>1</td>\n",
       "      <td>0</td>\n",
       "    </tr>\n",
       "  </tbody>\n",
       "</table>\n",
       "</div>"
      ],
      "text/plain": [
       "     age  sex  cp  trestbps  chol  fbs  restecg  thalach  exang  oldpeak  \\\n",
       "77    59    1   1       140   221    0        1      164      1      0.0   \n",
       "19    69    0   3       140   239    0        1      151      0      1.8   \n",
       "43    53    0   0       130   264    0        0      143      0      0.4   \n",
       "67    45    0   1       130   234    0        0      175      0      0.6   \n",
       "244   56    1   0       132   184    0        0      105      1      2.1   \n",
       "\n",
       "     slope  ca  thal  target  \n",
       "77       2   0     2       1  \n",
       "19       2   2     2       1  \n",
       "43       1   0     2       1  \n",
       "67       1   0     2       1  \n",
       "244      1   1     1       0  "
      ]
     },
     "execution_count": 2,
     "metadata": {},
     "output_type": "execute_result"
    }
   ],
   "source": [
    "import pandas as pd\n",
    "\n",
    "df = pd.read_csv('9.heart.csv')\n",
    "df.sample(5)"
   ]
  },
  {
   "cell_type": "code",
   "execution_count": 3,
   "metadata": {},
   "outputs": [
    {
     "data": {
      "text/plain": [
       "age         303.0\n",
       "sex         303.0\n",
       "cp          303.0\n",
       "trestbps    303.0\n",
       "chol        303.0\n",
       "fbs         303.0\n",
       "restecg     303.0\n",
       "thalach     303.0\n",
       "exang       303.0\n",
       "oldpeak     303.0\n",
       "slope       303.0\n",
       "ca          303.0\n",
       "thal        303.0\n",
       "target      303.0\n",
       "Name: count, dtype: float64"
      ]
     },
     "execution_count": 3,
     "metadata": {},
     "output_type": "execute_result"
    }
   ],
   "source": [
    "df.describe().loc['count', :]"
   ]
  },
  {
   "cell_type": "markdown",
   "metadata": {},
   "source": [
    "<div dir=rtl>\n",
    "     ב. חלקו את הדאטא לשלוש קבוצות: אחת המכילה 80 אחוז מהנתונים ועוד שתיים בגודל שווה.\n",
    "</div>\n",
    "<br />\n",
    "<div dir=rtl>\n",
    "     נשים לב שבניגוד לתרגולים קודמים, כעת מבקשים מאיתנו שלוש קבוצת. אחת גדולה ועוד שתיים קטנות. אנחנו נפרש את ההנחיה לפי המנהג התקין באימון מודלים של למידת מכונה - על קבוצה אחת נתאמן, בעזרת הקבוצה השנייה נשנה את המטה-פרמטרים של המודל ונאמן שוב כדי לשפר את התוצאות ועל קבוצה שלישית ניבחן.\n",
    "    מנהג נכון הוא לדאוג להתפלגות זהה של המחלקות בכל אחת מהקבוצות. ראינו בעבר איך ניתן לבצע זאת לחלוקה לשתי קבוצות על ידי הפונקציה train_test_split והארגומנט stratify. כעת נחלק את הקבוצה הקטנה שוב.\n",
    "</div>"
   ]
  },
  {
   "cell_type": "code",
   "execution_count": 4,
   "metadata": {},
   "outputs": [
    {
     "name": "stdout",
     "output_type": "stream",
     "text": [
      "train df shape (242, 14) \n",
      "test+validation df shape (61, 14) \n",
      "\n",
      "\n",
      "validation df shape (30, 14) \n",
      "test df shape (31, 14)\n"
     ]
    }
   ],
   "source": [
    "from sklearn.model_selection import train_test_split\n",
    "\n",
    "df_train, df_test_val = train_test_split(\n",
    "    df,\n",
    "    stratify=df['target'],\n",
    "    train_size = 0.8\n",
    ")\n",
    "\n",
    "print('train df shape', df_train.shape, '\\ntest+validation df shape', df_test_val.shape, '\\n\\n')\n",
    "\n",
    "df_val, df_test = train_test_split(\n",
    "    df_test_val,\n",
    "    stratify=df_test_val['target'],\n",
    "    test_size = 0.5\n",
    ")\n",
    "\n",
    "print('validation df shape', df_val.shape, '\\ntest df shape', df_test.shape)\n"
   ]
  },
  {
   "cell_type": "markdown",
   "metadata": {},
   "source": [
    "<div dir=rtl>\n",
    "     נשים לב שהקבוצות מדויקות עד כדי עיגול למספרים שלמים.\n",
    "</div>\n",
    "<br />\n",
    "<div dir=rtl>\n",
    "     ג. מיצאו פיצ'ר אחד כלשהו המסווג את הדאטא בצורה אופטימלית עבור מודל רגרסיה לוגיסטית.\n",
    "</div>"
   ]
  },
  {
   "cell_type": "code",
   "execution_count": 5,
   "metadata": {},
   "outputs": [
    {
     "name": "stdout",
     "output_type": "stream",
     "text": [
      "feature: age, accuracy: 0.7333333333333333\n",
      "feature: sex, accuracy: 0.6666666666666666\n",
      "feature: cp, accuracy: 0.7666666666666667\n",
      "feature: trestbps, accuracy: 0.5666666666666667\n",
      "feature: chol, accuracy: 0.4666666666666667\n",
      "feature: fbs, accuracy: 0.5666666666666667\n",
      "feature: restecg, accuracy: 0.5333333333333333\n",
      "feature: thalach, accuracy: 0.8\n",
      "feature: exang, accuracy: 0.6333333333333333\n",
      "feature: oldpeak, accuracy: 0.6\n",
      "feature: slope, accuracy: 0.7333333333333333\n",
      "feature: ca, accuracy: 0.7666666666666667\n",
      "feature: thal, accuracy: 0.5666666666666667\n"
     ]
    }
   ],
   "source": [
    "from sklearn.linear_model import LogisticRegression\n",
    "from sklearn.metrics import accuracy_score\n",
    "\n",
    "\n",
    "for feature in df_train.drop('target', axis='columns'):\n",
    "    lr = LogisticRegression(max_iter = 1e3)\n",
    "    \n",
    "    lr.fit(df_train[feature].values.reshape(-1,1), df_train['target'])\n",
    "    predictions = lr.predict(df_val[feature].values.reshape(-1,1))\n",
    "    \n",
    "    print(f'feature: {feature}, accuracy: {accuracy_score(df_val[\"target\"], predictions)}')"
   ]
  },
  {
   "cell_type": "markdown",
   "metadata": {},
   "source": [
    "<div dir=rtl>\n",
    "     למעלה - עברנו על כל עמודה של הדאטא ואימנו מודל מסוג רגרסיה לוגיסטית. מהנתונים עולה מהו הפיצ'ר המבוקש:\n",
    "</div>"
   ]
  },
  {
   "cell_type": "code",
   "execution_count": 17,
   "metadata": {},
   "outputs": [],
   "source": [
    "selected_features = ['thalach']"
   ]
  },
  {
   "cell_type": "markdown",
   "metadata": {},
   "source": [
    "<div dir=rtl>\n",
    "     ד. מצאו שלושה פיצ'רים נוספים עבורם הסיווג אופטימלי. ביחנו את עצמכם על קבוצת הוולידציה ועל קבוצת המבחן.\n",
    "</div>\n",
    "<br />\n",
    "<div dir=rtl>\n",
    "     מההנחיה עולה כי כעת נדרש להגיע לקבוצה בעלת ארבעה פיצ'רים כאשר אחד מהם הוא הפיצ'ר אותו בחרנו בסעיף הקודם. לשיטה זו קוראים Forward Selection (או במקומות מסוימים Sequential Forward Selection).\n",
    "    <br />\n",
    "    נבצע זאת על ידי מעבר על כל הפיצ'רים ובדיקת הפיצ'ר שיחד עם זה שבחרנו למעלה נותן סיווג אופטימלי. לאחר מכן נעבור שוב על כל הפיצ'רים שנבחרו ונבחר את הפיצ'ר האופטימלי עבור השלשה וכן הלאה.\n",
    "    <br />\n",
    "    מה החיסרון של השיטה?\n",
    "</div>"
   ]
  },
  {
   "cell_type": "code",
   "execution_count": 18,
   "metadata": {},
   "outputs": [
    {
     "name": "stdout",
     "output_type": "stream",
     "text": [
      "== iteration num 0 ===\n",
      " fetures selected ['thalach', 'cp']\n",
      "== iteration num 1 ===\n",
      " fetures selected ['thalach', 'cp', 'ca']\n",
      "== iteration num 2 ===\n",
      " fetures selected ['thalach', 'cp', 'ca', 'age']\n"
     ]
    },
    {
     "data": {
      "text/plain": [
       "['thalach', 'cp', 'ca', 'age']"
      ]
     },
     "execution_count": 18,
     "metadata": {},
     "output_type": "execute_result"
    }
   ],
   "source": [
    "selected_features = ['thalach']\n",
    "\n",
    "for iteration in range(3):\n",
    "\n",
    "    accuracies = pd.DataFrame([], columns=['feature','accuracy'])\n",
    "    \n",
    "    for feature in df_train.drop(selected_features + ['target'], axis='columns'):\n",
    "        \n",
    "        lr = LogisticRegression(max_iter = 1e3)\n",
    "        \n",
    "        lr.fit(df_train[selected_features + [feature]], df_train['target'])\n",
    "        predictions = lr.predict(df_val[selected_features + [feature]])\n",
    "        \n",
    "        \n",
    "        accuracies = accuracies.append(\n",
    "            {\n",
    "                'feature': feature, \n",
    "                'accuracy': accuracy_score(df_val[\"target\"], predictions)\n",
    "            },\n",
    "            ignore_index=True\n",
    "        )\n",
    "        \n",
    "        \n",
    "    selected_features.append(\n",
    "        accuracies.iloc[accuracies['accuracy'].idxmax(),0]\n",
    "    )\n",
    "    print(f\"== iteration num {iteration} ===\\n fetures selected {selected_features}\")\n",
    "\n",
    "selected_features  "
   ]
  },
  {
   "cell_type": "markdown",
   "metadata": {},
   "source": [
    "<div dir=rtl>\n",
    "     מצאנו סט של ארבעה פיצ'רים כמבוקש. ניבחן על קבוצת הוולידציה ועל קבוצת המבחן:\n",
    "</div>"
   ]
  },
  {
   "cell_type": "code",
   "execution_count": 19,
   "metadata": {},
   "outputs": [
    {
     "data": {
      "text/plain": [
       "0.9"
      ]
     },
     "execution_count": 19,
     "metadata": {},
     "output_type": "execute_result"
    }
   ],
   "source": [
    "lr = LogisticRegression(max_iter = 1e3)\n",
    "lr.fit(df_train[selected_features], df_train['target'])\n",
    "\n",
    "predictions = lr.predict(df_val[selected_features])\n",
    "accuracy_score(df_val[\"target\"], predictions)"
   ]
  },
  {
   "cell_type": "code",
   "execution_count": 20,
   "metadata": {},
   "outputs": [
    {
     "data": {
      "text/plain": [
       "0.7741935483870968"
      ]
     },
     "execution_count": 20,
     "metadata": {},
     "output_type": "execute_result"
    }
   ],
   "source": [
    "predictions = lr.predict(df_test[selected_features])\n",
    "accuracy_score(df_test[\"target\"], predictions)"
   ]
  },
  {
   "cell_type": "markdown",
   "metadata": {},
   "source": [
    "<div dir=rtl>\n",
    "     ה. מה איכות הסיווג של מסווג לינארי עם כלל הפיצ'רים? מצאו אילו פיצ'רים כדאי להוריד כך שתישארו עם ארבעה פיצ'רים. ביחנו את עצמכם הן על קבוצת הוולידציה והן על קבוצת המבחן.\n",
    "</div>\n",
    "\n",
    "<br />\n",
    "<div dir=rtl>\n",
    "     כעת נמצא את איכות הסיווג תוך שימוש בכלל הפיצ'רים. עבור סעיף זה בחרתי להשתמש במימוש של statsmodels ומיד נבין למה.\n",
    "</div>"
   ]
  },
  {
   "cell_type": "code",
   "execution_count": 21,
   "metadata": {},
   "outputs": [
    {
     "name": "stdout",
     "output_type": "stream",
     "text": [
      "Optimization terminated successfully.\n",
      "         Current function value: 0.352781\n",
      "         Iterations 7\n"
     ]
    },
    {
     "data": {
      "text/plain": [
       "0.8"
      ]
     },
     "execution_count": 21,
     "metadata": {},
     "output_type": "execute_result"
    }
   ],
   "source": [
    "import statsmodels.api as sm\n",
    "\n",
    "lr = sm.Logit(df_train['target'], sm.add_constant(df_train.drop('target', axis='columns')))\n",
    "\n",
    "results = lr.fit()\n",
    "\n",
    "predictions = results.predict(sm.add_constant(df_val.drop('target', axis='columns')))>=0.5\n",
    "accuracy_score(df_val[\"target\"], predictions)"
   ]
  },
  {
   "cell_type": "code",
   "execution_count": 11,
   "metadata": {},
   "outputs": [
    {
     "data": {
      "text/html": [
       "<table class=\"simpletable\">\n",
       "<caption>Logit Regression Results</caption>\n",
       "<tr>\n",
       "  <th>Dep. Variable:</th>        <td>target</td>      <th>  No. Observations:  </th>  <td>   242</td>  \n",
       "</tr>\n",
       "<tr>\n",
       "  <th>Model:</th>                 <td>Logit</td>      <th>  Df Residuals:      </th>  <td>   228</td>  \n",
       "</tr>\n",
       "<tr>\n",
       "  <th>Method:</th>                 <td>MLE</td>       <th>  Df Model:          </th>  <td>    13</td>  \n",
       "</tr>\n",
       "<tr>\n",
       "  <th>Date:</th>            <td>Mon, 14 Feb 2022</td> <th>  Pseudo R-squ.:     </th>  <td>0.5229</td>  \n",
       "</tr>\n",
       "<tr>\n",
       "  <th>Time:</th>                <td>17:35:30</td>     <th>  Log-Likelihood:    </th> <td> -79.559</td> \n",
       "</tr>\n",
       "<tr>\n",
       "  <th>converged:</th>             <td>True</td>       <th>  LL-Null:           </th> <td> -166.74</td> \n",
       "</tr>\n",
       "<tr>\n",
       "  <th>Covariance Type:</th>     <td>nonrobust</td>    <th>  LLR p-value:       </th> <td>2.392e-30</td>\n",
       "</tr>\n",
       "</table>\n",
       "<table class=\"simpletable\">\n",
       "<tr>\n",
       "      <td></td>        <th>coef</th>     <th>std err</th>      <th>z</th>      <th>P>|z|</th>  <th>[0.025</th>    <th>0.975]</th>  \n",
       "</tr>\n",
       "<tr>\n",
       "  <th>const</th>    <td>    1.2616</td> <td>    2.938</td> <td>    0.429</td> <td> 0.668</td> <td>   -4.497</td> <td>    7.020</td>\n",
       "</tr>\n",
       "<tr>\n",
       "  <th>age</th>      <td>    0.0013</td> <td>    0.027</td> <td>    0.049</td> <td> 0.961</td> <td>   -0.052</td> <td>    0.055</td>\n",
       "</tr>\n",
       "<tr>\n",
       "  <th>sex</th>      <td>   -1.9372</td> <td>    0.537</td> <td>   -3.609</td> <td> 0.000</td> <td>   -2.989</td> <td>   -0.885</td>\n",
       "</tr>\n",
       "<tr>\n",
       "  <th>cp</th>       <td>    0.9127</td> <td>    0.226</td> <td>    4.042</td> <td> 0.000</td> <td>    0.470</td> <td>    1.355</td>\n",
       "</tr>\n",
       "<tr>\n",
       "  <th>trestbps</th> <td>   -0.0199</td> <td>    0.012</td> <td>   -1.625</td> <td> 0.104</td> <td>   -0.044</td> <td>    0.004</td>\n",
       "</tr>\n",
       "<tr>\n",
       "  <th>chol</th>     <td>   -0.0047</td> <td>    0.004</td> <td>   -1.084</td> <td> 0.278</td> <td>   -0.013</td> <td>    0.004</td>\n",
       "</tr>\n",
       "<tr>\n",
       "  <th>fbs</th>      <td>   -0.4997</td> <td>    0.588</td> <td>   -0.849</td> <td> 0.396</td> <td>   -1.653</td> <td>    0.653</td>\n",
       "</tr>\n",
       "<tr>\n",
       "  <th>restecg</th>  <td>    0.6722</td> <td>    0.400</td> <td>    1.682</td> <td> 0.093</td> <td>   -0.111</td> <td>    1.456</td>\n",
       "</tr>\n",
       "<tr>\n",
       "  <th>thalach</th>  <td>    0.0382</td> <td>    0.013</td> <td>    2.931</td> <td> 0.003</td> <td>    0.013</td> <td>    0.064</td>\n",
       "</tr>\n",
       "<tr>\n",
       "  <th>exang</th>    <td>   -0.9864</td> <td>    0.496</td> <td>   -1.990</td> <td> 0.047</td> <td>   -1.958</td> <td>   -0.015</td>\n",
       "</tr>\n",
       "<tr>\n",
       "  <th>oldpeak</th>  <td>   -0.4732</td> <td>    0.252</td> <td>   -1.879</td> <td> 0.060</td> <td>   -0.967</td> <td>    0.020</td>\n",
       "</tr>\n",
       "<tr>\n",
       "  <th>slope</th>    <td>    0.0440</td> <td>    0.426</td> <td>    0.103</td> <td> 0.918</td> <td>   -0.791</td> <td>    0.879</td>\n",
       "</tr>\n",
       "<tr>\n",
       "  <th>ca</th>       <td>   -0.8826</td> <td>    0.245</td> <td>   -3.600</td> <td> 0.000</td> <td>   -1.363</td> <td>   -0.402</td>\n",
       "</tr>\n",
       "<tr>\n",
       "  <th>thal</th>     <td>   -0.7331</td> <td>    0.339</td> <td>   -2.163</td> <td> 0.031</td> <td>   -1.397</td> <td>   -0.069</td>\n",
       "</tr>\n",
       "</table>"
      ],
      "text/plain": [
       "<class 'statsmodels.iolib.summary.Summary'>\n",
       "\"\"\"\n",
       "                           Logit Regression Results                           \n",
       "==============================================================================\n",
       "Dep. Variable:                 target   No. Observations:                  242\n",
       "Model:                          Logit   Df Residuals:                      228\n",
       "Method:                           MLE   Df Model:                           13\n",
       "Date:                Mon, 14 Feb 2022   Pseudo R-squ.:                  0.5229\n",
       "Time:                        17:35:30   Log-Likelihood:                -79.559\n",
       "converged:                       True   LL-Null:                       -166.74\n",
       "Covariance Type:            nonrobust   LLR p-value:                 2.392e-30\n",
       "==============================================================================\n",
       "                 coef    std err          z      P>|z|      [0.025      0.975]\n",
       "------------------------------------------------------------------------------\n",
       "const          1.2616      2.938      0.429      0.668      -4.497       7.020\n",
       "age            0.0013      0.027      0.049      0.961      -0.052       0.055\n",
       "sex           -1.9372      0.537     -3.609      0.000      -2.989      -0.885\n",
       "cp             0.9127      0.226      4.042      0.000       0.470       1.355\n",
       "trestbps      -0.0199      0.012     -1.625      0.104      -0.044       0.004\n",
       "chol          -0.0047      0.004     -1.084      0.278      -0.013       0.004\n",
       "fbs           -0.4997      0.588     -0.849      0.396      -1.653       0.653\n",
       "restecg        0.6722      0.400      1.682      0.093      -0.111       1.456\n",
       "thalach        0.0382      0.013      2.931      0.003       0.013       0.064\n",
       "exang         -0.9864      0.496     -1.990      0.047      -1.958      -0.015\n",
       "oldpeak       -0.4732      0.252     -1.879      0.060      -0.967       0.020\n",
       "slope          0.0440      0.426      0.103      0.918      -0.791       0.879\n",
       "ca            -0.8826      0.245     -3.600      0.000      -1.363      -0.402\n",
       "thal          -0.7331      0.339     -2.163      0.031      -1.397      -0.069\n",
       "==============================================================================\n",
       "\"\"\""
      ]
     },
     "execution_count": 11,
     "metadata": {},
     "output_type": "execute_result"
    }
   ],
   "source": [
    "results.summary()"
   ]
  },
  {
   "cell_type": "markdown",
   "metadata": {},
   "source": [
    "<div dir=rtl>\n",
    "     מעל - הדיוק כפי שנמצא עבור כלל הפיצ'רים וטבלה המרכזת את הנתונים הסטטיסטיים בהתאמה של הפונקציה. נשים לב שלכל פיצ'ר הפונקציה מצאה גם את הPV שלו. אמנם ניתן להמשיך להשתמש בדיוק, אבל בסעיף זה אני בוחר להשתמש בPV על מנת למיין פיצ'רים.\n",
    "    <br />\n",
    "    בסעיף זה ביקשו מאיתנו להתחיל עם כלל הפיצ'רים ולהוריד אחד-אחד עד שנישאר עם סט של ארבעה - שיטה שנקראת Backward elimination (ובמקומות מסוימים Sequential Backward Selection). \n",
    "    <br />\n",
    "    בשיטה זו נוריד כל פעם את הפיצ'ר עם הPV הכי גבוה ונאמן. נמצא שוב את הפיצ'ר עם ה PV הכי גבוה ונוריד אותו וחוזר חלילה.\n",
    "    <br />\n",
    "    למטה הקוד הרלוונטי עטוף בפונקציה על מנת להדגים נקודה כלשהי בהמשך.\n",
    "</div>"
   ]
  },
  {
   "cell_type": "code",
   "execution_count": 27,
   "metadata": {},
   "outputs": [],
   "source": [
    "def backward_elimination(n, df_train):\n",
    "    selected_features = df_train.drop('target',axis='columns').columns.to_list()\n",
    "\n",
    "    while len(selected_features) > n:\n",
    "        lr = sm.Logit(df_train['target'], sm.add_constant(df_train[selected_features]))\n",
    "        results = lr.fit(disp=0)\n",
    "\n",
    "        worst_pvalue_feature = results.pvalues.sort_values(ascending=False).index[0]\n",
    "\n",
    "        if worst_pvalue_feature == 'const':\n",
    "            worst_pvalue_feature = results.pvalues.sort_values(ascending=False).index[1]\n",
    "\n",
    "\n",
    "        selected_features.remove(worst_pvalue_feature)\n",
    "    return selected_features"
   ]
  },
  {
   "cell_type": "code",
   "execution_count": 39,
   "metadata": {},
   "outputs": [
    {
     "data": {
      "text/plain": [
       "['cp', 'oldpeak', 'ca', 'thal']"
      ]
     },
     "execution_count": 39,
     "metadata": {},
     "output_type": "execute_result"
    }
   ],
   "source": [
    "selected_features = backward_elimination(4, df_train)\n",
    "selected_features"
   ]
  },
  {
   "cell_type": "code",
   "execution_count": 40,
   "metadata": {},
   "outputs": [
    {
     "name": "stdout",
     "output_type": "stream",
     "text": [
      "Optimization terminated successfully.\n",
      "         Current function value: 0.420072\n",
      "         Iterations 7\n"
     ]
    },
    {
     "data": {
      "text/plain": [
       "0.8333333333333334"
      ]
     },
     "execution_count": 40,
     "metadata": {},
     "output_type": "execute_result"
    }
   ],
   "source": [
    "lr = sm.Logit(df_train['target'], sm.add_constant(df_train[selected_features]))\n",
    "\n",
    "results = lr.fit()\n",
    "\n",
    "predictions = results.predict(sm.add_constant(df_val[selected_features]))>=0.5\n",
    "accuracy_score(df_val[\"target\"], predictions)"
   ]
  },
  {
   "cell_type": "code",
   "execution_count": 41,
   "metadata": {},
   "outputs": [
    {
     "data": {
      "text/plain": [
       "0.8387096774193549"
      ]
     },
     "execution_count": 41,
     "metadata": {},
     "output_type": "execute_result"
    }
   ],
   "source": [
    "predictions = results.predict(sm.add_constant(df_test[selected_features]))>=0.5\n",
    "accuracy_score(df_test[\"target\"], predictions)"
   ]
  },
  {
   "cell_type": "markdown",
   "metadata": {},
   "source": [
    "<div dir=rtl>\n",
    "     למעשה, ניתן לראות מה יתרחש עבור כל בחירה של מספר פיצ'רים כלשהו. על מנת לעשות זאת נבחר כל פעם מספר בין 1 ל13 (מספר העמודות בדאטא), נמצא את הפיצ'רים על ידי הפונקציה שכתבנו, נאמן על קבוצת האימון ונבדוק את התוצאות על קבוצת הוולידציה.\n",
    "</div>"
   ]
  },
  {
   "cell_type": "code",
   "execution_count": 31,
   "metadata": {},
   "outputs": [
    {
     "data": {
      "image/png": "[encoded data removed]",
      "text/plain": [
       "<Figure size 432x288 with 1 Axes>"
      ]
     },
     "metadata": {
      "needs_background": "light"
     },
     "output_type": "display_data"
    }
   ],
   "source": [
    "resultsDF = pd.DataFrame([], columns=['n_features','Accuracy'])\n",
    "\n",
    "for n in range(1,len(df_train.drop('target',axis='columns').columns.to_list())):\n",
    "    selected_features = backward_elimination(n, df_train)\n",
    "\n",
    "    lr = sm.Logit(df_train['target'], sm.add_constant(df_train[selected_features]))\n",
    "    results = lr.fit(disp=0)\n",
    "\n",
    "    predictions = results.predict(sm.add_constant(df_val[selected_features]))>=0.5\n",
    "    \n",
    "    resultsDF = resultsDF.append(\n",
    "        {'n_features': n, 'Accuracy': accuracy_score(df_val[\"target\"], predictions)},\n",
    "        ignore_index=True\n",
    "    )\n",
    "p = resultsDF.plot.scatter(x='n_features', y='Accuracy')"
   ]
  },
  {
   "cell_type": "markdown",
   "metadata": {},
   "source": [
    "<div dir=rtl>\n",
    "     לשתי השיטות שראינו עד כה יש מספר חסרונות. נמנה שתיים מהן. הראשונה היא שבחירה כזו של פיצ'רים לא לוקחת בחשבון את כל הצירופים האפשריים - בכל שלב בוחרים פיצ'ר אחד ומוסיפים אותו לקבוצה, אבל לא לוקחים בחשבון צירוף של אותו פיצ'ר עם קבוצות אחרות. החיסרון השני הוא שבתהליך אנחנו מאמנים הרבה מודלים לכן השיטות מותאמות למודלים פשוטים ולמעט דאטא.\n",
    "</div>\n",
    "<br />\n",
    "<div dir=rtl>\n",
    "     ו. מצאו אילו פיצ'רים כדאי להוריד כך שנישאר עם סט אופטימלי. ביחנו את עצמכם הן על קבוצת הוולידציה והן על קבוצת המבחן.\n",
    "</div>\n",
    "<br />\n",
    "<div dir=rtl>\n",
    "     ניתן להתמודד עם החיסרון הראשון והוא על ידי שימוש בפונקציה רקורסיבית. פונקציה רקורסיבית עוברת על כל הקבוצות האפשריות של פיצ'רים ובוחרת מתוכם את זו הנותנת את הביצועים האופטימליים. נשים לב שבכך שפתרנו את הבעיה הראשונה - החמרנו את השנייה.\n",
    "    <br />\n",
    "    אמנם ניתן לממש זאת בעצמינו, במקרה זה מומלץ מאוד להשתמש במימוש מוכן. זאת משום שאנחנו נשתמש בפונקציה על מעט לאמן מספר גדול של מודלים, וללא מימוש אופטימלי זמן הריצה יהיה בלתי סביר. הפונקציה RFECV של Scikir-Learn מבצעת את הפעולה עבורינו:\n",
    "    <br /> Recursive Feature Elimination with Cross Validation.\n",
    "</div>"
   ]
  },
  {
   "cell_type": "code",
   "execution_count": 48,
   "metadata": {
    "scrolled": true
   },
   "outputs": [
    {
     "data": {
      "text/plain": [
       "Index(['sex', 'cp', 'fbs', 'restecg', 'exang', 'oldpeak', 'slope', 'ca',\n",
       "       'thal'],\n",
       "      dtype='object')"
      ]
     },
     "execution_count": 48,
     "metadata": {},
     "output_type": "execute_result"
    }
   ],
   "source": [
    "from sklearn.feature_selection import RFECV\n",
    "from sklearn.linear_model import LogisticRegression\n",
    "\n",
    "model = LogisticRegression(max_iter=1e3)\n",
    "rfe = RFECV(model, min_features_to_select=1)\n",
    "\n",
    "train_val = pd.concat([df_train, df_val])\n",
    "\n",
    "rfe.fit(train_val.drop('target',axis='columns'), train_val['target'])\n",
    "selected_columns = train_val.drop('target',axis='columns').columns[\n",
    "    rfe.support_\n",
    "]\n",
    "\n",
    "selected_columns"
   ]
  },
  {
   "cell_type": "code",
   "execution_count": 53,
   "metadata": {},
   "outputs": [
    {
     "data": {
      "text/plain": [
       "LogisticRegression(max_iter=1000.0)"
      ]
     },
     "execution_count": 53,
     "metadata": {},
     "output_type": "execute_result"
    }
   ],
   "source": [
    "model.fit(train_val[selected_columns], train_val['target'])"
   ]
  },
  {
   "cell_type": "code",
   "execution_count": 54,
   "metadata": {},
   "outputs": [
    {
     "data": {
      "text/plain": [
       "0.8387096774193549"
      ]
     },
     "execution_count": 54,
     "metadata": {},
     "output_type": "execute_result"
    }
   ],
   "source": [
    "predictions = model.predict(df_test[selected_columns])\n",
    "accuracy_score(df_test[\"target\"], predictions)"
   ]
  },
  {
   "cell_type": "code",
   "execution_count": 55,
   "metadata": {},
   "outputs": [
    {
     "data": {
      "text/plain": [
       "Text(0, 0.5, 'Cross validation score (accuracy)')"
      ]
     },
     "execution_count": 55,
     "metadata": {},
     "output_type": "execute_result"
    },
    {
     "data": {
      "image/png": "[encoded data removed]",
      "text/plain": [
       "<Figure size 432x288 with 1 Axes>"
      ]
     },
     "metadata": {
      "needs_background": "light"
     },
     "output_type": "display_data"
    }
   ],
   "source": [
    "import matplotlib.pyplot as plt\n",
    "plt.plot(\n",
    "    range(1, len(rfe.grid_scores_) + 1),\n",
    "    rfe.grid_scores_,\n",
    ")\n",
    "plt.xlabel(\"Number of features selected\")\n",
    "plt.ylabel(\"Cross validation score (accuracy)\")\n"
   ]
  },
  {
   "cell_type": "markdown",
   "metadata": {},
   "source": [
    "<div dir=rtl>\n",
    "     ואכן קיבלנו סט של פיצ'רים עם דיוק מסוים בקבוצת וולידציה כלשהי (חיצונית לתהליך הקרוס-וולידציה).\n",
    "    <br /><br />\n",
    "    כעת מבין כל השיטות שלהלן נשאר לבחור סט כלשהו של פיצ'רים. איך? דבר אחד שלא עושים הוא לבחור סט פיצ'רים על בסיס הביצועים בקבוצת המבחן. קבוצת המבחן משמשת מדד לביצועים בעולם האמיתי. בעולם של למידת מכונה - המכונה לומדת מקבוצת האימון והאלגוריתמאי לומד מקבוצת הוולידציה אילו מטה-פרמטרים לבחור. האלגוריתם לאחר מכן יוצא לעולם ונבחן. בחירת סט של פיצ'רים על בסיס קבוצת המבחן משמעה אוברפיט - משמעה שהמטה פרמטרים של המודל נבחרו תוך שימוש בקבוצת המבחן ונעשתה למידה (של הגורם האנושי) באותה קבוצה.\n",
    "</div>"
   ]
  }
 ],
 "metadata": {
  "kernelspec": {
   "display_name": "Python 3",
   "language": "python",
   "name": "python3"
  },
  "language_info": {
   "codemirror_mode": {
    "name": "ipython",
    "version": 3
   },
   "file_extension": ".py",
   "mimetype": "text/x-python",
   "name": "python",
   "nbconvert_exporter": "python",
   "pygments_lexer": "ipython3",
   "version": "3.7.5"
  }
 },
 "nbformat": 4,
 "nbformat_minor": 4
}
