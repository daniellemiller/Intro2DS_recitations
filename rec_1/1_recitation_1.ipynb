{
 "cells": [
  {
   "cell_type": "markdown",
   "metadata": {
    "colab_type": "text",
    "id": "QkSSkwpyL9ST"
   },
   "source": [
    "# <div dir=rtl> מבוא למדעי הנתונים - תרגול\n",
    "<div dir=rtl>מתרגלת: דניאל מילר <br />\n",
    "   עוזרת הוראה: הגר רוזנבלט </div>\n",
    "\n",
    "<div dir=rtl> \n",
    "    <br />\n",
    "תרגילי בית: ארבעה תרגילי בית במהלך הסמסטר\n",
    "</div>\n",
    "\n",
    "    \n",
    "# <div dir=rtl> תרגול ראשון - מבוא לפייתון </div>\n",
    "<div dir=rtl> \n",
    "בתרגול זה נרענן את היסודות של תכנות בפייתון ואיך משתמשים במחברות של ג'ופיטר.\n",
    "    בכתיבת מחברת, בכל שלב אפשר ללחוץ על המקש H בשביל קיצורי דרך. \n",
    "</div>\n",
    "    \n",
    "## <div dir=rtl> מחברת ג׳ופיטר </div>\n",
    "<div dir=rtl> \n",
    "מסמך המשלב כתיבת קוד יחד עם אלמנטים טקסטואלים (לדוגמה פסקאות טקסט, משוואות ואפילו תרשימים ויזואלים)\n",
    "   ניתן להשתמש במחברות בכדי לקרוא ולהבין אנליזות, ויחד עם זאת להריץ את קטע הקוד שייצר אותן. <br /><br />\n",
    "    קיימות דרכים נוספות לכתוב ולתעד קוד (בפייתון וגם כל שפה אחרת), אבל מחברות כאלו שימושיות במיוחד כדי להשתמש בפייתון באופן אינטרקטיבי, להציג מידע ולהעבירו בין אנשים. \n",
    "<div dir=rtl> \n",
    " \n",
    "</div>\n",
    "\n",
    "<div dir=\"rtl\"> \n",
    "    הדרך הבסיסית ביותר להריץ קוד בפייתון היא על ידי הרצת קובץ בעל סיומת py.\n",
    "    כך תראה דוגמת הרצה של הקובץ <code>hello_something.py</code> <br />\n",
    "</div>\n",
    "\n",
    "\n",
    "![](1.1.png \"Python program start and end\")\n",
    "\n",
    "<br />\n",
    "\n",
    "<div dir=\"rtl\">\n",
    "    בכדי לטעון מחברת ג׳ופיטר כל מה שצריכים לעשות הוא להיכנס לשורת הפקודה ולהריץ את הפקודה: <br />\n",
    "    <code>jupyter notebook</code> <br /><br />\n",
    "     לחיצה כפולה על המלל תחשוף בפניכם איך יוצרים אותו. לחיצה על Ctrl+Enter תהפוך אותו למסוגנן שוב.<br /> \n",
    "    אפשר לסגנן ולעצב את המלל בדרכים נוספות בלינק הבא: \n",
    "    <a>https://www.markdownguide.org/basic-syntax/</a>\n",
    "</div>\n"
   ]
  },
  {
   "cell_type": "markdown",
   "metadata": {},
   "source": [
    "## <div dir=rtl> רענון פייתון </div>\n",
    "<div dir=rtl> \n",
    "    1. משתנים וסוגי משתנים  <br />\n",
    "    2. פונקציות  <br />\n",
    "    3. מחלקות  <br />\n",
    "    4. חבילות  <br />\n",
    "<div dir=rtl> \n"
   ]
  },
  {
   "cell_type": "code",
   "execution_count": 87,
   "metadata": {
    "colab": {},
    "colab_type": "code",
    "id": "AH55f0sjL9Si"
   },
   "outputs": [],
   "source": [
    "x = 'world'"
   ]
  },
  {
   "cell_type": "code",
   "execution_count": 88,
   "metadata": {
    "colab": {
     "base_uri": "https://localhost:8080/",
     "height": 34
    },
    "colab_type": "code",
    "executionInfo": {
     "elapsed": 1220,
     "status": "ok",
     "timestamp": 1584007226790,
     "user": {
      "displayName": "Moshe Yerachmiel",
      "photoUrl": "",
      "userId": "18136506372858212128"
     },
     "user_tz": -120
    },
    "id": "MBTJ92zbL9S1",
    "outputId": "132567cb-0603-4006-a70d-663aeb5f76af"
   },
   "outputs": [
    {
     "name": "stdout",
     "output_type": "stream",
     "text": [
      "Hello world\n"
     ]
    }
   ],
   "source": [
    "print(f'Hello {x}')"
   ]
  },
  {
   "cell_type": "code",
   "execution_count": 89,
   "metadata": {
    "colab": {},
    "colab_type": "code",
    "id": "IVUoAMrGL9TA"
   },
   "outputs": [],
   "source": [
    "x = 'internet'"
   ]
  },
  {
   "cell_type": "code",
   "execution_count": 93,
   "metadata": {
    "colab": {
     "base_uri": "https://localhost:8080/",
     "height": 34
    },
    "colab_type": "code",
    "executionInfo": {
     "elapsed": 1214,
     "status": "ok",
     "timestamp": 1584007226794,
     "user": {
      "displayName": "Moshe Yerachmiel",
      "photoUrl": "",
      "userId": "18136506372858212128"
     },
     "user_tz": -120
    },
    "id": "rWhjycsVL9TN",
    "outputId": "f9954ac4-0969-4dac-e35d-50db5b33e780"
   },
   "outputs": [
    {
     "name": "stdout",
     "output_type": "stream",
     "text": [
      "Hello tel aviv\n"
     ]
    }
   ],
   "source": [
    "print(f'Hello {x}')"
   ]
  },
  {
   "cell_type": "code",
   "execution_count": 91,
   "metadata": {
    "colab": {},
    "colab_type": "code",
    "id": "QdSCX-lVL9TX"
   },
   "outputs": [],
   "source": [
    "x = 'tel aviv'"
   ]
  },
  {
   "cell_type": "code",
   "execution_count": 92,
   "metadata": {
    "colab": {
     "base_uri": "https://localhost:8080/",
     "height": 34
    },
    "colab_type": "code",
    "executionInfo": {
     "elapsed": 1209,
     "status": "ok",
     "timestamp": 1584007226796,
     "user": {
      "displayName": "Moshe Yerachmiel",
      "photoUrl": "",
      "userId": "18136506372858212128"
     },
     "user_tz": -120
    },
    "id": "nD7Kas5vL9Tj",
    "outputId": "511fd07c-7c54-4225-878d-78440574d33d"
   },
   "outputs": [
    {
     "name": "stdout",
     "output_type": "stream",
     "text": [
      "Hello tel aviv\n"
     ]
    }
   ],
   "source": [
    "print(f'Hello {x}')"
   ]
  },
  {
   "cell_type": "markdown",
   "metadata": {
    "colab_type": "text",
    "id": "QLIkN4fjL9Tr"
   },
   "source": [
    "<div dir=\"rtl\"> \n",
    "    כאן יכול להיות עוד הרבה קוד.....<br />\n",
    "    <br />\n",
    "    ... אבל x עדיין קיים בסביבה.\n",
    "    <br />\n",
    "    <br />\n",
    "</div>\n",
    "\n",
    "## <div dir=rtl>משתנים</div>\n",
    "\n",
    "<div dir=\"rtl\"> \n",
    "    על התאים למטה נעבור ברצף על ידי לחיצות מרובות על <br />\n",
    "    Shift + Enter\n",
    "</div>\n"
   ]
  },
  {
   "cell_type": "code",
   "execution_count": 94,
   "metadata": {
    "colab": {
     "base_uri": "https://localhost:8080/",
     "height": 34
    },
    "colab_type": "code",
    "executionInfo": {
     "elapsed": 1207,
     "status": "ok",
     "timestamp": 1584007226797,
     "user": {
      "displayName": "Moshe Yerachmiel",
      "photoUrl": "",
      "userId": "18136506372858212128"
     },
     "user_tz": -120
    },
    "id": "eiCQDfSVL9Tu",
    "outputId": "b68cfc75-143b-47c5-a640-def8a8de526b"
   },
   "outputs": [
    {
     "data": {
      "text/plain": [
       "int"
      ]
     },
     "execution_count": 94,
     "metadata": {},
     "output_type": "execute_result"
    }
   ],
   "source": [
    "v = 3\n",
    "type(v)"
   ]
  },
  {
   "cell_type": "code",
   "execution_count": 95,
   "metadata": {
    "colab": {
     "base_uri": "https://localhost:8080/",
     "height": 34
    },
    "colab_type": "code",
    "executionInfo": {
     "elapsed": 1204,
     "status": "ok",
     "timestamp": 1584007226798,
     "user": {
      "displayName": "Moshe Yerachmiel",
      "photoUrl": "",
      "userId": "18136506372858212128"
     },
     "user_tz": -120
    },
    "id": "oXPcyUsIL9T7",
    "outputId": "31ceb622-7390-4e8b-c3c6-853fd8425567"
   },
   "outputs": [
    {
     "data": {
      "text/plain": [
       "float"
      ]
     },
     "execution_count": 95,
     "metadata": {},
     "output_type": "execute_result"
    }
   ],
   "source": [
    "v = 3.0\n",
    "type(v)"
   ]
  },
  {
   "cell_type": "code",
   "execution_count": 96,
   "metadata": {
    "colab": {
     "base_uri": "https://localhost:8080/",
     "height": 34
    },
    "colab_type": "code",
    "executionInfo": {
     "elapsed": 1204,
     "status": "ok",
     "timestamp": 1584007226800,
     "user": {
      "displayName": "Moshe Yerachmiel",
      "photoUrl": "",
      "userId": "18136506372858212128"
     },
     "user_tz": -120
    },
    "id": "8RoXllkHL9UE",
    "outputId": "73971104-1bb7-465a-e60a-55ba1a87e8f2"
   },
   "outputs": [
    {
     "data": {
      "text/plain": [
       "str"
      ]
     },
     "execution_count": 96,
     "metadata": {},
     "output_type": "execute_result"
    }
   ],
   "source": [
    "v = '3'\n",
    "type(v)"
   ]
  },
  {
   "cell_type": "code",
   "execution_count": 97,
   "metadata": {
    "colab": {
     "base_uri": "https://localhost:8080/",
     "height": 34
    },
    "colab_type": "code",
    "executionInfo": {
     "elapsed": 1201,
     "status": "ok",
     "timestamp": 1584007226801,
     "user": {
      "displayName": "Moshe Yerachmiel",
      "photoUrl": "",
      "userId": "18136506372858212128"
     },
     "user_tz": -120
    },
    "id": "VfcNpSXyL9UO",
    "outputId": "0fd70c65-c184-4819-e380-528a4d73e426"
   },
   "outputs": [
    {
     "data": {
      "text/plain": [
       "str"
      ]
     },
     "execution_count": 97,
     "metadata": {},
     "output_type": "execute_result"
    }
   ],
   "source": [
    "v = \"3\"\n",
    "type(v)"
   ]
  },
  {
   "cell_type": "code",
   "execution_count": 98,
   "metadata": {
    "colab": {
     "base_uri": "https://localhost:8080/",
     "height": 34
    },
    "colab_type": "code",
    "executionInfo": {
     "elapsed": 1198,
     "status": "ok",
     "timestamp": 1584007226802,
     "user": {
      "displayName": "Moshe Yerachmiel",
      "photoUrl": "",
      "userId": "18136506372858212128"
     },
     "user_tz": -120
    },
    "id": "8bE_33S0L9UZ",
    "outputId": "cc34a9a2-5eda-4db0-8c50-d2a36f7fe4fd"
   },
   "outputs": [
    {
     "data": {
      "text/plain": [
       "'3.14159...'"
      ]
     },
     "execution_count": 98,
     "metadata": {},
     "output_type": "execute_result"
    }
   ],
   "source": [
    "v = '3.'\n",
    "v2 = '14159...'\n",
    "\n",
    "v3 = v + v2\n",
    "v3"
   ]
  },
  {
   "cell_type": "code",
   "execution_count": 99,
   "metadata": {},
   "outputs": [
    {
     "data": {
      "text/plain": [
       "'14159...'"
      ]
     },
     "execution_count": 99,
     "metadata": {},
     "output_type": "execute_result"
    }
   ],
   "source": [
    "v2"
   ]
  },
  {
   "cell_type": "markdown",
   "metadata": {
    "colab_type": "text",
    "id": "-uakSplDL9Ui"
   },
   "source": [
    "<div dir=\"rtl\"> \n",
    "    שימו לב שהתאים האחרונים לא הסתיימו עם print. <br />\n",
    "    תא שמסתיים במשתנה - ערכו יוחזר.\n",
    "</div>\n"
   ]
  },
  {
   "cell_type": "code",
   "execution_count": 100,
   "metadata": {
    "colab": {
     "base_uri": "https://localhost:8080/",
     "height": 34
    },
    "colab_type": "code",
    "executionInfo": {
     "elapsed": 1195,
     "status": "ok",
     "timestamp": 1584007226804,
     "user": {
      "displayName": "Moshe Yerachmiel",
      "photoUrl": "",
      "userId": "18136506372858212128"
     },
     "user_tz": -120
    },
    "id": "Zslcq-QnL9Ul",
    "outputId": "a46aa0c5-5dd1-48d1-85a1-7b2b926762f2"
   },
   "outputs": [
    {
     "name": "stdout",
     "output_type": "stream",
     "text": [
      "3.14159...\n"
     ]
    }
   ],
   "source": [
    "print(v3)"
   ]
  },
  {
   "cell_type": "code",
   "execution_count": 101,
   "metadata": {
    "colab": {
     "base_uri": "https://localhost:8080/",
     "height": 34
    },
    "colab_type": "code",
    "executionInfo": {
     "elapsed": 1193,
     "status": "ok",
     "timestamp": 1584007226804,
     "user": {
      "displayName": "Moshe Yerachmiel",
      "photoUrl": "",
      "userId": "18136506372858212128"
     },
     "user_tz": -120
    },
    "id": "AT7v46u1L9Ut",
    "outputId": "19fb877d-22e4-4cf9-8701-c533e6660ade"
   },
   "outputs": [
    {
     "data": {
      "text/plain": [
       "['tel aviv', 3.14159, '14159...', '3.14159...']"
      ]
     },
     "execution_count": 101,
     "metadata": {},
     "output_type": "execute_result"
    }
   ],
   "source": [
    "v = [x,3.14159,v2,v3]\n",
    "v"
   ]
  },
  {
   "cell_type": "code",
   "execution_count": 102,
   "metadata": {
    "colab": {
     "base_uri": "https://localhost:8080/",
     "height": 34
    },
    "colab_type": "code",
    "executionInfo": {
     "elapsed": 1190,
     "status": "ok",
     "timestamp": 1584007226804,
     "user": {
      "displayName": "Moshe Yerachmiel",
      "photoUrl": "",
      "userId": "18136506372858212128"
     },
     "user_tz": -120
    },
    "id": "E95sZlBZL9U1",
    "outputId": "6e112058-4239-4026-8560-f620e29acaf5"
   },
   "outputs": [
    {
     "data": {
      "text/plain": [
       "list"
      ]
     },
     "execution_count": 102,
     "metadata": {},
     "output_type": "execute_result"
    }
   ],
   "source": [
    "type(v)"
   ]
  },
  {
   "cell_type": "code",
   "execution_count": 104,
   "metadata": {
    "colab": {
     "base_uri": "https://localhost:8080/",
     "height": 34
    },
    "colab_type": "code",
    "executionInfo": {
     "elapsed": 1187,
     "status": "ok",
     "timestamp": 1584007226805,
     "user": {
      "displayName": "Moshe Yerachmiel",
      "photoUrl": "",
      "userId": "18136506372858212128"
     },
     "user_tz": -120
    },
    "id": "7KFl4hyIL9U9",
    "outputId": "0ba48383-5b9e-43a5-9998-4f4d069035a4"
   },
   "outputs": [
    {
     "data": {
      "text/plain": [
       "'tel aviv'"
      ]
     },
     "execution_count": 104,
     "metadata": {},
     "output_type": "execute_result"
    }
   ],
   "source": [
    "v[0]"
   ]
  },
  {
   "cell_type": "markdown",
   "metadata": {
    "colab_type": "text",
    "id": "gXiWFuwpL9VE"
   },
   "source": [
    "<div dir=\"rtl\"> \n",
    "    מכאן עיקרון חשוב - אינדקסים בפייתון מתחילים באפס!<br />\n",
    "    עוד נקודה מעניינת - מחרוזות בפייתון מתנהגות כמו רשימות - מחרוזות הן איטרביליות:\n",
    "</div>\n"
   ]
  },
  {
   "cell_type": "code",
   "execution_count": 105,
   "metadata": {
    "colab": {
     "base_uri": "https://localhost:8080/",
     "height": 104
    },
    "colab_type": "code",
    "executionInfo": {
     "elapsed": 1185,
     "status": "ok",
     "timestamp": 1584007226806,
     "user": {
      "displayName": "Moshe Yerachmiel",
      "photoUrl": "",
      "userId": "18136506372858212128"
     },
     "user_tz": -120
    },
    "id": "Zw1fhH2tL9VG",
    "outputId": "1ffe59d3-e107-4a71-f3cc-6c30bb05fa96"
   },
   "outputs": [
    {
     "name": "stdout",
     "output_type": "stream",
     "text": [
      "3.14159...\n",
      "3\n",
      ".\n",
      "1\n",
      "4159...\n"
     ]
    }
   ],
   "source": [
    "print(v3)\n",
    "print(v3[0])\n",
    "print(v3[1])\n",
    "print(v3[2])\n",
    "print(v3[3:])"
   ]
  },
  {
   "cell_type": "markdown",
   "metadata": {
    "colab_type": "text",
    "id": "orSFt4QbL9VQ"
   },
   "source": [
    "<div dir=\"rtl\"> \n",
    "    מילון הוא מבנה נתונים הממפה בין מפתח לערך כלשהו. <br />\n",
    "    אפשר להגדיר מילון על ידי הפונקציה dict או על ידי יצירת משתנה עם סוגריים מסולסלים\n",
    "</div>\n"
   ]
  },
  {
   "cell_type": "code",
   "execution_count": 106,
   "metadata": {
    "colab": {
     "base_uri": "https://localhost:8080/",
     "height": 34
    },
    "colab_type": "code",
    "executionInfo": {
     "elapsed": 1182,
     "status": "ok",
     "timestamp": 1584007226807,
     "user": {
      "displayName": "Moshe Yerachmiel",
      "photoUrl": "",
      "userId": "18136506372858212128"
     },
     "user_tz": -120
    },
    "id": "gqxOCFr9L9VS",
    "outputId": "9706ded4-5e03-40fb-d0d9-e4e8539f943f"
   },
   "outputs": [
    {
     "data": {
      "text/plain": [
       "dict"
      ]
     },
     "execution_count": 106,
     "metadata": {},
     "output_type": "execute_result"
    }
   ],
   "source": [
    "x = {}\n",
    "type(x)"
   ]
  },
  {
   "cell_type": "code",
   "execution_count": 107,
   "metadata": {
    "colab": {
     "base_uri": "https://localhost:8080/",
     "height": 34
    },
    "colab_type": "code",
    "executionInfo": {
     "elapsed": 1178,
     "status": "ok",
     "timestamp": 1584007226807,
     "user": {
      "displayName": "Moshe Yerachmiel",
      "photoUrl": "",
      "userId": "18136506372858212128"
     },
     "user_tz": -120
    },
    "id": "XsnzXIEaL9Vc",
    "outputId": "bf7d1312-1824-40a0-9c60-26ff762f308a"
   },
   "outputs": [
    {
     "data": {
      "text/plain": [
       "dict"
      ]
     },
     "execution_count": 107,
     "metadata": {},
     "output_type": "execute_result"
    }
   ],
   "source": [
    "x = dict()\n",
    "type(x)"
   ]
  },
  {
   "cell_type": "markdown",
   "metadata": {
    "colab_type": "text",
    "id": "3yvNlYF1L9Vj"
   },
   "source": [
    "<div dir=\"rtl\"> \n",
    "    השמת זוג מפתח-ערך לתוך מילון:\n",
    "</div>\n"
   ]
  },
  {
   "cell_type": "code",
   "execution_count": 108,
   "metadata": {
    "colab": {
     "base_uri": "https://localhost:8080/",
     "height": 34
    },
    "colab_type": "code",
    "executionInfo": {
     "elapsed": 1175,
     "status": "ok",
     "timestamp": 1584007226808,
     "user": {
      "displayName": "Moshe Yerachmiel",
      "photoUrl": "",
      "userId": "18136506372858212128"
     },
     "user_tz": -120
    },
    "id": "p59qIxDyL9Vl",
    "outputId": "a9766332-c8dd-448a-b9ad-cb759bf32d04"
   },
   "outputs": [
    {
     "data": {
      "text/plain": [
       "{'This is the first key': 'this is the first value'}"
      ]
     },
     "execution_count": 108,
     "metadata": {},
     "output_type": "execute_result"
    }
   ],
   "source": [
    "x['This is the first key'] = 'this is the first value'\n",
    "x"
   ]
  },
  {
   "cell_type": "code",
   "execution_count": 109,
   "metadata": {
    "colab": {
     "base_uri": "https://localhost:8080/",
     "height": 52
    },
    "colab_type": "code",
    "executionInfo": {
     "elapsed": 1172,
     "status": "ok",
     "timestamp": 1584007226809,
     "user": {
      "displayName": "Moshe Yerachmiel",
      "photoUrl": "",
      "userId": "18136506372858212128"
     },
     "user_tz": -120
    },
    "id": "STDUYH6BL9Vs",
    "outputId": "66a8627d-fafc-45ae-8212-1d2d509139f8"
   },
   "outputs": [
    {
     "data": {
      "text/plain": [
       "{'This is the first key': 'this is the first value',\n",
       " 'This is the second key': 2}"
      ]
     },
     "execution_count": 109,
     "metadata": {},
     "output_type": "execute_result"
    }
   ],
   "source": [
    "x['This is the second key'] = 2\n",
    "x"
   ]
  },
  {
   "cell_type": "code",
   "execution_count": 110,
   "metadata": {
    "colab": {
     "base_uri": "https://localhost:8080/",
     "height": 69
    },
    "colab_type": "code",
    "executionInfo": {
     "elapsed": 1170,
     "status": "ok",
     "timestamp": 1584007226810,
     "user": {
      "displayName": "Moshe Yerachmiel",
      "photoUrl": "",
      "userId": "18136506372858212128"
     },
     "user_tz": -120
    },
    "id": "ya8zWzR3L9Vz",
    "outputId": "141ec9fc-9407-41c6-f142-eeb8f3176375"
   },
   "outputs": [
    {
     "data": {
      "text/plain": [
       "{'This is the first key': 'this is the first value',\n",
       " 'This is the second key': 2,\n",
       " 3: 'This is the third key'}"
      ]
     },
     "execution_count": 110,
     "metadata": {},
     "output_type": "execute_result"
    }
   ],
   "source": [
    "# what will happen here?\n",
    "x[3] = 'This is the third key'\n",
    "x"
   ]
  },
  {
   "cell_type": "code",
   "execution_count": 111,
   "metadata": {
    "colab": {
     "base_uri": "https://localhost:8080/",
     "height": 167
    },
    "colab_type": "code",
    "executionInfo": {
     "elapsed": 1600,
     "status": "error",
     "timestamp": 1584007227245,
     "user": {
      "displayName": "Moshe Yerachmiel",
      "photoUrl": "",
      "userId": "18136506372858212128"
     },
     "user_tz": -120
    },
    "id": "K72hqn5GL9V6",
    "outputId": "da6f19ad-b4b2-47b6-a1d0-bfdd01ac4b8b"
   },
   "outputs": [
    {
     "ename": "TypeError",
     "evalue": "unhashable type: 'list'",
     "output_type": "error",
     "traceback": [
      "\u001B[0;31m---------------------------------------------------------------------------\u001B[0m",
      "\u001B[0;31mTypeError\u001B[0m                                 Traceback (most recent call last)",
      "\u001B[0;32m<ipython-input-111-db505a2f7b2e>\u001B[0m in \u001B[0;36m<module>\u001B[0;34m\u001B[0m\n\u001B[1;32m      1\u001B[0m \u001B[0;31m# what will be printed?\u001B[0m\u001B[0;34m\u001B[0m\u001B[0;34m\u001B[0m\u001B[0;34m\u001B[0m\u001B[0m\n\u001B[0;32m----> 2\u001B[0;31m \u001B[0mx\u001B[0m\u001B[0;34m[\u001B[0m\u001B[0;34m[\u001B[0m\u001B[0;34m'This'\u001B[0m\u001B[0;34m,\u001B[0m\u001B[0;34m'is'\u001B[0m\u001B[0;34m,\u001B[0m\u001B[0;34m'the'\u001B[0m\u001B[0;34m,\u001B[0m\u001B[0;36m4\u001B[0m\u001B[0;34m,\u001B[0m\u001B[0;34m'th'\u001B[0m\u001B[0;34m,\u001B[0m\u001B[0;34m'key'\u001B[0m\u001B[0;34m]\u001B[0m\u001B[0;34m]\u001B[0m \u001B[0;34m=\u001B[0m \u001B[0;36m5\u001B[0m\u001B[0;34m\u001B[0m\u001B[0;34m\u001B[0m\u001B[0m\n\u001B[0m",
      "\u001B[0;31mTypeError\u001B[0m: unhashable type: 'list'"
     ]
    }
   ],
   "source": [
    "# what will be printed?\n",
    "x[['This','is','the',4,'th','key']] = 5"
   ]
  },
  {
   "cell_type": "markdown",
   "metadata": {
    "colab_type": "text",
    "id": "mhOTs_7uL9WB"
   },
   "source": [
    "<div dir=\"rtl\"> \n",
    "    יכולת חשובה מאוד בתכנות היא חיפוש באגים בגוגל! <br />\n",
    "    חיפוש קצר הביא אותנו לאתר השימושי \n",
    "    stackoverflow.com \n",
    "    שם מישהו קיבל *בדיוק* את אותה השגיאה. \n",
    "    מישהו אחר ענה לו בטוב ליבו - שלא ניתן להשתמש ברשימות בתור מפתחות במילון. \n",
    "    צריך מבנה נתונים אחר - כזה שברגע שהוא נוצר בזיכרון לא ניתן לערוך אותו אלא רק ליצור אחד חדש - הוא immutable. <br />\n",
    "    מבנה הנתונים הזה הוא הטאפל\n",
    "</div>\n",
    "\n",
    "\n"
   ]
  },
  {
   "cell_type": "code",
   "execution_count": 112,
   "metadata": {
    "colab": {},
    "colab_type": "code",
    "id": "4eCSNzpgL9WE"
   },
   "outputs": [
    {
     "data": {
      "text/plain": [
       "{'This is the first key': 'this is the first value',\n",
       " 'This is the second key': 2,\n",
       " 3: 'This is the third key',\n",
       " ('This', 'is', 'the', 4, 'th', 'key'): 4}"
      ]
     },
     "execution_count": 112,
     "metadata": {},
     "output_type": "execute_result"
    }
   ],
   "source": [
    "x[('This','is','the',4,'th','key')] = 4\n",
    "x"
   ]
  },
  {
   "cell_type": "markdown",
   "metadata": {
    "colab_type": "text",
    "id": "uPXlycdbL9WJ"
   },
   "source": [
    "<div dir=\"rtl\"> \n",
    "    למילונים יש פונקציות שימושיות נלוות שלא יהיה לנו זמן לדון בהן. <br />\n",
    "    get() keys() values() items()... <br />\n",
    "    <a>https://docs.python.org/3/library/stdtypes.html#typesmapping</a>\n",
    "</div>\n",
    "\n",
    "\n",
    "\n",
    "## <div dir=rtl>פונקציות</div>\n",
    "\n",
    "<div dir=\"rtl\"> \n",
    "    קטע קוד שרץ רק כשקוראים לו. על פונקציה מכריזים עם התחילית def.\n",
    "</div>\n"
   ]
  },
  {
   "cell_type": "code",
   "execution_count": 113,
   "metadata": {
    "colab": {},
    "colab_type": "code",
    "id": "pIh-Bt1nL9WK"
   },
   "outputs": [],
   "source": [
    "def first_function():\n",
    "    return \"Hello from a function\""
   ]
  },
  {
   "cell_type": "markdown",
   "metadata": {
    "colab_type": "text",
    "id": "FMvtVYnqL9WQ"
   },
   "source": [
    "<div dir=\"rtl\"> \n",
    "    מריצים את הבלוק ו..... לא קורה כלום. הפונקציה תרוץ רק כשיקראו לה.\n",
    "</div>\n"
   ]
  },
  {
   "cell_type": "code",
   "execution_count": 114,
   "metadata": {
    "colab": {},
    "colab_type": "code",
    "id": "6iq6gVrsL9WR"
   },
   "outputs": [
    {
     "data": {
      "text/plain": [
       "'Hello from a function'"
      ]
     },
     "execution_count": 114,
     "metadata": {},
     "output_type": "execute_result"
    }
   ],
   "source": [
    "first_function()"
   ]
  },
  {
   "cell_type": "markdown",
   "metadata": {
    "colab_type": "text",
    "id": "N-NoL8PAL9WZ"
   },
   "source": [
    "<div dir=\"rtl\"> \n",
    "    משתנה שהוכרז בגוף הקוד המרכזי יהיה זמין בכל פונקציה, אבל לא להפך:\n",
    "</div>"
   ]
  },
  {
   "cell_type": "code",
   "execution_count": 115,
   "metadata": {
    "colab": {},
    "colab_type": "code",
    "id": "EKwpeBytL9Wc"
   },
   "outputs": [
    {
     "data": {
      "text/plain": [
       "3.14159"
      ]
     },
     "execution_count": 115,
     "metadata": {},
     "output_type": "execute_result"
    }
   ],
   "source": [
    "this_is_a_global_variable = 3.14159\n",
    "\n",
    "def second_function():\n",
    "    return this_is_a_global_variable\n",
    "    \n",
    "second_function()"
   ]
  },
  {
   "cell_type": "markdown",
   "metadata": {
    "colab_type": "text",
    "id": "l8gS7LAEL9Wj"
   },
   "source": [
    "<div dir=\"rtl\"> \n",
    "    אבל\n",
    "</div>"
   ]
  },
  {
   "cell_type": "code",
   "execution_count": 116,
   "metadata": {
    "colab": {},
    "colab_type": "code",
    "id": "MQtl6IzbL9Wl"
   },
   "outputs": [
    {
     "ename": "NameError",
     "evalue": "name 'this_is_NOT_a_global_variable' is not defined",
     "output_type": "error",
     "traceback": [
      "\u001B[0;31m---------------------------------------------------------------------------\u001B[0m",
      "\u001B[0;31mNameError\u001B[0m                                 Traceback (most recent call last)",
      "\u001B[0;32m<ipython-input-116-f5e4afe8402d>\u001B[0m in \u001B[0;36m<module>\u001B[0;34m\u001B[0m\n\u001B[1;32m      5\u001B[0m \u001B[0mthird_function\u001B[0m\u001B[0;34m(\u001B[0m\u001B[0;34m)\u001B[0m\u001B[0;34m\u001B[0m\u001B[0;34m\u001B[0m\u001B[0m\n\u001B[1;32m      6\u001B[0m \u001B[0;34m\u001B[0m\u001B[0m\n\u001B[0;32m----> 7\u001B[0;31m \u001B[0mprint\u001B[0m\u001B[0;34m(\u001B[0m\u001B[0mthis_is_NOT_a_global_variable\u001B[0m\u001B[0;34m)\u001B[0m\u001B[0;34m\u001B[0m\u001B[0;34m\u001B[0m\u001B[0m\n\u001B[0m",
      "\u001B[0;31mNameError\u001B[0m: name 'this_is_NOT_a_global_variable' is not defined"
     ]
    }
   ],
   "source": [
    "def third_function():\n",
    "    this_is_NOT_a_global_variable = 2.718\n",
    "    \n",
    "\n",
    "third_function()\n",
    "\n",
    "print(this_is_NOT_a_global_variable)"
   ]
  },
  {
   "cell_type": "markdown",
   "metadata": {
    "colab_type": "text",
    "id": "tbvXbkkjL9W5"
   },
   "source": [
    "<div dir=\"rtl\"> \n",
    "    מה שהוגדר בתוך פונקציה לא זמין מחוץ לה. <br /> \n",
    "    כדי לייצא ערכים מתוך פונקציה מחזירים אותם:\n",
    "</div>"
   ]
  },
  {
   "cell_type": "code",
   "execution_count": 117,
   "metadata": {
    "colab": {},
    "colab_type": "code",
    "id": "hiFrBrvWL9W7"
   },
   "outputs": [
    {
     "data": {
      "text/plain": [
       "2.718"
      ]
     },
     "execution_count": 117,
     "metadata": {},
     "output_type": "execute_result"
    }
   ],
   "source": [
    "def Nth_function():\n",
    "    this_is_not_a_global_variable = 2.718\n",
    "\n",
    "    return this_is_not_a_global_variable\n",
    "\n",
    "Nth_function()"
   ]
  },
  {
   "cell_type": "markdown",
   "metadata": {
    "colab_type": "text",
    "id": "iqcVQy1qL9XB"
   },
   "source": [
    "<div dir=\"rtl\"> \n",
    "    לפונקציה אפשר להכניס ערכים בתור פרמטרים. <br />\n",
    "    למטה מוצגות כמה דרכים שונות ושימושיות.\n",
    "</div>"
   ]
  },
  {
   "cell_type": "code",
   "execution_count": 120,
   "metadata": {
    "colab": {},
    "colab_type": "code",
    "id": "NwksAdSqL9XD"
   },
   "outputs": [
    {
     "data": {
      "text/plain": [
       "3000.0"
      ]
     },
     "execution_count": 120,
     "metadata": {},
     "output_type": "execute_result"
    }
   ],
   "source": [
    "def Nth_function(a,b,c):\n",
    "    return a*b*c\n",
    "\n",
    "Nth_function(1,3,1e3)"
   ]
  },
  {
   "cell_type": "code",
   "execution_count": 121,
   "metadata": {
    "colab": {},
    "colab_type": "code",
    "id": "V97rFLPOL9XK"
   },
   "outputs": [
    {
     "name": "stdout",
     "output_type": "stream",
     "text": [
      "(1, 3, 1000.0)\n"
     ]
    },
    {
     "data": {
      "text/plain": [
       "3000.0"
      ]
     },
     "execution_count": 121,
     "metadata": {},
     "output_type": "execute_result"
    }
   ],
   "source": [
    "def Nth_function(*argv):\n",
    "    '''\n",
    "    argv is a list.\n",
    "    By the way - this is how you write multi-line comments...\n",
    "    '''\n",
    "    output = 1\n",
    "    \n",
    "    for arg in argv:\n",
    "        output *= arg\n",
    "    \n",
    "    return output\n",
    "\n",
    "Nth_function(1,3,1e3)"
   ]
  },
  {
   "cell_type": "code",
   "execution_count": 86,
   "metadata": {
    "colab": {},
    "colab_type": "code",
    "id": "oVSwooGKL9XP"
   },
   "outputs": [
    {
     "name": "stdout",
     "output_type": "stream",
     "text": [
      "{'a': 1, 'b': 3, 'c': 1000.0, 'd': 'what is d?', 'e': 'last name'}\n"
     ]
    },
    {
     "data": {
      "text/plain": [
       "3000.0"
      ]
     },
     "execution_count": 86,
     "metadata": {},
     "output_type": "execute_result"
    }
   ],
   "source": [
    "def Nth_function(**keyword_arguments):\n",
    "    '''\n",
    "    keyword_arguments (or kwargs) is a dict\n",
    "    '''\n",
    "    a = keyword_arguments['a']\n",
    "    b = keyword_arguments['b']\n",
    "    c = keyword_arguments['c']\n",
    "    \n",
    "    return a*b*c\n",
    "\n",
    "\n",
    "Nth_function(a=1, b=3, c=1e3, d=\"what is d?\", e='last name')"
   ]
  },
  {
   "cell_type": "markdown",
   "metadata": {
    "colab_type": "text",
    "id": "Vzs6bjC0L9XU"
   },
   "source": [
    "## <div dir=rtl>מחלקות - class</div>\n",
    "\n",
    "<div dir=\"rtl\"> \n",
    "    פייתון היא שפה מונחית עצמים. מחלקה מגדירה טיפוס אופייני - הקלאס - ולו פונקציות ששייכות לו ומאפיינים שלו. אחרי שהגדרנו את הטיפוס האופייני, מגדירים אובייקטים ששייכים לאותו הטיפוס - instance: \n",
    "</div>"
   ]
  },
  {
   "cell_type": "code",
   "execution_count": 34,
   "metadata": {
    "colab": {},
    "colab_type": "code",
    "id": "mSjyyINvL9XV"
   },
   "outputs": [
    {
     "data": {
      "text/plain": [
       "__main__.bad_guy"
      ]
     },
     "execution_count": 34,
     "metadata": {},
     "output_type": "execute_result"
    }
   ],
   "source": [
    "class bad_guy:\n",
    "    # This is an empty class\n",
    "    # By the way - this is how you write single line comments.\n",
    "    pass\n",
    "\n",
    "\n",
    "thanos = bad_guy()\n",
    "\n",
    "type(thanos)"
   ]
  },
  {
   "cell_type": "markdown",
   "metadata": {
    "colab_type": "text",
    "id": "Q39fPyQtL9Xc"
   },
   "source": [
    "<div dir=\"rtl\"> \n",
    "    thanos הוא instance של מלחקה bad_guy. <br />\n",
    "    לאוביקט יש מתודה - methods - פונקציה השייכת למחלקה.\n",
    "    מתודה מגדירים כמו פונקציה רק בתוך המחלקה ועם הארגומנט self.\n",
    "    מתודה חשובה היא __init__ שרצה כשהאובייקט נוצר.\n",
    "\n",
    "</div>"
   ]
  },
  {
   "cell_type": "code",
   "execution_count": 35,
   "metadata": {
    "colab": {},
    "colab_type": "code",
    "id": "nlH1Uy6GL9Xd"
   },
   "outputs": [
    {
     "name": "stdout",
     "output_type": "stream",
     "text": [
      "Mr Stark, I dont feel so good...\n"
     ]
    }
   ],
   "source": [
    "class good_guy:\n",
    "    def __init__(self, last_name):\n",
    "        self.last_name = last_name\n",
    "    \n",
    "    def what_is_your_name(self):\n",
    "        return self.last_name\n",
    "    \n",
    "\n",
    "IM = good_guy('Stark')\n",
    "print(f'Mr {IM.what_is_your_name()}, I dont feel so good...')"
   ]
  },
  {
   "cell_type": "markdown",
   "metadata": {
    "colab_type": "text",
    "id": "0JICljEcL9Xh"
   },
   "source": [
    "<div dir=\"rtl\"> \n",
    "    כאן הגדרנו משתנה מחלקה בשם last_name.\n",
    "    כל מתודה מתנהג כמו פונקציה - משתנה שנוצר בתוכה נהרס כשהמתודה מסיימת. \n",
    "    משתנה מחלקה מוגדר על ידי self ויהיה זמין מכל נקודה במחלקה אחרי שהוא נוצר. <br />\n",
    "    הפונקציה what_is_you_name היא מתודה משום שהיא מוגדרת על ידי self. \n",
    "\n",
    "</div>"
   ]
  },
  {
   "cell_type": "markdown",
   "metadata": {
    "colab_type": "text",
    "id": "7oKuf3xnL9Xi"
   },
   "source": [
    "# <div dir=rtl> חבילות - numpy </div>\n",
    "<div dir=rtl> \n",
    "    חבילות הן קטע קוד חיצוני שנכתב בפייתון. חבילות הופכות את התכנות למודולרי - הן מאפשרות שבירה של קוד ארוך ומתוכחם לכמה קבצים ולתיקיות, כך שניתן לסדר את הקוד לפי היררכיה או מחלקות שונות או כל דרך שנבחר.<br /> \n",
    "    נתחיל בחבילה שימושית לכל קוד מתמטי - NumPy.\n",
    "</div>\n"
   ]
  },
  {
   "cell_type": "code",
   "execution_count": 123,
   "metadata": {
    "colab": {},
    "colab_type": "code",
    "id": "m7nCl-3KL9Xk"
   },
   "outputs": [],
   "source": [
    "import numpy as np"
   ]
  },
  {
   "cell_type": "markdown",
   "metadata": {
    "colab_type": "text",
    "id": "pAXTwBGvL9Xo"
   },
   "source": [
    "<div dir=rtl> \n",
    "    הסיומת as np היא לנוחות בלבד.\n",
    "</div>"
   ]
  },
  {
   "cell_type": "code",
   "execution_count": 124,
   "metadata": {
    "colab": {},
    "colab_type": "code",
    "id": "PTJ4Ne_wL9Xp"
   },
   "outputs": [
    {
     "data": {
      "text/plain": [
       "'1.20.0'"
      ]
     },
     "execution_count": 124,
     "metadata": {},
     "output_type": "execute_result"
    }
   ],
   "source": [
    "np.__version__"
   ]
  },
  {
   "cell_type": "markdown",
   "metadata": {
    "colab_type": "text",
    "id": "bcTWDPCnL9Xw"
   },
   "source": [
    "<div dir=rtl> \n",
    "    מה עושים עם נאמפיי? דבר שימושי בג'ופיטר הוא שיש דוקומנטציה מובנית:\n",
    "</div>"
   ]
  },
  {
   "cell_type": "code",
   "execution_count": 125,
   "metadata": {
    "colab": {},
    "colab_type": "code",
    "id": "lF79B-QGL9Xx"
   },
   "outputs": [],
   "source": [
    "np?"
   ]
  },
  {
   "cell_type": "markdown",
   "metadata": {
    "colab_type": "text",
    "id": "uiO5qPANL9X1"
   },
   "source": [
    "<div dir=rtl> \n",
    "    ניצור מטריצה כלשהי ונבדוק את המאפיינים שלה.\n",
    "</div>"
   ]
  },
  {
   "cell_type": "code",
   "execution_count": 126,
   "metadata": {
    "colab": {},
    "colab_type": "code",
    "id": "wVcLGHwRL9X6"
   },
   "outputs": [
    {
     "data": {
      "text/plain": [
       "array([[0., 0., 0., 0.],\n",
       "       [0., 0., 0., 0.],\n",
       "       [0., 0., 0., 0.]])"
      ]
     },
     "execution_count": 126,
     "metadata": {},
     "output_type": "execute_result"
    }
   ],
   "source": [
    "x = np.zeros((3,4))\n",
    "x"
   ]
  },
  {
   "cell_type": "markdown",
   "metadata": {
    "colab_type": "text",
    "id": "U7ii0zA9L9X_"
   },
   "source": [
    "<div dir=rtl> \n",
    "    כל מטריצה היא אובייקט נאמפיי שעבורו יש את המאפיינים הבאים:\n",
    "    <br />ndim - מספר המימדים של המטריצה\n",
    "    <br />shape - הגודל של כל מימד\n",
    "    <br />size - מספר האיברים במטריצה\n",
    "</div>"
   ]
  },
  {
   "cell_type": "code",
   "execution_count": 127,
   "metadata": {
    "colab": {},
    "colab_type": "code",
    "id": "HrxzHILYL9YB"
   },
   "outputs": [
    {
     "name": "stdout",
     "output_type": "stream",
     "text": [
      "2\n",
      "(3, 4)\n",
      "12\n"
     ]
    }
   ],
   "source": [
    "print(x.ndim)\n",
    "print(x.shape)\n",
    "print(x.size)"
   ]
  },
  {
   "cell_type": "code",
   "execution_count": 128,
   "metadata": {
    "colab": {},
    "colab_type": "code",
    "id": "1qRgrdO_L9YJ"
   },
   "outputs": [
    {
     "data": {
      "text/plain": [
       "array([[1., 0., 0.],\n",
       "       [0., 1., 0.],\n",
       "       [0., 0., 1.]])"
      ]
     },
     "execution_count": 128,
     "metadata": {},
     "output_type": "execute_result"
    }
   ],
   "source": [
    "x = np.eye(3)\n",
    "x"
   ]
  },
  {
   "cell_type": "markdown",
   "metadata": {},
   "source": [
    "<div dir=rtl> \n",
    "אם אנחנו לא מכירים את הפונקציה eye, הדרך הטובה ביותר היא פשוט לחפש אותה בגוגל\n",
    "</div>"
   ]
  },
  {
   "cell_type": "markdown",
   "metadata": {
    "colab_type": "text",
    "id": "f5XOfawKL9YN"
   },
   "source": [
    "<div dir=rtl> \n",
    "    לכל מטריצה יש פרמטר נוסף - dtype - הקובע אילו ערכים יכולים להיות בכל תא (\"מעל איזה שדה המטריצה מוגדרת\")\n",
    "</div>\n",
    "\n",
    " - np.int8\n",
    " - np.int16\n",
    " - np.int32\n",
    " - np.float32\n",
    " - np.bool_\n",
    " - np.string_ (S1, S2, ..... S100, ... )\n",
    " - np.object\n",
    " - ..."
   ]
  },
  {
   "cell_type": "code",
   "execution_count": 129,
   "metadata": {
    "colab": {},
    "colab_type": "code",
    "id": "Jp0HfiPtL9YO"
   },
   "outputs": [
    {
     "data": {
      "text/plain": [
       "dtype('float64')"
      ]
     },
     "execution_count": 129,
     "metadata": {},
     "output_type": "execute_result"
    }
   ],
   "source": [
    "x.dtype"
   ]
  },
  {
   "cell_type": "code",
   "execution_count": 43,
   "metadata": {
    "colab": {},
    "colab_type": "code",
    "id": "ykhb3-AmL9YR"
   },
   "outputs": [],
   "source": [
    "x.astype?"
   ]
  },
  {
   "cell_type": "markdown",
   "metadata": {
    "colab_type": "text",
    "id": "JHM-H_rJL9YY"
   },
   "source": [
    "## <div dir=rtl> Indexing </div>\n",
    "<div dir=rtl>\n",
    "    פעולות חיתוך מתוחכמות יכולות לחסוך מאיתנו ריבוי שורות קוד וחישובים מיותרים. <br />\n",
    "    האינדקסים בנאמפיי הולכים לפי האינדקסים המוכרים מאלגברה לינארית\n",
    "\n",
    "</div>\n",
    "\n",
    "![](2.1.png)"
   ]
  },
  {
   "cell_type": "code",
   "execution_count": 130,
   "metadata": {
    "colab": {},
    "colab_type": "code",
    "id": "azh7xcb5L9YZ"
   },
   "outputs": [
    {
     "data": {
      "text/plain": [
       "array([0, 1, 2, 3, 4, 5, 6, 7, 8])"
      ]
     },
     "execution_count": 130,
     "metadata": {},
     "output_type": "execute_result"
    }
   ],
   "source": [
    "x = np.arange(9)\n",
    "x"
   ]
  },
  {
   "cell_type": "code",
   "execution_count": 131,
   "metadata": {
    "colab": {},
    "colab_type": "code",
    "id": "FHe7cXMgL9Yb"
   },
   "outputs": [
    {
     "data": {
      "text/plain": [
       "array([[0, 1, 2],\n",
       "       [3, 4, 5],\n",
       "       [6, 7, 8]])"
      ]
     },
     "execution_count": 131,
     "metadata": {},
     "output_type": "execute_result"
    }
   ],
   "source": [
    "x = x.reshape((3,3))\n",
    "x"
   ]
  },
  {
   "cell_type": "code",
   "execution_count": 132,
   "metadata": {},
   "outputs": [
    {
     "data": {
      "text/plain": [
       "8"
      ]
     },
     "execution_count": 132,
     "metadata": {},
     "output_type": "execute_result"
    }
   ],
   "source": [
    "row = 2\n",
    "column = 2\n",
    "x[row,column]"
   ]
  },
  {
   "cell_type": "code",
   "execution_count": 133,
   "metadata": {
    "colab": {},
    "colab_type": "code",
    "id": "lVJ3GkADL9Yg"
   },
   "outputs": [
    {
     "data": {
      "text/plain": [
       "array([[6, 7, 8],\n",
       "       [3, 4, 5],\n",
       "       [0, 1, 2]])"
      ]
     },
     "execution_count": 133,
     "metadata": {},
     "output_type": "execute_result"
    }
   ],
   "source": [
    "x[::-1,:]"
   ]
  },
  {
   "cell_type": "code",
   "execution_count": 134,
   "metadata": {
    "colab": {},
    "colab_type": "code",
    "id": "C7gV6Zn6L9Yl"
   },
   "outputs": [
    {
     "data": {
      "text/plain": [
       "array([[8, 7, 6],\n",
       "       [5, 4, 3],\n",
       "       [2, 1, 0]])"
      ]
     },
     "execution_count": 134,
     "metadata": {},
     "output_type": "execute_result"
    }
   ],
   "source": [
    "x[::-1,::-1]"
   ]
  },
  {
   "cell_type": "markdown",
   "metadata": {
    "colab_type": "text",
    "id": "Jey6m2AdL9Yp"
   },
   "source": [
    "<div dir=rtl>\n",
    "    נאמפיי יודע גם לחתוך לפי בוליאנים:\n",
    "</div>"
   ]
  },
  {
   "cell_type": "code",
   "execution_count": 135,
   "metadata": {
    "colab": {},
    "colab_type": "code",
    "id": "2HR1hDmVL9Yq"
   },
   "outputs": [
    {
     "data": {
      "text/plain": [
       "array([[ True,  True,  True],\n",
       "       [ True,  True, False],\n",
       "       [False, False, False]])"
      ]
     },
     "execution_count": 135,
     "metadata": {},
     "output_type": "execute_result"
    }
   ],
   "source": [
    "x<5"
   ]
  },
  {
   "cell_type": "code",
   "execution_count": 136,
   "metadata": {
    "colab": {},
    "colab_type": "code",
    "id": "uqeYriHWL9Yu"
   },
   "outputs": [
    {
     "data": {
      "text/plain": [
       "array([0, 1, 2, 3, 4])"
      ]
     },
     "execution_count": 136,
     "metadata": {},
     "output_type": "execute_result"
    }
   ],
   "source": [
    "x[x<5]"
   ]
  },
  {
   "cell_type": "code",
   "execution_count": null,
   "metadata": {},
   "outputs": [],
   "source": []
  }
 ],
 "metadata": {
  "colab": {
   "name": "1_recitation_1.ipynb",
   "provenance": []
  },
  "kernelspec": {
   "display_name": "Python 3",
   "language": "python",
   "name": "python3"
  },
  "language_info": {
   "codemirror_mode": {
    "name": "ipython",
    "version": 3
   },
   "file_extension": ".py",
   "mimetype": "text/x-python",
   "name": "python",
   "nbconvert_exporter": "python",
   "pygments_lexer": "ipython3",
   "version": "3.7.5"
  }
 },
 "nbformat": 4,
 "nbformat_minor": 1
}