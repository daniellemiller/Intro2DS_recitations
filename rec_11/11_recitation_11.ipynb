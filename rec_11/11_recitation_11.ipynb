{
 "cells": [
  {
   "cell_type": "markdown",
   "metadata": {},
   "source": [
    "# <div dir=rtl> תרגול אחת עשרה - Neural Networks: Perceptron & Multilayered Perceptron </div>\n",
    "\n",
    "<div dir=rtl>\n",
    "     \n",
    "</div>"
   ]
  },
  {
   "cell_type": "markdown",
   "metadata": {},
   "source": [
    "<div dir=rtl>\n",
    "    בתרגול זה נכיר מודל אחד של רשת נוירונים - מודל פרספטרון רב שכבתי. נראה תחילה דוגמה לרשת כזו המכילה 12 אינפוטים, שתי שכבות נסתרות עם חמישה נוירונים כל אחת ושכבת אאוטפוט עם שני נוירונים:\n",
    "</div>\n",
    "\n",
    "![](https://www.kdnuggets.com/wp-content/uploads/strika-1-fig_neural_network_1.png)\n",
    "\n",
    "<div dir=rtl>\n",
    "    לפני שנבין מה הרשת עושה, נתמקד תחילה באבן היסוד שלה - הפרספטרון:\n",
    "</div>\n",
    "\n",
    "![](https://www.allaboutcircuits.com/uploads/articles/how-to-train-a-basic-perceptron-neural-network_rk_aac_image1.jpg)\n",
    "\n",
    "<div dir=rtl>\n",
    "    הפרספטרון הוא למעשה פונקציה המכילה פרמטרים. בהינתן אינפוט, הפרספטרון כופל את הפרמטרים באינפוטים, סוכם, מחיל פונקציה כלשהי על התוצאה ופולט מספר אחד ויחיד בתור פלט:\n",
    "</div>\n",
    "\n",
    "\\begin{align}\n",
    "Z = w_0 + a_1 \\cdot w_1 + a_2 \\cdot w_2 = W \\cdot A\\\\\n",
    "output_0 = f(Z)\\\\\n",
    "f(x) = \\sigma (x) \\\\ \\\\\n",
    "Z > 0 \\rightarrow output_0 > 0.5 \\\\ \n",
    "Z < 0 \\rightarrow output_0 < 0.5\n",
    "\\end{align}\n",
    "\n",
    "<div dir=rtl>\n",
    "    מהמשוואות למעלה אנחנו מבינים שאת הסכימה ניתן לבטא ככפל מטריצה בווקטור. <br />\n",
    "    כאשר מחילים פונקציה מסוג סיגמואיד (כמו שמוצג באיור) הנוירון יצביע על הסתברות גדולה מחצי אם תוצאת הסכימה גדולה מ0, ועל הסתברות קטנה מחצי אם תוצאת הסכימה קטנה מאפס.\n",
    "    <br />\n",
    "    נראה מוכר? זה בדיוק המשוואות של רגרסיה לוגיסטית.\n",
    "</div>\n",
    "\n",
    "## <div dir=rtl> שאלה 1</div>\n",
    "<div dir=rtl>\n",
    "    א. נותונים דאטא בקובץ 11_data_1.csv. טענו את הקובץ ושרטטו את הנתונים.\n",
    "</div>"
   ]
  },
  {
   "cell_type": "code",
   "execution_count": null,
   "metadata": {},
   "outputs": [],
   "source": [
    "import pandas as pd\n",
    "import matplotlib.pyplot as plt\n",
    "\n",
    "data1 = pd.read_csv('11_data_1.csv')\n",
    "display(data1.sample(5))\n",
    "print(data1.shape)"
   ]
  },
  {
   "cell_type": "code",
   "execution_count": null,
   "metadata": {},
   "outputs": [],
   "source": [
    "params = {'legend.fontsize': 'x-large',\n",
    "          'figure.figsize': (10, 5),\n",
    "         'axes.labelsize': 'x-large',\n",
    "         'axes.titlesize':'x-large',\n",
    "         'xtick.labelsize':'x-large',\n",
    "         'ytick.labelsize':'x-large',\n",
    "         'axes.grid':True,\n",
    "         'axes.grid.which':'both'\n",
    "         }\n",
    "plt.rcParams.update(params)\n",
    "\n",
    "data1.plot.scatter(\n",
    "    x='x',\n",
    "    y='y',\n",
    "    c='class',\n",
    "    cmap='jet',\n",
    "    sharex=False,\n",
    "    s=100\n",
    ")"
   ]
  },
  {
   "cell_type": "markdown",
   "metadata": {},
   "source": [
    "<div dir=rtl>\n",
    "    ב. מצאו בעזרת מודל הפרספטרון מפריד לינארי להפרדה בין שתי המחלקות.\n",
    "</div>\n",
    "\n",
    "<div dir=rtl>\n",
    "    נכיר את הפרקטיקה מאחורי רשתות נוירונים. בעולם הזה קיימות שתי ספריות לפייתון: TensorFlow מבית גוגל ו PyTorch מבית פייסבוק.\n",
    "    <br />\n",
    "    אנחנו נכיר את הספרייה PyTorch המייצגת איזון \"טוב\" בין נוחות ושקיפות של המודל.\n",
    "    <br />\n",
    "    נבנה מודל פרספטרון אחד - רשת לינארית למעבר משני אינפוטים לאאוטפוט אחד ופונקצית סיגמואיד.\n",
    "</div>"
   ]
  },
  {
   "cell_type": "code",
   "execution_count": null,
   "metadata": {},
   "outputs": [],
   "source": [
    "import torch\n",
    "import torch.nn as nn\n",
    "from torchsummary import summary\n",
    "\n",
    "model = nn.Sequential(\n",
    "    nn.Linear(2,1),\n",
    "    nn.Sigmoid()\n",
    ")\n",
    "\n",
    "\n",
    "mse_loss = nn.MSELoss()\n",
    "optimizer = torch.optim.SGD(model.parameters(), lr=1)\n",
    "\n",
    "summary(model,(40,2))"
   ]
  },
  {
   "cell_type": "markdown",
   "metadata": {},
   "source": [
    "<div dir=rtl>\n",
    "    למעלה מוצג המודל. נשים לב שאחרי שהגדרנו את המודל, הגדרנו מה תהיה השגיאה - שגיאת L2 רגילה - ואיך נבצע את הצעדים במורד הגרדיאנט - על ידי Stochastic Gradient Descent.\n",
    "    <br />\n",
    "    כל שנותר הוא לאמן:\n",
    "</div>"
   ]
  },
  {
   "cell_type": "code",
   "execution_count": null,
   "metadata": {},
   "outputs": [],
   "source": [
    "losses = list()\n",
    "\n",
    "model.train()\n",
    "\n",
    "input_tensor = torch.Tensor(\n",
    "    data1[['x','y']].values\n",
    ")\n",
    "target = torch.Tensor(\n",
    "    data1['class'].values\n",
    ")\n",
    "\n",
    "for epoch in range(100):\n",
    "    output = model(input_tensor)\n",
    "\n",
    "    loss = mse_loss(output.view(-1), target)\n",
    "\n",
    "    optimizer.zero_grad()\n",
    "    loss.backward()\n",
    "    optimizer.step()\n",
    "\n",
    "\n",
    "    losses.append(loss.item())\n",
    "\n",
    "plt.plot(losses)\n",
    "plt.xlabel('Epoch')\n",
    "plt.ylabel('L2 Loss')\n"
   ]
  },
  {
   "cell_type": "markdown",
   "metadata": {},
   "source": [
    "<div dir=rtl>\n",
    "    מעבר אחד על כל הדאטא לרוב מוגדר בתור אפוק. לכל אפוק נבקש פרדיקציות מהמודל. נשווה את הפרדיקציות לליבלים ונמצא מה השגיאה. פייטורצ' יודעת לחשב עבורינו את הגרדיאנטים של המודל (backward) ולבצע צעד במורד הגרדיאנט (step). \n",
    "</div>\n",
    "<div dir=rtl>\n",
    "    ננסה להבין מה המודל מצא באמצעות הטבלה למטה. \n",
    "</div>\n"
   ]
  },
  {
   "cell_type": "code",
   "execution_count": null,
   "metadata": {},
   "outputs": [],
   "source": [
    "pd.concat(\n",
    "    [\n",
    "        data1['class'],\n",
    "        pd.DataFrame(output.detach().numpy(), columns=[\"model output\"])\n",
    "    ],\n",
    "    axis=1\n",
    ").sample(5)"
   ]
  },
  {
   "cell_type": "markdown",
   "metadata": {},
   "source": [
    "<div dir=rtl>\n",
    "    נשים לב שלכל דגימה יש הסתברות. נאמר שאם ההסבתרות גדולה מ0.5 הדגימה שייכת למחלקה 1, אחרת - 0. \n",
    "</div>\n",
    "\n",
    "<div dir=rtl>\n",
    "    לבסוף נמצא את המפריד הלינארי.\n",
    "</div>"
   ]
  },
  {
   "cell_type": "code",
   "execution_count": null,
   "metadata": {},
   "outputs": [],
   "source": [
    "import numpy as np\n",
    "\n",
    "def return_line(weight,b):\n",
    "    ax, ay = weight.detach().squeeze().numpy() #get coeffs\n",
    "    b = b.item()\n",
    "    xs = np.arange(-2, 2, 0.1)\n",
    "\n",
    "    ys = (-1 * ax * xs - b) / ay\n",
    "\n",
    "    return xs, ys\n",
    "\n",
    "data1.plot.scatter(\n",
    "    x='x',\n",
    "    y='y',\n",
    "    c='class',\n",
    "    cmap='jet',\n",
    "    sharex=False,\n",
    "    s=100\n",
    ")\n",
    "\n",
    "xs,ys = return_line(\n",
    "    model._modules['0'].weight,\n",
    "    model._modules['0'].bias\n",
    ")\n",
    "plt.plot(xs,ys)"
   ]
  },
  {
   "cell_type": "markdown",
   "metadata": {},
   "source": [
    "## <div dir=rtl> שאלה 2</div>\n",
    "\n",
    "\n",
    "<div dir=rtl>\n",
    "    א. נתונים דאטא בקובץ 11_data2.csv. באופן דומה לשאלה 1 - שרטטו את הנתונים ומצאו מפריד לינארי לסיווג בין המחלקות.\n",
    "</div>"
   ]
  },
  {
   "cell_type": "code",
   "execution_count": null,
   "metadata": {},
   "outputs": [],
   "source": [
    "data2 = pd.read_csv('11_data_2.csv')\n",
    "data2.plot.scatter(\n",
    "    x='x',\n",
    "    y='y',\n",
    "    c='class',\n",
    "    cmap='jet',\n",
    "    sharex=False,\n",
    "    s=100\n",
    ")"
   ]
  },
  {
   "cell_type": "markdown",
   "metadata": {},
   "source": [
    "<div dir=rtl>\n",
    "    נשים לב לפיזור של המחלקות במישור. הפיזור הולך לפי החיוביות או השליליות של הצירים, רק עם רעש. פיזור כזה נוצר על ידי פונקציית XOR עם רעש על הצירים והבעיה ידועה בתור בעיית ה XOR. האם ניתן למצוא מפריד לינארי? לא. מודל פרפסטרון יכשל במקרה כזה.\n",
    "    <br />\n",
    "</div>"
   ]
  },
  {
   "cell_type": "code",
   "execution_count": null,
   "metadata": {},
   "outputs": [],
   "source": [
    "#simulated xor function\n",
    "\n",
    "x = np.random.uniform(low=-4, high=4, size=(400,2))\n",
    "y = np.bitwise_xor(np.sign(x[:,0]).astype(int),np.sign(x[:,1]).astype(int))\n",
    "plt.scatter(x[:,0],x[:,1],c=y)\n",
    "plt.xlabel('X1')\n",
    "plt.ylabel('X2')\n",
    "\n",
    "plt.show()"
   ]
  },
  {
   "cell_type": "markdown",
   "metadata": {},
   "source": [
    "<div dir=rtl>\n",
    "נעשה טריק. נשכפל את הדאטא, נכפיל את הנקודות במטריצת מעבר כלשהי ונוסיף היסט כלשהו, ולבסוף נפעיל טנגנס היפרבולי. כרגע נתעלם מבעיית המציאה של המטריצה וההיסט.\n",
    "</div>"
   ]
  },
  {
   "cell_type": "code",
   "execution_count": null,
   "metadata": {},
   "outputs": [],
   "source": [
    "data2_2 = data2.copy()\n",
    "\n",
    "transform = np.array(\n",
    "    [[-1.6764, -0.6350],\n",
    "     [ 3.9198, -1.5375]]\n",
    ")\n",
    "\n",
    "bias = np.array([[ 1.8471, -3.3447]])\n",
    "\n",
    "data2_2 = data2.copy()\n",
    "\n",
    "data2_2[['x','y']] = np.tanh(\n",
    "    data2[['x','y']].dot(transform.T) + bias\n",
    ")\n",
    "\n",
    "data2_2.plot.scatter(\n",
    "    x=0,\n",
    "    y=1,\n",
    "    c='class',\n",
    "    cmap='jet',\n",
    "    sharex=False,\n",
    "    s=100\n",
    ")\n"
   ]
  },
  {
   "cell_type": "code",
   "execution_count": null,
   "metadata": {},
   "outputs": [],
   "source": [
    "model = nn.Sequential(\n",
    "    nn.Linear(2,1),\n",
    "    nn.Sigmoid()\n",
    ")\n",
    "\n",
    "\n",
    "mse_loss = nn.MSELoss()\n",
    "optimizer = torch.optim.SGD(model.parameters(), lr=1)\n",
    "\n",
    "losses = list()\n",
    "\n",
    "model.train()\n",
    "\n",
    "input_tensor = torch.Tensor(\n",
    "    data2_2[['x','y']].values\n",
    ")\n",
    "target = torch.Tensor(\n",
    "    data2_2['class'].values\n",
    ")\n",
    "\n",
    "for epoch in range(100):\n",
    "    output = model(input_tensor)\n",
    "\n",
    "    loss = mse_loss(output.view(-1), target)\n",
    "\n",
    "    optimizer.zero_grad()\n",
    "    loss.backward()\n",
    "    optimizer.step()\n",
    "\n",
    "    losses.append(loss.item())\n",
    "\n",
    "    \n",
    "data2_2.plot.scatter(\n",
    "    x='x',\n",
    "    y='y',\n",
    "    c='class',\n",
    "    cmap='jet',\n",
    "    sharex=False,\n",
    "    s=100\n",
    ")\n",
    "\n",
    "xs,ys = return_line(\n",
    "    model._modules['0'].weight,\n",
    "    model._modules['0'].bias\n",
    ")\n",
    "plt.plot(xs,ys)\n",
    "plt.ylim(-1.1,1.1)\n",
    "plt.xlim(-1.1,1.1)"
   ]
  },
  {
   "attachments": {
    "image.png": {
     "image/png": "[encoded data removed]"
    }
   },
   "cell_type": "markdown",
   "metadata": {},
   "source": [
    "<div dir=rtl>\n",
    "     נשים לב לפיזור מעל - הוא ניתן להפרדה בצורה לינארית (אמנם אם שגיאה כי קיים רעש בדאטא).\n",
    "</div>\n",
    "<div dir=rtl>\n",
    "    חדי העין ישימו לב שהכפלה במטריצה, הוספת ביאס והפעלת פונקציה שקולה להוספת שכבה של פרספטרונים. מכאן נובע הצורך למודל פרספטרון רב שכבתי.\n",
    "</div>\n",
    "\n",
    "![]![image.png](attachment:image.png)\n",
    "\n",
    "<div dir=rtl>\n",
    "    על ידי הוספת שכבה אנחנו מסוגלים להעביראת הנקודות למרחב ווקטורי בו הן ניתנות להפרדה לינארית והמפריד ישמש כמו ברגרסיה לוגיסטית רגילה.\n",
    "    <br/>\n",
    "    לסיכום נראה שכל שכבה לינארית ניתנת לכתיבה ככפל מטריצה והוספת ביאס:\n",
    "</div>\n",
    "\n",
    "\\begin{align}\n",
    "Z = W \\cdot x + b \\\\\n",
    "y = f(Z)\n",
    "\\end{align}"
   ]
  },
  {
   "cell_type": "code",
   "execution_count": null,
   "metadata": {},
   "outputs": [],
   "source": [
    "# taken from https://colab.research.google.com/drive/1sKJfB5YAfAUD9PU-SNDGlMdKa9M7yCcH?usp=sharing#scrollTo=qHRQVH_6jUWd\n",
    "\n",
    "class XOR(nn.Module):\n",
    "    def __init__(self):\n",
    "        super(XOR, self).__init__()\n",
    "        self.linear = nn.Linear(2, 2)\n",
    "        self.Sigmoid = nn.Sigmoid()\n",
    "        self.linear2 = nn.Linear(2, 1)\n",
    "\n",
    "    def forward(self, input):\n",
    "        x = self.linear(input)\n",
    "        sig = self.Sigmoid(x)\n",
    "        yh = self.linear2(sig)\n",
    "        return yh\n",
    "\n",
    "xor_network = XOR()\n",
    "\n",
    "epochs = 100\n",
    "mseloss = nn.MSELoss()\n",
    "optimizer = torch.optim.Adam(xor_network.parameters(), lr = 0.03)\n",
    "all_losses = []\n",
    "\n",
    "\n",
    "for epoch in range(epochs):\n",
    "\n",
    "    # input training example and return the prediction\n",
    "    yhat = xor_network.forward(input_tensor)\n",
    "\n",
    "    # calculate MSE loss\n",
    "    loss = mseloss(yhat.view(-1), target)\n",
    "    \n",
    "    optimizer.zero_grad()\n",
    "    loss.backward()\n",
    "    optimizer.step()\n",
    "\n",
    "\n",
    "    all_losses.append(loss)\n",
    "\n",
    "# show weights and bias\n",
    "for name, param in xor_network.named_parameters():\n",
    "    if param.requires_grad:\n",
    "        print(name, param.data)"
   ]
  },
  {
   "cell_type": "code",
   "execution_count": null,
   "metadata": {},
   "outputs": [],
   "source": [
    "summary(xor_network,(40,2))"
   ]
  },
  {
   "cell_type": "markdown",
   "metadata": {},
   "source": [
    "\n",
    "## <div dir=rtl> שאלה 3</div>\n",
    "\n",
    "\n",
    "<div dir=rtl>\n",
    "     בשנת 1995 קבוצת מחקר מאוניברסיטת וויסקונסין שחררה מידע על אודות 569 דגימות מנגעים ברקמת השד - חלקם ממאירים וחלקים שפירים. החוקרים הפיקו נתונים כמותיים אודות גרעיני התאים שנצפו בדגימה תחת המיקרוסקופ ומטרתם הייתה לפתח כלי אוטומטי לאיבחון ממאירות של הנגע.\n",
    "    <br />\n",
    "    המידע זמין להורדה בחבילה sklearn.\n",
    "</div>\n",
    "<div dir=rtl>\n",
    "    <br />\n",
    "    א. טענו את הקובץ לאובייקט מסוג DataFrame.\n",
    "    הכינו את הדאטא לעבודה עם רשתות נוירונים.\n",
    "</div>\n",
    "\n",
    "<div dir=rtl>\n",
    "    על מנת להכין את הדאטא בצורה טובה ננרמל כך שיתקבלו מספרים קטנים ביחס לערכים שפונקציות לא לינאריות כמו סיגמואיד וטנגנס היפרבולי יכולות לקבל לפני שהן מגיעות לרוויה:\n",
    "</div>"
   ]
  },
  {
   "cell_type": "code",
   "execution_count": null,
   "metadata": {},
   "outputs": [],
   "source": [
    "from sklearn import datasets\n",
    "dataset = datasets.load_breast_cancer()\n",
    "\n",
    "data3 = pd.DataFrame(\n",
    "    \n",
    "    dataset['data'],\n",
    "    columns=dataset['feature_names']\n",
    "    \n",
    ")\n",
    "\n",
    "data3['diagnosis'] = dataset['target'] \n",
    "\n",
    "df_diagnosis = data3['diagnosis']\n",
    "\n",
    "data3 = (data3 - data3.mean()) / (data3.std() + 1e-10)\n",
    "\n",
    "data3['diagnosis'] = df_diagnosis\n",
    "data3.sample(5)\n"
   ]
  },
  {
   "cell_type": "code",
   "execution_count": null,
   "metadata": {},
   "outputs": [],
   "source": [
    "print(data3.shape)"
   ]
  },
  {
   "cell_type": "markdown",
   "metadata": {},
   "source": [
    "<div dir=rtl>\n",
    "    ב. חלקו את הדאטא לקבוצת אימון ולקבוצת וולידציה ואמנו מודל MLP לבחירתכם.\n",
    "</div>"
   ]
  },
  {
   "cell_type": "code",
   "execution_count": null,
   "metadata": {},
   "outputs": [],
   "source": [
    "from sklearn.model_selection import train_test_split\n",
    "\n",
    "data3_train, data3_val = train_test_split(\n",
    "    data3,\n",
    "    train_size = 0.8,\n",
    "    stratify = data3['diagnosis'],\n",
    "    random_state = 0\n",
    ")"
   ]
  },
  {
   "cell_type": "markdown",
   "metadata": {},
   "source": [
    "<div dir=rtl>\n",
    "    כעת נרצה לבחור מודל. ברשתות נוירונים קיימות דרגות חופש רבות ואת חלקן אין שיטה לפתור למעט על ידי ניסוי. בשכבת האינפוט ובשכבת האאוטפוט אנחנו מוגבלים. שכבת האינפוט יכולה לקבל מספר ערכים כמו שקיימים בדאטא. מכיוון שכאן אנחנו מקבלים 30 פיצ'רים - אנחנו מוגבלים ל30 נוירונים בשכבה. בשכבת האאוטפוט אנחנו מנסים לסווג ל2 מחלקות (חולה או בריא). אמנם ניתן להשתמש במימוש שראינו בשאלה 1 - נוירון בודד באאוטפוט שמקבל ערכים בין 0 ל 1, אנחנו נבחר להשתמש ב One Hot Encoding. נשתמש בשני אאוטפוטים בין אפס לאחת. האאוטפוט הראשון מייצג את ההסתברות להיות בריא, והשני את ההסתברות להיות חולה.\n",
    "</div>"
   ]
  },
  {
   "cell_type": "code",
   "execution_count": null,
   "metadata": {},
   "outputs": [],
   "source": [
    "model = nn.Sequential(\n",
    "    nn.Linear(30,10),\n",
    "    nn.Sigmoid(),\n",
    "    nn.Linear(10,2)\n",
    ")\n",
    "\n",
    "model.train()\n",
    "\n",
    "ce_loss = nn.CrossEntropyLoss()\n",
    "optimizer = torch.optim.SGD(model.parameters(), lr=1)\n",
    "\n",
    "losses = list()\n",
    "\n",
    "\n",
    "for epoch in range(100):\n",
    "    input = torch.Tensor(\n",
    "        data3_train.drop('diagnosis', axis='columns').values\n",
    "    )\n",
    "    target = torch.Tensor(\n",
    "        data3_train['diagnosis'].values\n",
    "    )\n",
    "    \n",
    "    output = model(input)\n",
    "\n",
    "    loss = ce_loss(output, target.long())\n",
    "\n",
    "    optimizer.zero_grad()\n",
    "    loss.backward()\n",
    "    optimizer.step()\n",
    "\n",
    "    losses.append(loss.item())\n",
    "    \n",
    "\n",
    "plt.plot(losses)\n",
    "plt.xlabel('Epoch')\n",
    "plt.ylabel('Cross Entropy Loss')\n",
    "\n",
    "summary(model, (569, 30))"
   ]
  },
  {
   "cell_type": "markdown",
   "metadata": {},
   "source": [
    "<div dir=rtl>\n",
    "    ניבחן על קבוצת הוולידציה:\n",
    "</div>"
   ]
  },
  {
   "cell_type": "code",
   "execution_count": null,
   "metadata": {},
   "outputs": [],
   "source": [
    "model.eval()\n",
    "\n",
    "input = torch.Tensor(\n",
    "    data3_val.drop('diagnosis', axis='columns').values\n",
    ")\n",
    "\n",
    "output = model(input).argmax(dim=1).detach().numpy()\n",
    "\n",
    "\n",
    "from sklearn.metrics import accuracy_score, precision_recall_fscore_support\n",
    "print(\"Accuracy:\", accuracy_score(data3_val['diagnosis'].values, output))\n",
    "print(\"Precision, Recall, F1:\", precision_recall_fscore_support(data3_val['diagnosis'].values, output, average='weighted'))"
   ]
  },
  {
   "cell_type": "markdown",
   "metadata": {},
   "source": [
    "\n",
    "<div dir=rtl>\n",
    "    זה מודל בסיסי בעולם של רשתות נוירונים. המודל הבסיסי הצליח להגיע לקלסיפיקציה מאוד גבוהה. זה זמן טוב לחשוב על יתרון ועל חיסרון של המודל. יתרון שלו הוא שהמודל יכול ללמוד ייצוג מאוד מורכב של הדאטא - הוא ימצא איך להעביר אותו למישור בו המחלקות ניתנות להפרדה בעצמו. חיסרון אחד (מיני רבים) הוא מספר הפרמטרים. במודל הפשוט שלנו יש למעלה מ300 פרמטרים - דבר שמצריך כמות דאטא מאוד גדולה לאימון.\n",
    "</div>"
   ]
  },
  {
   "cell_type": "code",
   "execution_count": null,
   "metadata": {},
   "outputs": [],
   "source": []
  }
 ],
 "metadata": {
  "kernelspec": {
   "display_name": "Python 3",
   "language": "python",
   "name": "python3"
  },
  "language_info": {
   "codemirror_mode": {
    "name": "ipython",
    "version": 3
   },
   "file_extension": ".py",
   "mimetype": "text/x-python",
   "name": "python",
   "nbconvert_exporter": "python",
   "pygments_lexer": "ipython3",
   "version": "3.7.5"
  }
 },
 "nbformat": 4,
 "nbformat_minor": 4
}
